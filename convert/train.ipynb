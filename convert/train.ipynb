{
 "cells": [
  {
   "cell_type": "code",
   "execution_count": 12,
   "metadata": {},
   "outputs": [
    {
     "name": "stdout",
     "output_type": "stream",
     "text": [
      "Requirement already satisfied: emoji in c:\\users\\rvv19\\appdata\\local\\programs\\python\\python312\\lib\\site-packages (2.14.0)\n"
     ]
    },
    {
     "name": "stderr",
     "output_type": "stream",
     "text": [
      "\n",
      "[notice] A new release of pip is available: 24.3.1 -> 25.0.1\n",
      "[notice] To update, run: python.exe -m pip install --upgrade pip\n"
     ]
    }
   ],
   "source": [
    "!pip install emoji"
   ]
  },
  {
   "cell_type": "code",
   "execution_count": 4,
   "metadata": {},
   "outputs": [],
   "source": [
    "\n",
    "import pandas as pd\n",
    "import nltk\n",
    "from nltk.corpus import stopwords\n",
    "from wordcloud import WordCloud\n",
    "from nltk.tokenize import NLTKWordTokenizer\n",
    "from nltk.stem.wordnet import WordNetLemmatizer\n",
    "import re\n",
    "import emoji\n",
    "import matplotlib.pyplot as plt\n",
    "import seaborn as sns\n",
    "import numpy as np\n",
    "from sklearn.feature_extraction.text import CountVectorizer, TfidfVectorizer\n",
    "from collections import Counter\n",
    "from sklearn.manifold import TSNE\n",
    "from sklearn.decomposition import PCA"
   ]
  },
  {
   "cell_type": "code",
   "execution_count": 5,
   "metadata": {},
   "outputs": [],
   "source": [
    "# получим список стоп слов.\n",
    "nltk_stop_words = set(stopwords.words(\"russian\"))\n",
    "#Lemmatizing the text\n",
    "wnl = WordNetLemmatizer()\n",
    "\n",
    "EMOTIONS = ['anger', 'disgust', 'fear', 'joy', 'sadness', 'surprise', 'neutral']\n",
    "\n",
    "mlflow_url = 'http://localhost:8080'\n",
    "\n",
    "# Функция для преобразования эмоджи в слова\n",
    "def emojis_words(text):\n",
    "    \n",
    "    # Модуль emoji: преобразование эмоджи в их словесные описания\n",
    "    clean_text = emoji.demojize(text, delimiters=(\" \", \" \"))\n",
    "    \n",
    "    # Редактирование текста путём замены \":\" и\" _\", а так же - путём добавления пробела между отдельными словами\n",
    "    clean_text = clean_text.replace(\":\", \"\").replace(\"_\", \" \")\n",
    "    \n",
    "    return clean_text\n",
    "\n",
    "# функция нормализации и очистки текста.\n",
    "def cleaner(text :str) -> str:\n",
    "\n",
    "    # Пунктуация\n",
    "    text = re.sub(r'[.,#!$%\\^&\\*;:{}=\\-_`~()]',r'',text)\n",
    "\n",
    "     #Эмотиконы\n",
    "    text =emojis_words(text)\n",
    "\n",
    "    # #unicode\n",
    "    # text = re.sub(r'(\\\\u[0-9A-Fa-f]+)',r'', text)\n",
    "    # text = re.sub(r'[^\\x00-\\x7f]',r'',text)\n",
    "\n",
    "    # url/ссылки\n",
    "    text = re.sub(r'http\\S+', r'', text)\n",
    "\n",
    "    #теггирование/nicknames\n",
    "    text = re.sub('@[A-Za-z0-9_-]+',r'',text)# nickname\n",
    "\n",
    "    #хэштеги\n",
    "    text = re.sub(r'#([^\\s]+)', r'\\1', text)\n",
    "\n",
    "    #удалим цифры\n",
    "    text = ''.join([i for i in text if not i.isdigit()])\n",
    "\n",
    "    #приведем к нижнему регистру\n",
    "    text = text.lower()\n",
    "\n",
    "    #удалим стоп слова\n",
    "    stop_words_cleaned = []\n",
    "    for word in text.split():\n",
    "      if word not in nltk_stop_words:\n",
    "        stop_words_cleaned.append(word)\n",
    "\n",
    "    text = ' '.join(stop_words_cleaned)\n",
    "\n",
    "    #приведем текст к изначальной форме.\n",
    "    text= ' '.join([wnl.lemmatize(word) for word in text.split()])\n",
    "\n",
    "    return text"
   ]
  },
  {
   "cell_type": "markdown",
   "metadata": {},
   "source": [
    "# GoEmotion(djacon)"
   ]
  },
  {
   "cell_type": "code",
   "execution_count": 15,
   "metadata": {},
   "outputs": [],
   "source": [
    "df = pd.read_csv('goemo.csv')"
   ]
  },
  {
   "cell_type": "code",
   "execution_count": 16,
   "metadata": {},
   "outputs": [
    {
     "name": "stdout",
     "output_type": "stream",
     "text": [
      "<class 'pandas.core.frame.DataFrame'>\n",
      "RangeIndex: 211225 entries, 0 to 211224\n",
      "Data columns (total 8 columns):\n",
      " #   Column    Non-Null Count   Dtype \n",
      "---  ------    --------------   ----- \n",
      " 0   text      211225 non-null  object\n",
      " 1   anger     211225 non-null  int64 \n",
      " 2   disgust   211225 non-null  int64 \n",
      " 3   fear      211225 non-null  int64 \n",
      " 4   joy       211225 non-null  int64 \n",
      " 5   sadness   211225 non-null  int64 \n",
      " 6   surprise  211225 non-null  int64 \n",
      " 7   neutral   211225 non-null  int64 \n",
      "dtypes: int64(7), object(1)\n",
      "memory usage: 12.9+ MB\n"
     ]
    }
   ],
   "source": [
    "df.info()"
   ]
  },
  {
   "cell_type": "code",
   "execution_count": 17,
   "metadata": {},
   "outputs": [],
   "source": [
    "df['text'] = df['text'].apply(cleaner)"
   ]
  },
  {
   "cell_type": "code",
   "execution_count": 18,
   "metadata": {},
   "outputs": [
    {
     "data": {
      "text/html": [
       "<div>\n",
       "<style scoped>\n",
       "    .dataframe tbody tr th:only-of-type {\n",
       "        vertical-align: middle;\n",
       "    }\n",
       "\n",
       "    .dataframe tbody tr th {\n",
       "        vertical-align: top;\n",
       "    }\n",
       "\n",
       "    .dataframe thead th {\n",
       "        text-align: right;\n",
       "    }\n",
       "</style>\n",
       "<table border=\"1\" class=\"dataframe\">\n",
       "  <thead>\n",
       "    <tr style=\"text-align: right;\">\n",
       "      <th></th>\n",
       "      <th>text</th>\n",
       "      <th>anger</th>\n",
       "      <th>disgust</th>\n",
       "      <th>fear</th>\n",
       "      <th>joy</th>\n",
       "      <th>sadness</th>\n",
       "      <th>surprise</th>\n",
       "      <th>neutral</th>\n",
       "    </tr>\n",
       "  </thead>\n",
       "  <tbody>\n",
       "    <tr>\n",
       "      <th>0</th>\n",
       "      <td>эта игра причинила боль</td>\n",
       "      <td>0</td>\n",
       "      <td>0</td>\n",
       "      <td>0</td>\n",
       "      <td>0</td>\n",
       "      <td>1</td>\n",
       "      <td>0</td>\n",
       "      <td>0</td>\n",
       "    </tr>\n",
       "    <tr>\n",
       "      <th>1</th>\n",
       "      <td>&gt;сексуальность должна групповой категорией отл...</td>\n",
       "      <td>0</td>\n",
       "      <td>0</td>\n",
       "      <td>0</td>\n",
       "      <td>0</td>\n",
       "      <td>0</td>\n",
       "      <td>0</td>\n",
       "      <td>0</td>\n",
       "    </tr>\n",
       "    <tr>\n",
       "      <th>2</th>\n",
       "      <td>правильно поступаешь тебе равно иди черту</td>\n",
       "      <td>0</td>\n",
       "      <td>0</td>\n",
       "      <td>0</td>\n",
       "      <td>0</td>\n",
       "      <td>0</td>\n",
       "      <td>0</td>\n",
       "      <td>1</td>\n",
       "    </tr>\n",
       "    <tr>\n",
       "      <th>3</th>\n",
       "      <td>чувак обожаю reddit</td>\n",
       "      <td>0</td>\n",
       "      <td>0</td>\n",
       "      <td>0</td>\n",
       "      <td>1</td>\n",
       "      <td>0</td>\n",
       "      <td>0</td>\n",
       "      <td>0</td>\n",
       "    </tr>\n",
       "    <tr>\n",
       "      <th>4</th>\n",
       "      <td>[имя] рядом ними рядом «соколом»</td>\n",
       "      <td>0</td>\n",
       "      <td>0</td>\n",
       "      <td>0</td>\n",
       "      <td>0</td>\n",
       "      <td>0</td>\n",
       "      <td>0</td>\n",
       "      <td>1</td>\n",
       "    </tr>\n",
       "    <tr>\n",
       "      <th>5</th>\n",
       "      <td>верно? учитывая это важный документ должен зна...</td>\n",
       "      <td>0</td>\n",
       "      <td>0</td>\n",
       "      <td>0</td>\n",
       "      <td>1</td>\n",
       "      <td>0</td>\n",
       "      <td>0</td>\n",
       "      <td>0</td>\n",
       "    </tr>\n",
       "    <tr>\n",
       "      <th>6</th>\n",
       "      <td>большой довольно популярный слышал самое содер...</td>\n",
       "      <td>1</td>\n",
       "      <td>0</td>\n",
       "      <td>0</td>\n",
       "      <td>0</td>\n",
       "      <td>0</td>\n",
       "      <td>0</td>\n",
       "      <td>0</td>\n",
       "    </tr>\n",
       "    <tr>\n",
       "      <th>7</th>\n",
       "      <td>это безумие училась супер [религийной] средней...</td>\n",
       "      <td>0</td>\n",
       "      <td>0</td>\n",
       "      <td>0</td>\n",
       "      <td>1</td>\n",
       "      <td>0</td>\n",
       "      <td>0</td>\n",
       "      <td>0</td>\n",
       "    </tr>\n",
       "    <tr>\n",
       "      <th>8</th>\n",
       "      <td>это очень мило</td>\n",
       "      <td>0</td>\n",
       "      <td>0</td>\n",
       "      <td>0</td>\n",
       "      <td>1</td>\n",
       "      <td>0</td>\n",
       "      <td>0</td>\n",
       "      <td>0</td>\n",
       "    </tr>\n",
       "    <tr>\n",
       "      <th>9</th>\n",
       "      <td>«пабы sponge blurb quaw haha gurr ha aaa» фина...</td>\n",
       "      <td>0</td>\n",
       "      <td>0</td>\n",
       "      <td>0</td>\n",
       "      <td>1</td>\n",
       "      <td>0</td>\n",
       "      <td>0</td>\n",
       "      <td>0</td>\n",
       "    </tr>\n",
       "    <tr>\n",
       "      <th>10</th>\n",
       "      <td>упомянули думаю именно это вызвало ностальгию</td>\n",
       "      <td>0</td>\n",
       "      <td>0</td>\n",
       "      <td>0</td>\n",
       "      <td>0</td>\n",
       "      <td>0</td>\n",
       "      <td>0</td>\n",
       "      <td>1</td>\n",
       "    </tr>\n",
       "    <tr>\n",
       "      <th>11</th>\n",
       "      <td>хотел понизить это мнение это твоя вина приятель</td>\n",
       "      <td>0</td>\n",
       "      <td>0</td>\n",
       "      <td>0</td>\n",
       "      <td>0</td>\n",
       "      <td>1</td>\n",
       "      <td>0</td>\n",
       "      <td>0</td>\n",
       "    </tr>\n",
       "    <tr>\n",
       "      <th>12</th>\n",
       "      <td>это /с</td>\n",
       "      <td>0</td>\n",
       "      <td>0</td>\n",
       "      <td>0</td>\n",
       "      <td>0</td>\n",
       "      <td>0</td>\n",
       "      <td>0</td>\n",
       "      <td>1</td>\n",
       "    </tr>\n",
       "    <tr>\n",
       "      <th>13</th>\n",
       "      <td>это странно</td>\n",
       "      <td>0</td>\n",
       "      <td>1</td>\n",
       "      <td>0</td>\n",
       "      <td>0</td>\n",
       "      <td>1</td>\n",
       "      <td>0</td>\n",
       "      <td>0</td>\n",
       "    </tr>\n",
       "    <tr>\n",
       "      <th>14</th>\n",
       "      <td>построить стену? /джк</td>\n",
       "      <td>0</td>\n",
       "      <td>0</td>\n",
       "      <td>0</td>\n",
       "      <td>0</td>\n",
       "      <td>0</td>\n",
       "      <td>0</td>\n",
       "      <td>1</td>\n",
       "    </tr>\n",
       "    <tr>\n",
       "      <th>15</th>\n",
       "      <td>ценю это приятно это знать надеюсь однажды при...</td>\n",
       "      <td>0</td>\n",
       "      <td>0</td>\n",
       "      <td>0</td>\n",
       "      <td>1</td>\n",
       "      <td>0</td>\n",
       "      <td>0</td>\n",
       "      <td>0</td>\n",
       "    </tr>\n",
       "    <tr>\n",
       "      <th>16</th>\n",
       "      <td>однажды остановился прямо м смог сделать хорош...</td>\n",
       "      <td>0</td>\n",
       "      <td>0</td>\n",
       "      <td>0</td>\n",
       "      <td>0</td>\n",
       "      <td>0</td>\n",
       "      <td>0</td>\n",
       "      <td>1</td>\n",
       "    </tr>\n",
       "    <tr>\n",
       "      <th>17</th>\n",
       "      <td>сказал довольно хорошие шансы это какаянибудь ...</td>\n",
       "      <td>0</td>\n",
       "      <td>0</td>\n",
       "      <td>0</td>\n",
       "      <td>0</td>\n",
       "      <td>0</td>\n",
       "      <td>1</td>\n",
       "      <td>0</td>\n",
       "    </tr>\n",
       "    <tr>\n",
       "      <th>18</th>\n",
       "      <td>практически каждый пенджабский чувак которого ...</td>\n",
       "      <td>0</td>\n",
       "      <td>0</td>\n",
       "      <td>0</td>\n",
       "      <td>1</td>\n",
       "      <td>0</td>\n",
       "      <td>0</td>\n",
       "      <td>0</td>\n",
       "    </tr>\n",
       "    <tr>\n",
       "      <th>19</th>\n",
       "      <td>дополнительной меры закрепите прямо промежност...</td>\n",
       "      <td>1</td>\n",
       "      <td>0</td>\n",
       "      <td>0</td>\n",
       "      <td>0</td>\n",
       "      <td>0</td>\n",
       "      <td>0</td>\n",
       "      <td>0</td>\n",
       "    </tr>\n",
       "    <tr>\n",
       "      <th>20</th>\n",
       "      <td>видео показаны туфли которые носил</td>\n",
       "      <td>0</td>\n",
       "      <td>0</td>\n",
       "      <td>0</td>\n",
       "      <td>0</td>\n",
       "      <td>0</td>\n",
       "      <td>0</td>\n",
       "      <td>1</td>\n",
       "    </tr>\n",
       "    <tr>\n",
       "      <th>21</th>\n",
       "      <td>клемсону дарят наклейки гордости? снапы играли?</td>\n",
       "      <td>0</td>\n",
       "      <td>0</td>\n",
       "      <td>0</td>\n",
       "      <td>0</td>\n",
       "      <td>0</td>\n",
       "      <td>1</td>\n",
       "      <td>0</td>\n",
       "    </tr>\n",
       "    <tr>\n",
       "      <th>22</th>\n",
       "      <td>«ты можешь умереть готов принести жертву»</td>\n",
       "      <td>0</td>\n",
       "      <td>0</td>\n",
       "      <td>0</td>\n",
       "      <td>1</td>\n",
       "      <td>0</td>\n",
       "      <td>0</td>\n",
       "      <td>0</td>\n",
       "    </tr>\n",
       "    <tr>\n",
       "      <th>23</th>\n",
       "      <td>интересно упустил спасибо это</td>\n",
       "      <td>0</td>\n",
       "      <td>0</td>\n",
       "      <td>0</td>\n",
       "      <td>1</td>\n",
       "      <td>0</td>\n",
       "      <td>1</td>\n",
       "      <td>0</td>\n",
       "    </tr>\n",
       "    <tr>\n",
       "      <th>24</th>\n",
       "      <td>это определенно вписывается r/boneappletea</td>\n",
       "      <td>0</td>\n",
       "      <td>0</td>\n",
       "      <td>0</td>\n",
       "      <td>0</td>\n",
       "      <td>0</td>\n",
       "      <td>0</td>\n",
       "      <td>1</td>\n",
       "    </tr>\n",
       "    <tr>\n",
       "      <th>25</th>\n",
       "      <td>«виааа цветной»</td>\n",
       "      <td>0</td>\n",
       "      <td>0</td>\n",
       "      <td>0</td>\n",
       "      <td>1</td>\n",
       "      <td>0</td>\n",
       "      <td>0</td>\n",
       "      <td>0</td>\n",
       "    </tr>\n",
       "    <tr>\n",
       "      <th>26</th>\n",
       "      <td>напомни месяца</td>\n",
       "      <td>0</td>\n",
       "      <td>0</td>\n",
       "      <td>0</td>\n",
       "      <td>0</td>\n",
       "      <td>0</td>\n",
       "      <td>0</td>\n",
       "      <td>1</td>\n",
       "    </tr>\n",
       "    <tr>\n",
       "      <th>27</th>\n",
       "      <td>поддерживайте уровень сахара крови очень помог...</td>\n",
       "      <td>0</td>\n",
       "      <td>0</td>\n",
       "      <td>0</td>\n",
       "      <td>1</td>\n",
       "      <td>0</td>\n",
       "      <td>0</td>\n",
       "      <td>0</td>\n",
       "    </tr>\n",
       "    <tr>\n",
       "      <th>28</th>\n",
       "      <td>play store apple store vpn норд это</td>\n",
       "      <td>0</td>\n",
       "      <td>0</td>\n",
       "      <td>0</td>\n",
       "      <td>1</td>\n",
       "      <td>0</td>\n",
       "      <td>0</td>\n",
       "      <td>0</td>\n",
       "    </tr>\n",
       "    <tr>\n",
       "      <th>29</th>\n",
       "      <td>рада [имя] грустно представьте команду [имя] в...</td>\n",
       "      <td>0</td>\n",
       "      <td>1</td>\n",
       "      <td>0</td>\n",
       "      <td>1</td>\n",
       "      <td>1</td>\n",
       "      <td>0</td>\n",
       "      <td>0</td>\n",
       "    </tr>\n",
       "    <tr>\n",
       "      <th>30</th>\n",
       "      <td>это [имя] говорит разочаровывает</td>\n",
       "      <td>0</td>\n",
       "      <td>0</td>\n",
       "      <td>0</td>\n",
       "      <td>0</td>\n",
       "      <td>0</td>\n",
       "      <td>0</td>\n",
       "      <td>1</td>\n",
       "    </tr>\n",
       "    <tr>\n",
       "      <th>31</th>\n",
       "      <td>чтото чтото чтото пространство вспомогательных...</td>\n",
       "      <td>0</td>\n",
       "      <td>0</td>\n",
       "      <td>0</td>\n",
       "      <td>0</td>\n",
       "      <td>0</td>\n",
       "      <td>0</td>\n",
       "      <td>1</td>\n",
       "    </tr>\n",
       "    <tr>\n",
       "      <th>32</th>\n",
       "      <td>мрачный забавный очень приятный парень предсто...</td>\n",
       "      <td>0</td>\n",
       "      <td>1</td>\n",
       "      <td>0</td>\n",
       "      <td>0</td>\n",
       "      <td>1</td>\n",
       "      <td>0</td>\n",
       "      <td>0</td>\n",
       "    </tr>\n",
       "    <tr>\n",
       "      <th>33</th>\n",
       "      <td>наверное проехал пару сотен миль своем компакт...</td>\n",
       "      <td>0</td>\n",
       "      <td>0</td>\n",
       "      <td>0</td>\n",
       "      <td>0</td>\n",
       "      <td>0</td>\n",
       "      <td>0</td>\n",
       "      <td>1</td>\n",
       "    </tr>\n",
       "    <tr>\n",
       "      <th>34</th>\n",
       "      <td>рад порядке рад это та самая гифка парень ката...</td>\n",
       "      <td>0</td>\n",
       "      <td>0</td>\n",
       "      <td>0</td>\n",
       "      <td>1</td>\n",
       "      <td>0</td>\n",
       "      <td>0</td>\n",
       "      <td>0</td>\n",
       "    </tr>\n",
       "    <tr>\n",
       "      <th>35</th>\n",
       "      <td>хороший попробую это</td>\n",
       "      <td>0</td>\n",
       "      <td>0</td>\n",
       "      <td>0</td>\n",
       "      <td>1</td>\n",
       "      <td>0</td>\n",
       "      <td>0</td>\n",
       "      <td>0</td>\n",
       "    </tr>\n",
       "    <tr>\n",
       "      <th>36</th>\n",
       "      <td>терпеть могу [имя] особенно видео «татуирую лицо»</td>\n",
       "      <td>1</td>\n",
       "      <td>0</td>\n",
       "      <td>0</td>\n",
       "      <td>0</td>\n",
       "      <td>0</td>\n",
       "      <td>0</td>\n",
       "      <td>0</td>\n",
       "    </tr>\n",
       "    <tr>\n",
       "      <th>37</th>\n",
       "      <td>пришел домой это состав? люблю [имя] безумный ...</td>\n",
       "      <td>0</td>\n",
       "      <td>0</td>\n",
       "      <td>0</td>\n",
       "      <td>1</td>\n",
       "      <td>0</td>\n",
       "      <td>0</td>\n",
       "      <td>0</td>\n",
       "    </tr>\n",
       "    <tr>\n",
       "      <th>38</th>\n",
       "      <td>иди тролль другом месте женщине нужна поддержк...</td>\n",
       "      <td>1</td>\n",
       "      <td>0</td>\n",
       "      <td>0</td>\n",
       "      <td>0</td>\n",
       "      <td>0</td>\n",
       "      <td>0</td>\n",
       "      <td>0</td>\n",
       "    </tr>\n",
       "    <tr>\n",
       "      <th>39</th>\n",
       "      <td>просто слухи сети скорее произойдет</td>\n",
       "      <td>1</td>\n",
       "      <td>0</td>\n",
       "      <td>0</td>\n",
       "      <td>0</td>\n",
       "      <td>0</td>\n",
       "      <td>0</td>\n",
       "      <td>0</td>\n",
       "    </tr>\n",
       "    <tr>\n",
       "      <th>40</th>\n",
       "      <td>редактирую свой пост извините невежество</td>\n",
       "      <td>0</td>\n",
       "      <td>0</td>\n",
       "      <td>0</td>\n",
       "      <td>0</td>\n",
       "      <td>1</td>\n",
       "      <td>0</td>\n",
       "      <td>0</td>\n",
       "    </tr>\n",
       "    <tr>\n",
       "      <th>41</th>\n",
       "      <td>поскольку создатели контента заслуживают оплат...</td>\n",
       "      <td>0</td>\n",
       "      <td>0</td>\n",
       "      <td>0</td>\n",
       "      <td>0</td>\n",
       "      <td>0</td>\n",
       "      <td>1</td>\n",
       "      <td>0</td>\n",
       "    </tr>\n",
       "    <tr>\n",
       "      <th>42</th>\n",
       "      <td>жалость несколько приличных обедов ходил туда ...</td>\n",
       "      <td>0</td>\n",
       "      <td>0</td>\n",
       "      <td>0</td>\n",
       "      <td>0</td>\n",
       "      <td>1</td>\n",
       "      <td>0</td>\n",
       "      <td>0</td>\n",
       "    </tr>\n",
       "    <tr>\n",
       "      <th>43</th>\n",
       "      <td>пожалуй самое крутое видел теме</td>\n",
       "      <td>0</td>\n",
       "      <td>0</td>\n",
       "      <td>0</td>\n",
       "      <td>1</td>\n",
       "      <td>0</td>\n",
       "      <td>0</td>\n",
       "      <td>0</td>\n",
       "    </tr>\n",
       "    <tr>\n",
       "      <th>44</th>\n",
       "      <td>какие доказательства вообще свидетельствуют [и...</td>\n",
       "      <td>0</td>\n",
       "      <td>0</td>\n",
       "      <td>0</td>\n",
       "      <td>0</td>\n",
       "      <td>0</td>\n",
       "      <td>0</td>\n",
       "      <td>1</td>\n",
       "    </tr>\n",
       "    <tr>\n",
       "      <th>45</th>\n",
       "      <td>&gt;не панацея такого это следующий лучший вариант?</td>\n",
       "      <td>0</td>\n",
       "      <td>0</td>\n",
       "      <td>0</td>\n",
       "      <td>0</td>\n",
       "      <td>0</td>\n",
       "      <td>1</td>\n",
       "      <td>0</td>\n",
       "    </tr>\n",
       "    <tr>\n",
       "      <th>46</th>\n",
       "      <td>закономерность</td>\n",
       "      <td>0</td>\n",
       "      <td>0</td>\n",
       "      <td>0</td>\n",
       "      <td>1</td>\n",
       "      <td>0</td>\n",
       "      <td>0</td>\n",
       "      <td>0</td>\n",
       "    </tr>\n",
       "    <tr>\n",
       "      <th>47</th>\n",
       "      <td>[имя] выполнять аналогичную роль конца года ко...</td>\n",
       "      <td>0</td>\n",
       "      <td>0</td>\n",
       "      <td>0</td>\n",
       "      <td>0</td>\n",
       "      <td>0</td>\n",
       "      <td>0</td>\n",
       "      <td>1</td>\n",
       "    </tr>\n",
       "    <tr>\n",
       "      <th>48</th>\n",
       "      <td>ой ой неправильно прочитала исходный комментарий</td>\n",
       "      <td>0</td>\n",
       "      <td>0</td>\n",
       "      <td>0</td>\n",
       "      <td>0</td>\n",
       "      <td>0</td>\n",
       "      <td>1</td>\n",
       "      <td>0</td>\n",
       "    </tr>\n",
       "    <tr>\n",
       "      <th>49</th>\n",
       "      <td>посылаю вибрации любви силы &lt;</td>\n",
       "      <td>0</td>\n",
       "      <td>0</td>\n",
       "      <td>0</td>\n",
       "      <td>1</td>\n",
       "      <td>0</td>\n",
       "      <td>0</td>\n",
       "      <td>0</td>\n",
       "    </tr>\n",
       "  </tbody>\n",
       "</table>\n",
       "</div>"
      ],
      "text/plain": [
       "                                                 text  anger  disgust  fear  \\\n",
       "0                             эта игра причинила боль      0        0     0   \n",
       "1   >сексуальность должна групповой категорией отл...      0        0     0   \n",
       "2           правильно поступаешь тебе равно иди черту      0        0     0   \n",
       "3                                 чувак обожаю reddit      0        0     0   \n",
       "4                    [имя] рядом ними рядом «соколом»      0        0     0   \n",
       "5   верно? учитывая это важный документ должен зна...      0        0     0   \n",
       "6   большой довольно популярный слышал самое содер...      1        0     0   \n",
       "7   это безумие училась супер [религийной] средней...      0        0     0   \n",
       "8                                      это очень мило      0        0     0   \n",
       "9   «пабы sponge blurb quaw haha gurr ha aaa» фина...      0        0     0   \n",
       "10      упомянули думаю именно это вызвало ностальгию      0        0     0   \n",
       "11   хотел понизить это мнение это твоя вина приятель      0        0     0   \n",
       "12                                             это /с      0        0     0   \n",
       "13                                        это странно      0        1     0   \n",
       "14                              построить стену? /джк      0        0     0   \n",
       "15  ценю это приятно это знать надеюсь однажды при...      0        0     0   \n",
       "16  однажды остановился прямо м смог сделать хорош...      0        0     0   \n",
       "17  сказал довольно хорошие шансы это какаянибудь ...      0        0     0   \n",
       "18  практически каждый пенджабский чувак которого ...      0        0     0   \n",
       "19  дополнительной меры закрепите прямо промежност...      1        0     0   \n",
       "20                 видео показаны туфли которые носил      0        0     0   \n",
       "21    клемсону дарят наклейки гордости? снапы играли?      0        0     0   \n",
       "22          «ты можешь умереть готов принести жертву»      0        0     0   \n",
       "23                      интересно упустил спасибо это      0        0     0   \n",
       "24         это определенно вписывается r/boneappletea      0        0     0   \n",
       "25                                    «виааа цветной»      0        0     0   \n",
       "26                                     напомни месяца      0        0     0   \n",
       "27  поддерживайте уровень сахара крови очень помог...      0        0     0   \n",
       "28                play store apple store vpn норд это      0        0     0   \n",
       "29  рада [имя] грустно представьте команду [имя] в...      0        1     0   \n",
       "30                   это [имя] говорит разочаровывает      0        0     0   \n",
       "31  чтото чтото чтото пространство вспомогательных...      0        0     0   \n",
       "32  мрачный забавный очень приятный парень предсто...      0        1     0   \n",
       "33  наверное проехал пару сотен миль своем компакт...      0        0     0   \n",
       "34  рад порядке рад это та самая гифка парень ката...      0        0     0   \n",
       "35                               хороший попробую это      0        0     0   \n",
       "36  терпеть могу [имя] особенно видео «татуирую лицо»      1        0     0   \n",
       "37  пришел домой это состав? люблю [имя] безумный ...      0        0     0   \n",
       "38  иди тролль другом месте женщине нужна поддержк...      1        0     0   \n",
       "39                просто слухи сети скорее произойдет      1        0     0   \n",
       "40           редактирую свой пост извините невежество      0        0     0   \n",
       "41  поскольку создатели контента заслуживают оплат...      0        0     0   \n",
       "42  жалость несколько приличных обедов ходил туда ...      0        0     0   \n",
       "43                    пожалуй самое крутое видел теме      0        0     0   \n",
       "44  какие доказательства вообще свидетельствуют [и...      0        0     0   \n",
       "45   >не панацея такого это следующий лучший вариант?      0        0     0   \n",
       "46                                     закономерность      0        0     0   \n",
       "47  [имя] выполнять аналогичную роль конца года ко...      0        0     0   \n",
       "48   ой ой неправильно прочитала исходный комментарий      0        0     0   \n",
       "49                      посылаю вибрации любви силы <      0        0     0   \n",
       "\n",
       "    joy  sadness  surprise  neutral  \n",
       "0     0        1         0        0  \n",
       "1     0        0         0        0  \n",
       "2     0        0         0        1  \n",
       "3     1        0         0        0  \n",
       "4     0        0         0        1  \n",
       "5     1        0         0        0  \n",
       "6     0        0         0        0  \n",
       "7     1        0         0        0  \n",
       "8     1        0         0        0  \n",
       "9     1        0         0        0  \n",
       "10    0        0         0        1  \n",
       "11    0        1         0        0  \n",
       "12    0        0         0        1  \n",
       "13    0        1         0        0  \n",
       "14    0        0         0        1  \n",
       "15    1        0         0        0  \n",
       "16    0        0         0        1  \n",
       "17    0        0         1        0  \n",
       "18    1        0         0        0  \n",
       "19    0        0         0        0  \n",
       "20    0        0         0        1  \n",
       "21    0        0         1        0  \n",
       "22    1        0         0        0  \n",
       "23    1        0         1        0  \n",
       "24    0        0         0        1  \n",
       "25    1        0         0        0  \n",
       "26    0        0         0        1  \n",
       "27    1        0         0        0  \n",
       "28    1        0         0        0  \n",
       "29    1        1         0        0  \n",
       "30    0        0         0        1  \n",
       "31    0        0         0        1  \n",
       "32    0        1         0        0  \n",
       "33    0        0         0        1  \n",
       "34    1        0         0        0  \n",
       "35    1        0         0        0  \n",
       "36    0        0         0        0  \n",
       "37    1        0         0        0  \n",
       "38    0        0         0        0  \n",
       "39    0        0         0        0  \n",
       "40    0        1         0        0  \n",
       "41    0        0         1        0  \n",
       "42    0        1         0        0  \n",
       "43    1        0         0        0  \n",
       "44    0        0         0        1  \n",
       "45    0        0         1        0  \n",
       "46    1        0         0        0  \n",
       "47    0        0         0        1  \n",
       "48    0        0         1        0  \n",
       "49    1        0         0        0  "
      ]
     },
     "execution_count": 18,
     "metadata": {},
     "output_type": "execute_result"
    }
   ],
   "source": [
    "df.head(50)"
   ]
  },
  {
   "cell_type": "code",
   "execution_count": 19,
   "metadata": {},
   "outputs": [
    {
     "name": "stdout",
     "output_type": "stream",
     "text": [
      "Hamming Loss: 0.2506\n",
      "\n",
      "Classification Report:\n",
      "              precision    recall  f1-score   support\n",
      "\n",
      "       anger       0.27      0.63      0.38      6130\n",
      "     disgust       0.09      0.63      0.15      1074\n",
      "        fear       0.09      0.64      0.16       904\n",
      "         joy       0.70      0.67      0.69     16530\n",
      "     sadness       0.23      0.65      0.34      3745\n",
      "    surprise       0.26      0.62      0.37      5790\n",
      "     neutral       0.39      0.71      0.50     11185\n",
      "\n",
      "   micro avg       0.34      0.66      0.45     45358\n",
      "   macro avg       0.29      0.65      0.37     45358\n",
      "weighted avg       0.45      0.66      0.51     45358\n",
      " samples avg       0.42      0.66      0.48     45358\n",
      "\n"
     ]
    },
    {
     "name": "stderr",
     "output_type": "stream",
     "text": [
      "c:\\Users\\rvv19\\AppData\\Local\\Programs\\Python\\Python312\\Lib\\site-packages\\sklearn\\metrics\\_classification.py:1531: UndefinedMetricWarning: Precision is ill-defined and being set to 0.0 in samples with no predicted labels. Use `zero_division` parameter to control this behavior.\n",
      "  _warn_prf(average, modifier, f\"{metric.capitalize()} is\", len(result))\n",
      "c:\\Users\\rvv19\\AppData\\Local\\Programs\\Python\\Python312\\Lib\\site-packages\\sklearn\\metrics\\_classification.py:1531: UndefinedMetricWarning: Recall is ill-defined and being set to 0.0 in samples with no true labels. Use `zero_division` parameter to control this behavior.\n",
      "  _warn_prf(average, modifier, f\"{metric.capitalize()} is\", len(result))\n",
      "c:\\Users\\rvv19\\AppData\\Local\\Programs\\Python\\Python312\\Lib\\site-packages\\sklearn\\metrics\\_classification.py:1531: UndefinedMetricWarning: F-score is ill-defined and being set to 0.0 in samples with no true nor predicted labels. Use `zero_division` parameter to control this behavior.\n",
      "  _warn_prf(average, modifier, f\"{metric.capitalize()} is\", len(result))\n"
     ]
    }
   ],
   "source": [
    "from sklearn.model_selection import train_test_split\n",
    "from sklearn.feature_extraction.text import TfidfVectorizer\n",
    "from sklearn.multioutput import MultiOutputClassifier\n",
    "from sklearn.linear_model import LogisticRegression\n",
    "from sklearn.metrics import hamming_loss, classification_report\n",
    "import numpy as np\n",
    "\n",
    "# 1. Подготовка данных\n",
    "X = df['text']\n",
    "y = df[EMOTIONS]\n",
    "\n",
    "# 2. Векторизация текста\n",
    "tfidf = TfidfVectorizer(max_features=5000)\n",
    "X_tfidf = tfidf.fit_transform(X)\n",
    "\n",
    "# 3. Разделение данных\n",
    "X_train, X_test, y_train, y_test = train_test_split(\n",
    "    X_tfidf, y, test_size=0.2, random_state=42\n",
    ")\n",
    "\n",
    "# 4. Обучение модели\n",
    "model = MultiOutputClassifier(\n",
    "    LogisticRegression(max_iter=1000, class_weight='balanced')\n",
    ").fit(X_train, y_train)\n",
    "\n",
    "# 5. Предсказания\n",
    "y_pred = model.predict(X_test)\n",
    "y_proba = model.predict_proba(X_test)\n",
    "\n",
    "# 6. Оценка качества\n",
    "print(f\"Hamming Loss: {hamming_loss(y_test, y_pred):.4f}\")\n",
    "print(\"\\nClassification Report:\")\n",
    "print(classification_report(y_test, y_pred, target_names=EMOTIONS))\n"
   ]
  },
  {
   "cell_type": "markdown",
   "metadata": {},
   "source": [
    "# CEDR"
   ]
  },
  {
   "cell_type": "code",
   "execution_count": 25,
   "metadata": {},
   "outputs": [],
   "source": [
    "df = pd.read_csv('cedr.csv')"
   ]
  },
  {
   "cell_type": "code",
   "execution_count": 26,
   "metadata": {},
   "outputs": [
    {
     "name": "stdout",
     "output_type": "stream",
     "text": [
      "<class 'pandas.core.frame.DataFrame'>\n",
      "RangeIndex: 7528 entries, 0 to 7527\n",
      "Data columns (total 8 columns):\n",
      " #   Column    Non-Null Count  Dtype \n",
      "---  ------    --------------  ----- \n",
      " 0   text      7528 non-null   object\n",
      " 1   anger     7528 non-null   int64 \n",
      " 2   disgust   7528 non-null   int64 \n",
      " 3   fear      7528 non-null   int64 \n",
      " 4   joy       7528 non-null   int64 \n",
      " 5   sadness   7528 non-null   int64 \n",
      " 6   surprise  7528 non-null   int64 \n",
      " 7   neutral   7528 non-null   int64 \n",
      "dtypes: int64(7), object(1)\n",
      "memory usage: 470.6+ KB\n"
     ]
    }
   ],
   "source": [
    "df.info()"
   ]
  },
  {
   "cell_type": "code",
   "execution_count": 27,
   "metadata": {},
   "outputs": [],
   "source": [
    "df['text'] = df['text'].apply(cleaner)"
   ]
  },
  {
   "cell_type": "code",
   "execution_count": 28,
   "metadata": {},
   "outputs": [
    {
     "data": {
      "text/html": [
       "<div>\n",
       "<style scoped>\n",
       "    .dataframe tbody tr th:only-of-type {\n",
       "        vertical-align: middle;\n",
       "    }\n",
       "\n",
       "    .dataframe tbody tr th {\n",
       "        vertical-align: top;\n",
       "    }\n",
       "\n",
       "    .dataframe thead th {\n",
       "        text-align: right;\n",
       "    }\n",
       "</style>\n",
       "<table border=\"1\" class=\"dataframe\">\n",
       "  <thead>\n",
       "    <tr style=\"text-align: right;\">\n",
       "      <th></th>\n",
       "      <th>text</th>\n",
       "      <th>anger</th>\n",
       "      <th>disgust</th>\n",
       "      <th>fear</th>\n",
       "      <th>joy</th>\n",
       "      <th>sadness</th>\n",
       "      <th>surprise</th>\n",
       "      <th>neutral</th>\n",
       "    </tr>\n",
       "  </thead>\n",
       "  <tbody>\n",
       "    <tr>\n",
       "      <th>3252</th>\n",
       "      <td>словам специалистов злоумышленники могут узнат...</td>\n",
       "      <td>0</td>\n",
       "      <td>0</td>\n",
       "      <td>0</td>\n",
       "      <td>0</td>\n",
       "      <td>0</td>\n",
       "      <td>0</td>\n",
       "      <td>1</td>\n",
       "    </tr>\n",
       "    <tr>\n",
       "      <th>7067</th>\n",
       "      <td>скучно</td>\n",
       "      <td>0</td>\n",
       "      <td>0</td>\n",
       "      <td>0</td>\n",
       "      <td>0</td>\n",
       "      <td>1</td>\n",
       "      <td>0</td>\n",
       "      <td>0</td>\n",
       "    </tr>\n",
       "    <tr>\n",
       "      <th>4414</th>\n",
       "      <td>могу успокоить тех боится воды никакого ощущен...</td>\n",
       "      <td>0</td>\n",
       "      <td>0</td>\n",
       "      <td>0</td>\n",
       "      <td>1</td>\n",
       "      <td>0</td>\n",
       "      <td>0</td>\n",
       "      <td>0</td>\n",
       "    </tr>\n",
       "    <tr>\n",
       "      <th>491</th>\n",
       "      <td>взял комплект приемник чудный беспроводное бат...</td>\n",
       "      <td>0</td>\n",
       "      <td>0</td>\n",
       "      <td>0</td>\n",
       "      <td>1</td>\n",
       "      <td>0</td>\n",
       "      <td>0</td>\n",
       "      <td>0</td>\n",
       "    </tr>\n",
       "    <tr>\n",
       "      <th>3752</th>\n",
       "      <td>ахха шли домой это чтото кидали друг друга сне...</td>\n",
       "      <td>0</td>\n",
       "      <td>0</td>\n",
       "      <td>0</td>\n",
       "      <td>1</td>\n",
       "      <td>0</td>\n",
       "      <td>0</td>\n",
       "      <td>0</td>\n",
       "    </tr>\n",
       "    <tr>\n",
       "      <th>1012</th>\n",
       "      <td>офицера полиции приехали дому летнего мужчины ...</td>\n",
       "      <td>0</td>\n",
       "      <td>0</td>\n",
       "      <td>0</td>\n",
       "      <td>0</td>\n",
       "      <td>0</td>\n",
       "      <td>0</td>\n",
       "      <td>1</td>\n",
       "    </tr>\n",
       "    <tr>\n",
       "      <th>5210</th>\n",
       "      <td>скорбим</td>\n",
       "      <td>0</td>\n",
       "      <td>0</td>\n",
       "      <td>0</td>\n",
       "      <td>0</td>\n",
       "      <td>1</td>\n",
       "      <td>0</td>\n",
       "      <td>0</td>\n",
       "    </tr>\n",
       "    <tr>\n",
       "      <th>3343</th>\n",
       "      <td>пользователи twitter выразили свое недоумение</td>\n",
       "      <td>0</td>\n",
       "      <td>0</td>\n",
       "      <td>0</td>\n",
       "      <td>0</td>\n",
       "      <td>0</td>\n",
       "      <td>1</td>\n",
       "      <td>0</td>\n",
       "    </tr>\n",
       "    <tr>\n",
       "      <th>6827</th>\n",
       "      <td>места веселой планете</td>\n",
       "      <td>0</td>\n",
       "      <td>0</td>\n",
       "      <td>0</td>\n",
       "      <td>0</td>\n",
       "      <td>1</td>\n",
       "      <td>0</td>\n",
       "      <td>0</td>\n",
       "    </tr>\n",
       "    <tr>\n",
       "      <th>6768</th>\n",
       "      <td>смотрю учебники расписание тетради плачу каник...</td>\n",
       "      <td>0</td>\n",
       "      <td>0</td>\n",
       "      <td>0</td>\n",
       "      <td>0</td>\n",
       "      <td>1</td>\n",
       "      <td>0</td>\n",
       "      <td>0</td>\n",
       "    </tr>\n",
       "    <tr>\n",
       "      <th>1764</th>\n",
       "      <td>проснулся утра жутким желанием работать немног...</td>\n",
       "      <td>0</td>\n",
       "      <td>0</td>\n",
       "      <td>0</td>\n",
       "      <td>1</td>\n",
       "      <td>0</td>\n",
       "      <td>0</td>\n",
       "      <td>0</td>\n",
       "    </tr>\n",
       "    <tr>\n",
       "      <th>7403</th>\n",
       "      <td>человек чудак ляпну ляпну</td>\n",
       "      <td>0</td>\n",
       "      <td>0</td>\n",
       "      <td>0</td>\n",
       "      <td>1</td>\n",
       "      <td>0</td>\n",
       "      <td>0</td>\n",
       "      <td>0</td>\n",
       "    </tr>\n",
       "    <tr>\n",
       "      <th>3497</th>\n",
       "      <td>счастлив здесь» — отметил форвард</td>\n",
       "      <td>0</td>\n",
       "      <td>0</td>\n",
       "      <td>0</td>\n",
       "      <td>1</td>\n",
       "      <td>0</td>\n",
       "      <td>0</td>\n",
       "      <td>0</td>\n",
       "    </tr>\n",
       "    <tr>\n",
       "      <th>7357</th>\n",
       "      <td>обрадовалась</td>\n",
       "      <td>0</td>\n",
       "      <td>0</td>\n",
       "      <td>0</td>\n",
       "      <td>1</td>\n",
       "      <td>0</td>\n",
       "      <td>0</td>\n",
       "      <td>0</td>\n",
       "    </tr>\n",
       "    <tr>\n",
       "      <th>648</th>\n",
       "      <td>отличнейший инструкторкоторый заставлял подрез...</td>\n",
       "      <td>0</td>\n",
       "      <td>0</td>\n",
       "      <td>0</td>\n",
       "      <td>1</td>\n",
       "      <td>0</td>\n",
       "      <td>0</td>\n",
       "      <td>0</td>\n",
       "    </tr>\n",
       "    <tr>\n",
       "      <th>842</th>\n",
       "      <td>самый ужасный моментэто нечего слушать</td>\n",
       "      <td>0</td>\n",
       "      <td>0</td>\n",
       "      <td>0</td>\n",
       "      <td>0</td>\n",
       "      <td>1</td>\n",
       "      <td>0</td>\n",
       "      <td>0</td>\n",
       "    </tr>\n",
       "    <tr>\n",
       "      <th>2898</th>\n",
       "      <td>смеется ними плюет увидите насмешки плевка</td>\n",
       "      <td>0</td>\n",
       "      <td>0</td>\n",
       "      <td>0</td>\n",
       "      <td>0</td>\n",
       "      <td>0</td>\n",
       "      <td>0</td>\n",
       "      <td>1</td>\n",
       "    </tr>\n",
       "    <tr>\n",
       "      <th>2232</th>\n",
       "      <td>благодаря сможете бегать легко быстро травм</td>\n",
       "      <td>0</td>\n",
       "      <td>0</td>\n",
       "      <td>0</td>\n",
       "      <td>0</td>\n",
       "      <td>0</td>\n",
       "      <td>0</td>\n",
       "      <td>1</td>\n",
       "    </tr>\n",
       "    <tr>\n",
       "      <th>4542</th>\n",
       "      <td>ранее премьерминистр канады джастин трюдо инте...</td>\n",
       "      <td>0</td>\n",
       "      <td>0</td>\n",
       "      <td>0</td>\n",
       "      <td>0</td>\n",
       "      <td>0</td>\n",
       "      <td>0</td>\n",
       "      <td>1</td>\n",
       "    </tr>\n",
       "    <tr>\n",
       "      <th>5641</th>\n",
       "      <td>опасаюсь вообще вали спать</td>\n",
       "      <td>0</td>\n",
       "      <td>0</td>\n",
       "      <td>0</td>\n",
       "      <td>1</td>\n",
       "      <td>0</td>\n",
       "      <td>0</td>\n",
       "      <td>0</td>\n",
       "    </tr>\n",
       "  </tbody>\n",
       "</table>\n",
       "</div>"
      ],
      "text/plain": [
       "                                                   text  anger  disgust  fear  \\\n",
       "3252  словам специалистов злоумышленники могут узнат...      0        0     0   \n",
       "7067                                             скучно      0        0     0   \n",
       "4414  могу успокоить тех боится воды никакого ощущен...      0        0     0   \n",
       "491   взял комплект приемник чудный беспроводное бат...      0        0     0   \n",
       "3752  ахха шли домой это чтото кидали друг друга сне...      0        0     0   \n",
       "1012  офицера полиции приехали дому летнего мужчины ...      0        0     0   \n",
       "5210                                            скорбим      0        0     0   \n",
       "3343      пользователи twitter выразили свое недоумение      0        0     0   \n",
       "6827                              места веселой планете      0        0     0   \n",
       "6768  смотрю учебники расписание тетради плачу каник...      0        0     0   \n",
       "1764  проснулся утра жутким желанием работать немног...      0        0     0   \n",
       "7403                          человек чудак ляпну ляпну      0        0     0   \n",
       "3497                  счастлив здесь» — отметил форвард      0        0     0   \n",
       "7357                                       обрадовалась      0        0     0   \n",
       "648   отличнейший инструкторкоторый заставлял подрез...      0        0     0   \n",
       "842              самый ужасный моментэто нечего слушать      0        0     0   \n",
       "2898         смеется ними плюет увидите насмешки плевка      0        0     0   \n",
       "2232        благодаря сможете бегать легко быстро травм      0        0     0   \n",
       "4542  ранее премьерминистр канады джастин трюдо инте...      0        0     0   \n",
       "5641                         опасаюсь вообще вали спать      0        0     0   \n",
       "\n",
       "      joy  sadness  surprise  neutral  \n",
       "3252    0        0         0        1  \n",
       "7067    0        1         0        0  \n",
       "4414    1        0         0        0  \n",
       "491     1        0         0        0  \n",
       "3752    1        0         0        0  \n",
       "1012    0        0         0        1  \n",
       "5210    0        1         0        0  \n",
       "3343    0        0         1        0  \n",
       "6827    0        1         0        0  \n",
       "6768    0        1         0        0  \n",
       "1764    1        0         0        0  \n",
       "7403    1        0         0        0  \n",
       "3497    1        0         0        0  \n",
       "7357    1        0         0        0  \n",
       "648     1        0         0        0  \n",
       "842     0        1         0        0  \n",
       "2898    0        0         0        1  \n",
       "2232    0        0         0        1  \n",
       "4542    0        0         0        1  \n",
       "5641    1        0         0        0  "
      ]
     },
     "execution_count": 28,
     "metadata": {},
     "output_type": "execute_result"
    }
   ],
   "source": [
    "df.sample(20)"
   ]
  },
  {
   "cell_type": "code",
   "execution_count": null,
   "metadata": {},
   "outputs": [],
   "source": [
    "# import matplotlib.pyplot as plt\n",
    "# from IPython import display \n",
    "# from tqdm import tqdm\n",
    "\n",
    "# # Инициализация интерактивного режима\n",
    "# plt.ion()\n",
    "# fig, ax = plt.subplots(figsize=(12, 6))\n",
    "# batch_losses = []\n",
    "# global_step = 0\n",
    "# # Получаем общее количество примеров\n",
    "# total_samples = len(df_train)\n",
    "\n",
    "# # Start an MLflow run\n",
    "# with mlflow.start_run():\n",
    "#     mlflow.log_params({\n",
    "#     'batch_size': BATCH_SIZE,\n",
    "#     'learning_rate': LEARNING_RATE,\n",
    "#     'epochs': EPOCHS\n",
    "#     })\n",
    "#     # Модифицированный цикл обучения\n",
    "#     for epoch in tqdm(range(EPOCHS)):\n",
    "#         model.train()\n",
    "#         epoch_train_loss = 0\n",
    "#         epoch_samples = 0  # Счетчик примеров в эпохе\n",
    "        \n",
    "#         for batch_num, batch in enumerate(train_loader):\n",
    "#             optimizer.zero_grad()\n",
    "            \n",
    "#             input_ids = batch['input_ids'].to(device)\n",
    "#             attention_mask = batch['attention_mask'].to(device)\n",
    "#             labels = batch['labels'].to(device)\n",
    "\n",
    "#             outputs = model(\n",
    "#                 input_ids=input_ids,\n",
    "#                 attention_mask=attention_mask,\n",
    "#                 labels=labels\n",
    "#             )\n",
    "\n",
    "#             loss = outputs.loss\n",
    "#             epoch_train_loss += loss.item()\n",
    "            \n",
    "#             loss.backward()\n",
    "#             optimizer.step()\n",
    "            \n",
    "#             # Обновление графика каждые 10 батчей\n",
    "#             # Обновление счетчика примеров\n",
    "#             batch_size = input_ids.size(0)\n",
    "#             epoch_samples += batch_size\n",
    "#             if batch_num % 10 == 0:\n",
    "#                 batch_losses.append(loss.item())\n",
    "                \n",
    "#                 ax.clear()\n",
    "#                 ax.plot(range(len(batch_losses)), batch_losses, 'b-', label='Batch Loss')\n",
    "                \n",
    "#                 # Форматирование заголовка с примером\n",
    "#                 title = (\n",
    "#                     f\"Real-Time Training Loss | Epoch {epoch+1}/{EPOCHS}\\n\"\n",
    "#                     f\"Samples: {epoch_samples:,}/{total_samples:,} \"\n",
    "#                     f\"({epoch_samples/total_samples*100:.1f}%)\"\n",
    "#                 )\n",
    "#                 ax.set_title(title)\n",
    "                \n",
    "#                 ax.set_xlabel('Batch Groups (every 10 batches)')\n",
    "#                 ax.set_ylabel('Loss')\n",
    "#                 ax.grid(True)\n",
    "#                 ax.legend()\n",
    "                \n",
    "#                 display.display(fig)  # Для Jupyter\n",
    "#                 display.clear_output(wait=True)  # Для Jupyter\n",
    "#                 # plt.pause(0.01)  # Для скрипта вне Jupyter\n",
    "                \n",
    "#             global_step += 1\n",
    "#         # Log the hyperparameters\n",
    "#         mlflow.log_metric('train_loss',  epoch_train_loss / len(train_loader), step=epoch)\n",
    "        \n",
    "\n",
    "#     # Log the model\n",
    "\n",
    "#     mlflow.pytorch.log_model(model,\"model\")\n",
    "#     mlflow.pytorch.save_model(model,\"./sm\")\n",
    "#     # Визуализация после эпохи\n",
    "#     avg_epoch_loss = epoch_train_loss / len(train_loader)\n",
    "#     print(f'Epoch {epoch+1} completed | Avg Loss: {avg_epoch_loss:.4f}')\n",
    "\n",
    "# plt.ioff()\n",
    "# plt.show()"
   ]
  },
  {
   "cell_type": "code",
   "execution_count": 3,
   "metadata": {},
   "outputs": [
    {
     "name": "stdout",
     "output_type": "stream",
     "text": [
      "Collecting gputil\n",
      "  Downloading GPUtil-1.4.0.tar.gz (5.5 kB)\n",
      "  Preparing metadata (setup.py): started\n",
      "  Preparing metadata (setup.py): finished with status 'done'\n",
      "Building wheels for collected packages: gputil\n",
      "  Building wheel for gputil (setup.py): started\n",
      "  Building wheel for gputil (setup.py): finished with status 'done'\n",
      "  Created wheel for gputil: filename=GPUtil-1.4.0-py3-none-any.whl size=7441 sha256=fefbe555b27d172a3decea058e81374670bd8d1932b6d46fc10c12e36424fe12\n",
      "  Stored in directory: c:\\users\\rvv19\\appdata\\local\\pip\\cache\\wheels\\92\\a8\\b7\\d8a067c31a74de9ca252bbe53dea5f896faabd25d55f541037\n",
      "Successfully built gputil\n",
      "Installing collected packages: gputil\n",
      "Successfully installed gputil-1.4.0\n"
     ]
    },
    {
     "name": "stderr",
     "output_type": "stream",
     "text": [
      "\n",
      "[notice] A new release of pip is available: 24.3.1 -> 25.0.1\n",
      "[notice] To update, run: python.exe -m pip install --upgrade pip\n"
     ]
    }
   ],
   "source": [
    "!pip install gputil"
   ]
  },
  {
   "cell_type": "code",
   "execution_count": 2,
   "metadata": {},
   "outputs": [
    {
     "name": "stdout",
     "output_type": "stream",
     "text": [
      "Collecting pynvml\n",
      "  Downloading pynvml-12.0.0-py3-none-any.whl.metadata (5.4 kB)\n",
      "Collecting nvidia-ml-py<13.0.0a0,>=12.0.0 (from pynvml)\n",
      "  Downloading nvidia_ml_py-12.570.86-py3-none-any.whl.metadata (8.7 kB)\n",
      "Downloading pynvml-12.0.0-py3-none-any.whl (26 kB)\n",
      "Downloading nvidia_ml_py-12.570.86-py3-none-any.whl (44 kB)\n",
      "Installing collected packages: nvidia-ml-py, pynvml\n",
      "Successfully installed nvidia-ml-py-12.570.86 pynvml-12.0.0\n"
     ]
    },
    {
     "name": "stderr",
     "output_type": "stream",
     "text": [
      "\n",
      "[notice] A new release of pip is available: 24.3.1 -> 25.0.1\n",
      "[notice] To update, run: python.exe -m pip install --upgrade pip\n"
     ]
    }
   ],
   "source": [
    "!pip install pynvml"
   ]
  },
  {
   "cell_type": "code",
   "execution_count": 1,
   "metadata": {},
   "outputs": [
    {
     "name": "stdout",
     "output_type": "stream",
     "text": [
      "Train set size: 6022\n",
      "Validation set size: 1506\n"
     ]
    },
    {
     "data": {
      "application/vnd.jupyter.widget-view+json": {
       "model_id": "d0379ed8513043c0b6186025611e2a5a",
       "version_major": 2,
       "version_minor": 0
      },
      "text/plain": [
       "Map:   0%|          | 0/6022 [00:00<?, ? examples/s]"
      ]
     },
     "metadata": {},
     "output_type": "display_data"
    },
    {
     "data": {
      "application/vnd.jupyter.widget-view+json": {
       "model_id": "82046c05249c41d1b268775b7a9a1aa2",
       "version_major": 2,
       "version_minor": 0
      },
      "text/plain": [
       "Map:   0%|          | 0/1506 [00:00<?, ? examples/s]"
      ]
     },
     "metadata": {},
     "output_type": "display_data"
    },
    {
     "name": "stderr",
     "output_type": "stream",
     "text": [
      "Some weights of BertForSequenceClassification were not initialized from the model checkpoint at sergeyzh/rubert-tiny-turbo and are newly initialized: ['classifier.bias', 'classifier.weight']\n",
      "You should probably TRAIN this model on a down-stream task to be able to use it for predictions and inference.\n",
      "c:\\Users\\rvv19\\AppData\\Local\\Programs\\Python\\Python312\\Lib\\site-packages\\transformers\\training_args.py:1525: FutureWarning: `evaluation_strategy` is deprecated and will be removed in version 4.46 of 🤗 Transformers. Use `eval_strategy` instead\n",
      "  warnings.warn(\n",
      "2025/03/12 12:57:55 INFO mlflow.system_metrics.system_metrics_monitor: Started monitoring system metrics.\n",
      "You are adding a <class 'transformers.integrations.integration_utils.MLflowCallback'> to the callbacks of this Trainer, but there is already one. The currentlist of callbacks is\n",
      ":DefaultFlowCallback\n",
      "MLflowCallback\n"
     ]
    },
    {
     "data": {
      "application/vnd.jupyter.widget-view+json": {
       "model_id": "52434616bb1f49e287a1075a43b76b98",
       "version_major": 2,
       "version_minor": 0
      },
      "text/plain": [
       "  0%|          | 0/2259 [00:00<?, ?it/s]"
      ]
     },
     "metadata": {},
     "output_type": "display_data"
    },
    {
     "name": "stderr",
     "output_type": "stream",
     "text": [
      "c:\\Users\\rvv19\\AppData\\Local\\Programs\\Python\\Python312\\Lib\\site-packages\\transformers\\models\\bert\\modeling_bert.py:439: UserWarning: 1Torch was not compiled with flash attention. (Triggered internally at ..\\aten\\src\\ATen\\native\\transformers\\cuda\\sdp_utils.cpp:263.)\n",
      "  attn_output = torch.nn.functional.scaled_dot_product_attention(\n"
     ]
    },
    {
     "name": "stdout",
     "output_type": "stream",
     "text": [
      "{'loss': 1.8586, 'grad_norm': 1.9924628734588623, 'learning_rate': 1.9557326250553343e-05, 'epoch': 0.07}\n"
     ]
    },
    {
     "data": {
      "application/vnd.jupyter.widget-view+json": {
       "model_id": "868f5d383cea471da41d88f9bc0c2370",
       "version_major": 2,
       "version_minor": 0
      },
      "text/plain": [
       "  0%|          | 0/189 [00:00<?, ?it/s]"
      ]
     },
     "metadata": {},
     "output_type": "display_data"
    },
    {
     "name": "stdout",
     "output_type": "stream",
     "text": [
      "{'eval_loss': 1.7708549499511719, 'eval_accuracy': 0.4043824701195219, 'eval_runtime': 0.6326, 'eval_samples_per_second': 2380.516, 'eval_steps_per_second': 298.75, 'epoch': 0.07}\n",
      "{'loss': 1.6824, 'grad_norm': 2.2305240631103516, 'learning_rate': 1.9114652501106684e-05, 'epoch': 0.13}\n"
     ]
    },
    {
     "data": {
      "application/vnd.jupyter.widget-view+json": {
       "model_id": "81d8fd5d0d4b4b06a32b26560042708a",
       "version_major": 2,
       "version_minor": 0
      },
      "text/plain": [
       "  0%|          | 0/189 [00:00<?, ?it/s]"
      ]
     },
     "metadata": {},
     "output_type": "display_data"
    },
    {
     "name": "stdout",
     "output_type": "stream",
     "text": [
      "{'eval_loss': 1.5700836181640625, 'eval_accuracy': 0.4043824701195219, 'eval_runtime': 0.6209, 'eval_samples_per_second': 2425.398, 'eval_steps_per_second': 304.383, 'epoch': 0.13}\n",
      "{'loss': 1.4652, 'grad_norm': 3.4583005905151367, 'learning_rate': 1.8671978751660026e-05, 'epoch': 0.2}\n"
     ]
    },
    {
     "data": {
      "application/vnd.jupyter.widget-view+json": {
       "model_id": "44b36359443b48a698c4706a94fc0559",
       "version_major": 2,
       "version_minor": 0
      },
      "text/plain": [
       "  0%|          | 0/189 [00:00<?, ?it/s]"
      ]
     },
     "metadata": {},
     "output_type": "display_data"
    },
    {
     "name": "stdout",
     "output_type": "stream",
     "text": [
      "{'eval_loss': 1.4160499572753906, 'eval_accuracy': 0.4721115537848606, 'eval_runtime': 0.616, 'eval_samples_per_second': 2445.0, 'eval_steps_per_second': 306.843, 'epoch': 0.2}\n",
      "{'loss': 1.3553, 'grad_norm': 5.327248573303223, 'learning_rate': 1.822930500221337e-05, 'epoch': 0.27}\n"
     ]
    },
    {
     "data": {
      "application/vnd.jupyter.widget-view+json": {
       "model_id": "d1b4b277846b435798ac5edf158fa8e2",
       "version_major": 2,
       "version_minor": 0
      },
      "text/plain": [
       "  0%|          | 0/189 [00:00<?, ?it/s]"
      ]
     },
     "metadata": {},
     "output_type": "display_data"
    },
    {
     "name": "stdout",
     "output_type": "stream",
     "text": [
      "{'eval_loss': 1.268545389175415, 'eval_accuracy': 0.6420982735723771, 'eval_runtime': 0.6108, 'eval_samples_per_second': 2465.551, 'eval_steps_per_second': 309.422, 'epoch': 0.27}\n",
      "{'loss': 1.2556, 'grad_norm': 3.5254621505737305, 'learning_rate': 1.7786631252766712e-05, 'epoch': 0.33}\n"
     ]
    },
    {
     "data": {
      "application/vnd.jupyter.widget-view+json": {
       "model_id": "d8ef96e717714f7193ecc5227b00e291",
       "version_major": 2,
       "version_minor": 0
      },
      "text/plain": [
       "  0%|          | 0/189 [00:00<?, ?it/s]"
      ]
     },
     "metadata": {},
     "output_type": "display_data"
    },
    {
     "name": "stdout",
     "output_type": "stream",
     "text": [
      "{'eval_loss': 1.1481742858886719, 'eval_accuracy': 0.6799468791500664, 'eval_runtime': 0.6633, 'eval_samples_per_second': 2270.528, 'eval_steps_per_second': 284.947, 'epoch': 0.33}\n",
      "{'loss': 1.1907, 'grad_norm': 3.259821653366089, 'learning_rate': 1.7343957503320053e-05, 'epoch': 0.4}\n"
     ]
    },
    {
     "data": {
      "application/vnd.jupyter.widget-view+json": {
       "model_id": "f8a574980f994814a3d6102d2e512ad0",
       "version_major": 2,
       "version_minor": 0
      },
      "text/plain": [
       "  0%|          | 0/189 [00:00<?, ?it/s]"
      ]
     },
     "metadata": {},
     "output_type": "display_data"
    },
    {
     "name": "stdout",
     "output_type": "stream",
     "text": [
      "{'eval_loss': 1.0692532062530518, 'eval_accuracy': 0.6892430278884463, 'eval_runtime': 0.6161, 'eval_samples_per_second': 2444.484, 'eval_steps_per_second': 306.778, 'epoch': 0.4}\n",
      "{'loss': 1.0889, 'grad_norm': 5.812127113342285, 'learning_rate': 1.6901283753873398e-05, 'epoch': 0.46}\n"
     ]
    },
    {
     "data": {
      "application/vnd.jupyter.widget-view+json": {
       "model_id": "a8561e44c2b244e49dfec8d2064a9787",
       "version_major": 2,
       "version_minor": 0
      },
      "text/plain": [
       "  0%|          | 0/189 [00:00<?, ?it/s]"
      ]
     },
     "metadata": {},
     "output_type": "display_data"
    },
    {
     "name": "stdout",
     "output_type": "stream",
     "text": [
      "{'eval_loss': 1.0046932697296143, 'eval_accuracy': 0.6985391766268261, 'eval_runtime': 0.6261, 'eval_samples_per_second': 2405.355, 'eval_steps_per_second': 301.867, 'epoch': 0.46}\n",
      "{'loss': 1.0607, 'grad_norm': 2.426111936569214, 'learning_rate': 1.645861000442674e-05, 'epoch': 0.53}\n"
     ]
    },
    {
     "data": {
      "application/vnd.jupyter.widget-view+json": {
       "model_id": "9bc372ac29d8496d8d37cc2377187d68",
       "version_major": 2,
       "version_minor": 0
      },
      "text/plain": [
       "  0%|          | 0/189 [00:00<?, ?it/s]"
      ]
     },
     "metadata": {},
     "output_type": "display_data"
    },
    {
     "name": "stdout",
     "output_type": "stream",
     "text": [
      "{'eval_loss': 0.9476093053817749, 'eval_accuracy': 0.7071713147410359, 'eval_runtime': 0.6152, 'eval_samples_per_second': 2447.934, 'eval_steps_per_second': 307.211, 'epoch': 0.53}\n",
      "{'loss': 0.9847, 'grad_norm': 5.285865783691406, 'learning_rate': 1.601593625498008e-05, 'epoch': 0.6}\n"
     ]
    },
    {
     "data": {
      "application/vnd.jupyter.widget-view+json": {
       "model_id": "331f858adbbe4441bfaf15bd629ba57f",
       "version_major": 2,
       "version_minor": 0
      },
      "text/plain": [
       "  0%|          | 0/189 [00:00<?, ?it/s]"
      ]
     },
     "metadata": {},
     "output_type": "display_data"
    },
    {
     "name": "stdout",
     "output_type": "stream",
     "text": [
      "{'eval_loss': 0.9049691557884216, 'eval_accuracy': 0.7158034528552457, 'eval_runtime': 0.6353, 'eval_samples_per_second': 2370.49, 'eval_steps_per_second': 297.492, 'epoch': 0.6}\n",
      "{'loss': 0.871, 'grad_norm': 2.7660162448883057, 'learning_rate': 1.5573262505533425e-05, 'epoch': 0.66}\n"
     ]
    },
    {
     "data": {
      "application/vnd.jupyter.widget-view+json": {
       "model_id": "a51c45dee3ee4beb91858ff874e76683",
       "version_major": 2,
       "version_minor": 0
      },
      "text/plain": [
       "  0%|          | 0/189 [00:00<?, ?it/s]"
      ]
     },
     "metadata": {},
     "output_type": "display_data"
    },
    {
     "name": "stdout",
     "output_type": "stream",
     "text": [
      "{'eval_loss': 0.8660314679145813, 'eval_accuracy': 0.7324037184594954, 'eval_runtime': 0.6326, 'eval_samples_per_second': 2380.56, 'eval_steps_per_second': 298.755, 'epoch': 0.66}\n",
      "{'loss': 0.96, 'grad_norm': 7.099055767059326, 'learning_rate': 1.5130588756086767e-05, 'epoch': 0.73}\n"
     ]
    },
    {
     "data": {
      "application/vnd.jupyter.widget-view+json": {
       "model_id": "b0f3d95cc56d49c88243f7c084c4e40a",
       "version_major": 2,
       "version_minor": 0
      },
      "text/plain": [
       "  0%|          | 0/189 [00:00<?, ?it/s]"
      ]
     },
     "metadata": {},
     "output_type": "display_data"
    },
    {
     "name": "stdout",
     "output_type": "stream",
     "text": [
      "{'eval_loss': 0.8270184397697449, 'eval_accuracy': 0.750332005312085, 'eval_runtime': 0.6417, 'eval_samples_per_second': 2346.728, 'eval_steps_per_second': 294.51, 'epoch': 0.73}\n",
      "{'loss': 0.9742, 'grad_norm': 4.244746208190918, 'learning_rate': 1.4687915006640108e-05, 'epoch': 0.8}\n"
     ]
    },
    {
     "data": {
      "application/vnd.jupyter.widget-view+json": {
       "model_id": "58ed637313394da7a39692ffc5d96c0b",
       "version_major": 2,
       "version_minor": 0
      },
      "text/plain": [
       "  0%|          | 0/189 [00:00<?, ?it/s]"
      ]
     },
     "metadata": {},
     "output_type": "display_data"
    },
    {
     "name": "stdout",
     "output_type": "stream",
     "text": [
      "{'eval_loss': 0.8001986145973206, 'eval_accuracy': 0.7589641434262948, 'eval_runtime': 0.6496, 'eval_samples_per_second': 2318.232, 'eval_steps_per_second': 290.934, 'epoch': 0.8}\n",
      "{'loss': 0.8846, 'grad_norm': 6.516067981719971, 'learning_rate': 1.424524125719345e-05, 'epoch': 0.86}\n"
     ]
    },
    {
     "data": {
      "application/vnd.jupyter.widget-view+json": {
       "model_id": "151ed798e6134fa08f46f4c7d7e47190",
       "version_major": 2,
       "version_minor": 0
      },
      "text/plain": [
       "  0%|          | 0/189 [00:00<?, ?it/s]"
      ]
     },
     "metadata": {},
     "output_type": "display_data"
    },
    {
     "name": "stdout",
     "output_type": "stream",
     "text": [
      "{'eval_loss': 0.772910475730896, 'eval_accuracy': 0.7656042496679947, 'eval_runtime': 0.6308, 'eval_samples_per_second': 2387.552, 'eval_steps_per_second': 299.633, 'epoch': 0.86}\n",
      "{'loss': 0.8374, 'grad_norm': 3.513608694076538, 'learning_rate': 1.380256750774679e-05, 'epoch': 0.93}\n"
     ]
    },
    {
     "data": {
      "application/vnd.jupyter.widget-view+json": {
       "model_id": "7b51392923ce40c981b02d4b95f762fb",
       "version_major": 2,
       "version_minor": 0
      },
      "text/plain": [
       "  0%|          | 0/189 [00:00<?, ?it/s]"
      ]
     },
     "metadata": {},
     "output_type": "display_data"
    },
    {
     "name": "stdout",
     "output_type": "stream",
     "text": [
      "{'eval_loss': 0.7573221325874329, 'eval_accuracy': 0.7715803452855245, 'eval_runtime': 0.6511, 'eval_samples_per_second': 2313.118, 'eval_steps_per_second': 290.292, 'epoch': 0.93}\n",
      "{'loss': 0.8231, 'grad_norm': 5.78059196472168, 'learning_rate': 1.3359893758300134e-05, 'epoch': 1.0}\n"
     ]
    },
    {
     "data": {
      "application/vnd.jupyter.widget-view+json": {
       "model_id": "223ce2d083904e32a6ef96fc7a2919c5",
       "version_major": 2,
       "version_minor": 0
      },
      "text/plain": [
       "  0%|          | 0/189 [00:00<?, ?it/s]"
      ]
     },
     "metadata": {},
     "output_type": "display_data"
    },
    {
     "name": "stdout",
     "output_type": "stream",
     "text": [
      "{'eval_loss': 0.7427656054496765, 'eval_accuracy': 0.7675962815405046, 'eval_runtime': 0.6421, 'eval_samples_per_second': 2345.316, 'eval_steps_per_second': 294.332, 'epoch': 1.0}\n",
      "{'loss': 0.7835, 'grad_norm': 7.775612831115723, 'learning_rate': 1.2917220008853477e-05, 'epoch': 1.06}\n"
     ]
    },
    {
     "data": {
      "application/vnd.jupyter.widget-view+json": {
       "model_id": "f8d9022b2352423b965ce6bf771319f2",
       "version_major": 2,
       "version_minor": 0
      },
      "text/plain": [
       "  0%|          | 0/189 [00:00<?, ?it/s]"
      ]
     },
     "metadata": {},
     "output_type": "display_data"
    },
    {
     "name": "stdout",
     "output_type": "stream",
     "text": [
      "{'eval_loss': 0.7284327149391174, 'eval_accuracy': 0.7742363877822045, 'eval_runtime': 0.6374, 'eval_samples_per_second': 2362.582, 'eval_steps_per_second': 296.499, 'epoch': 1.06}\n",
      "{'loss': 0.745, 'grad_norm': 7.053619861602783, 'learning_rate': 1.247454625940682e-05, 'epoch': 1.13}\n"
     ]
    },
    {
     "data": {
      "application/vnd.jupyter.widget-view+json": {
       "model_id": "60d528c526f8472292cf333839948bde",
       "version_major": 2,
       "version_minor": 0
      },
      "text/plain": [
       "  0%|          | 0/189 [00:00<?, ?it/s]"
      ]
     },
     "metadata": {},
     "output_type": "display_data"
    },
    {
     "name": "stdout",
     "output_type": "stream",
     "text": [
      "{'eval_loss': 0.7166739702224731, 'eval_accuracy': 0.7782204515272244, 'eval_runtime': 0.6361, 'eval_samples_per_second': 2367.517, 'eval_steps_per_second': 297.119, 'epoch': 1.13}\n",
      "{'loss': 0.7347, 'grad_norm': 3.508232831954956, 'learning_rate': 1.2031872509960161e-05, 'epoch': 1.2}\n"
     ]
    },
    {
     "data": {
      "application/vnd.jupyter.widget-view+json": {
       "model_id": "6c96be47bd404424b4977376436ab26d",
       "version_major": 2,
       "version_minor": 0
      },
      "text/plain": [
       "  0%|          | 0/189 [00:00<?, ?it/s]"
      ]
     },
     "metadata": {},
     "output_type": "display_data"
    },
    {
     "name": "stdout",
     "output_type": "stream",
     "text": [
      "{'eval_loss': 0.6997937560081482, 'eval_accuracy': 0.7788844621513944, 'eval_runtime': 0.6851, 'eval_samples_per_second': 2198.321, 'eval_steps_per_second': 275.885, 'epoch': 1.2}\n",
      "{'loss': 0.7341, 'grad_norm': 4.383516311645508, 'learning_rate': 1.1589198760513502e-05, 'epoch': 1.26}\n"
     ]
    },
    {
     "data": {
      "application/vnd.jupyter.widget-view+json": {
       "model_id": "ff9c68e48e29422f926bcf1921f0c5c9",
       "version_major": 2,
       "version_minor": 0
      },
      "text/plain": [
       "  0%|          | 0/189 [00:00<?, ?it/s]"
      ]
     },
     "metadata": {},
     "output_type": "display_data"
    },
    {
     "name": "stdout",
     "output_type": "stream",
     "text": [
      "{'eval_loss': 0.686141312122345, 'eval_accuracy': 0.7828685258964143, 'eval_runtime': 0.6391, 'eval_samples_per_second': 2356.429, 'eval_steps_per_second': 295.727, 'epoch': 1.26}\n",
      "{'loss': 0.6804, 'grad_norm': 5.28529167175293, 'learning_rate': 1.1146525011066844e-05, 'epoch': 1.33}\n"
     ]
    },
    {
     "data": {
      "application/vnd.jupyter.widget-view+json": {
       "model_id": "e45fd4ce9cc6417c8bb8409f59350c59",
       "version_major": 2,
       "version_minor": 0
      },
      "text/plain": [
       "  0%|          | 0/189 [00:00<?, ?it/s]"
      ]
     },
     "metadata": {},
     "output_type": "display_data"
    },
    {
     "name": "stdout",
     "output_type": "stream",
     "text": [
      "{'eval_loss': 0.6833047270774841, 'eval_accuracy': 0.7835325365205843, 'eval_runtime': 0.6526, 'eval_samples_per_second': 2307.555, 'eval_steps_per_second': 289.594, 'epoch': 1.33}\n",
      "{'loss': 0.707, 'grad_norm': 12.867156982421875, 'learning_rate': 1.0703851261620187e-05, 'epoch': 1.39}\n"
     ]
    },
    {
     "data": {
      "application/vnd.jupyter.widget-view+json": {
       "model_id": "80c49df92a3e4fbf92d01f7c88c76a9b",
       "version_major": 2,
       "version_minor": 0
      },
      "text/plain": [
       "  0%|          | 0/189 [00:00<?, ?it/s]"
      ]
     },
     "metadata": {},
     "output_type": "display_data"
    },
    {
     "name": "stdout",
     "output_type": "stream",
     "text": [
      "{'eval_loss': 0.66912442445755, 'eval_accuracy': 0.7875166002656042, 'eval_runtime': 0.6537, 'eval_samples_per_second': 2303.657, 'eval_steps_per_second': 289.104, 'epoch': 1.39}\n",
      "{'loss': 0.7383, 'grad_norm': 9.645358085632324, 'learning_rate': 1.0261177512173528e-05, 'epoch': 1.46}\n"
     ]
    },
    {
     "data": {
      "application/vnd.jupyter.widget-view+json": {
       "model_id": "adb7a508119e4c3a9000a7e1640f72e4",
       "version_major": 2,
       "version_minor": 0
      },
      "text/plain": [
       "  0%|          | 0/189 [00:00<?, ?it/s]"
      ]
     },
     "metadata": {},
     "output_type": "display_data"
    },
    {
     "name": "stdout",
     "output_type": "stream",
     "text": [
      "{'eval_loss': 0.6624565720558167, 'eval_accuracy': 0.7868525896414342, 'eval_runtime': 0.6398, 'eval_samples_per_second': 2353.836, 'eval_steps_per_second': 295.402, 'epoch': 1.46}\n",
      "{'loss': 0.731, 'grad_norm': 3.677278995513916, 'learning_rate': 9.818503762726871e-06, 'epoch': 1.53}\n"
     ]
    },
    {
     "data": {
      "application/vnd.jupyter.widget-view+json": {
       "model_id": "81a8da0a01614ac5a1c40abdc59672a2",
       "version_major": 2,
       "version_minor": 0
      },
      "text/plain": [
       "  0%|          | 0/189 [00:00<?, ?it/s]"
      ]
     },
     "metadata": {},
     "output_type": "display_data"
    },
    {
     "name": "stdout",
     "output_type": "stream",
     "text": [
      "{'eval_loss': 0.6648130416870117, 'eval_accuracy': 0.7861885790172642, 'eval_runtime': 0.6421, 'eval_samples_per_second': 2345.463, 'eval_steps_per_second': 294.351, 'epoch': 1.53}\n",
      "{'loss': 0.7179, 'grad_norm': 9.408500671386719, 'learning_rate': 9.375830013280214e-06, 'epoch': 1.59}\n"
     ]
    },
    {
     "data": {
      "application/vnd.jupyter.widget-view+json": {
       "model_id": "58b9f1581d004e60bb1521236225be3a",
       "version_major": 2,
       "version_minor": 0
      },
      "text/plain": [
       "  0%|          | 0/189 [00:00<?, ?it/s]"
      ]
     },
     "metadata": {},
     "output_type": "display_data"
    },
    {
     "name": "stdout",
     "output_type": "stream",
     "text": [
      "{'eval_loss': 0.6507211923599243, 'eval_accuracy': 0.7915006640106241, 'eval_runtime': 0.6773, 'eval_samples_per_second': 2223.423, 'eval_steps_per_second': 279.035, 'epoch': 1.59}\n",
      "{'loss': 0.7137, 'grad_norm': 10.277100563049316, 'learning_rate': 8.933156263833556e-06, 'epoch': 1.66}\n"
     ]
    },
    {
     "data": {
      "application/vnd.jupyter.widget-view+json": {
       "model_id": "98c976402644461daddde3312989efb3",
       "version_major": 2,
       "version_minor": 0
      },
      "text/plain": [
       "  0%|          | 0/189 [00:00<?, ?it/s]"
      ]
     },
     "metadata": {},
     "output_type": "display_data"
    },
    {
     "name": "stdout",
     "output_type": "stream",
     "text": [
      "{'eval_loss': 0.6420018076896667, 'eval_accuracy': 0.796812749003984, 'eval_runtime': 0.6446, 'eval_samples_per_second': 2336.363, 'eval_steps_per_second': 293.209, 'epoch': 1.66}\n",
      "{'loss': 0.6823, 'grad_norm': 8.837343215942383, 'learning_rate': 8.490482514386897e-06, 'epoch': 1.73}\n"
     ]
    },
    {
     "data": {
      "application/vnd.jupyter.widget-view+json": {
       "model_id": "152ace3232ec404d8515f592ca3cd4be",
       "version_major": 2,
       "version_minor": 0
      },
      "text/plain": [
       "  0%|          | 0/189 [00:00<?, ?it/s]"
      ]
     },
     "metadata": {},
     "output_type": "display_data"
    },
    {
     "name": "stdout",
     "output_type": "stream",
     "text": [
      "{'eval_loss': 0.6349707245826721, 'eval_accuracy': 0.7948207171314741, 'eval_runtime': 0.6637, 'eval_samples_per_second': 2269.152, 'eval_steps_per_second': 284.774, 'epoch': 1.73}\n",
      "{'loss': 0.6833, 'grad_norm': 14.052383422851562, 'learning_rate': 8.04780876494024e-06, 'epoch': 1.79}\n"
     ]
    },
    {
     "data": {
      "application/vnd.jupyter.widget-view+json": {
       "model_id": "a1f457ee04174e6e91eb0a11842cc483",
       "version_major": 2,
       "version_minor": 0
      },
      "text/plain": [
       "  0%|          | 0/189 [00:00<?, ?it/s]"
      ]
     },
     "metadata": {},
     "output_type": "display_data"
    },
    {
     "name": "stdout",
     "output_type": "stream",
     "text": [
      "{'eval_loss': 0.6296197175979614, 'eval_accuracy': 0.8027888446215139, 'eval_runtime': 0.6531, 'eval_samples_per_second': 2305.785, 'eval_steps_per_second': 289.371, 'epoch': 1.79}\n",
      "{'loss': 0.6426, 'grad_norm': 13.15983772277832, 'learning_rate': 7.605135015493582e-06, 'epoch': 1.86}\n"
     ]
    },
    {
     "data": {
      "application/vnd.jupyter.widget-view+json": {
       "model_id": "32a960f6f1cf4cc79717a47910e354a8",
       "version_major": 2,
       "version_minor": 0
      },
      "text/plain": [
       "  0%|          | 0/189 [00:00<?, ?it/s]"
      ]
     },
     "metadata": {},
     "output_type": "display_data"
    },
    {
     "name": "stdout",
     "output_type": "stream",
     "text": [
      "{'eval_loss': 0.6282073259353638, 'eval_accuracy': 0.8007968127490039, 'eval_runtime': 0.6588, 'eval_samples_per_second': 2286.102, 'eval_steps_per_second': 286.901, 'epoch': 1.86}\n",
      "{'loss': 0.7316, 'grad_norm': 11.782262802124023, 'learning_rate': 7.162461266046924e-06, 'epoch': 1.93}\n"
     ]
    },
    {
     "data": {
      "application/vnd.jupyter.widget-view+json": {
       "model_id": "aac93cf2fdc3437e9fd5281a205999b7",
       "version_major": 2,
       "version_minor": 0
      },
      "text/plain": [
       "  0%|          | 0/189 [00:00<?, ?it/s]"
      ]
     },
     "metadata": {},
     "output_type": "display_data"
    },
    {
     "name": "stdout",
     "output_type": "stream",
     "text": [
      "{'eval_loss': 0.6222200989723206, 'eval_accuracy': 0.800132802124834, 'eval_runtime': 0.6445, 'eval_samples_per_second': 2336.69, 'eval_steps_per_second': 293.25, 'epoch': 1.93}\n",
      "{'loss': 0.5742, 'grad_norm': 6.211203575134277, 'learning_rate': 6.719787516600266e-06, 'epoch': 1.99}\n"
     ]
    },
    {
     "data": {
      "application/vnd.jupyter.widget-view+json": {
       "model_id": "41db5a916bbb4d4691dc6d7d6c945abd",
       "version_major": 2,
       "version_minor": 0
      },
      "text/plain": [
       "  0%|          | 0/189 [00:00<?, ?it/s]"
      ]
     },
     "metadata": {},
     "output_type": "display_data"
    },
    {
     "name": "stdout",
     "output_type": "stream",
     "text": [
      "{'eval_loss': 0.6189992427825928, 'eval_accuracy': 0.8027888446215139, 'eval_runtime': 0.6627, 'eval_samples_per_second': 2272.433, 'eval_steps_per_second': 285.186, 'epoch': 1.99}\n",
      "{'loss': 0.6055, 'grad_norm': 5.510145664215088, 'learning_rate': 6.277113767153609e-06, 'epoch': 2.06}\n"
     ]
    },
    {
     "data": {
      "application/vnd.jupyter.widget-view+json": {
       "model_id": "f3be1eec58bc40ea91d20acf578bac0e",
       "version_major": 2,
       "version_minor": 0
      },
      "text/plain": [
       "  0%|          | 0/189 [00:00<?, ?it/s]"
      ]
     },
     "metadata": {},
     "output_type": "display_data"
    },
    {
     "name": "stdout",
     "output_type": "stream",
     "text": [
      "{'eval_loss': 0.6190655827522278, 'eval_accuracy': 0.8047808764940239, 'eval_runtime': 0.6578, 'eval_samples_per_second': 2289.359, 'eval_steps_per_second': 287.31, 'epoch': 2.06}\n",
      "{'loss': 0.6391, 'grad_norm': 11.105640411376953, 'learning_rate': 5.834440017706951e-06, 'epoch': 2.12}\n"
     ]
    },
    {
     "data": {
      "application/vnd.jupyter.widget-view+json": {
       "model_id": "a495a1ae9f024c1f8b68df670b905ea8",
       "version_major": 2,
       "version_minor": 0
      },
      "text/plain": [
       "  0%|          | 0/189 [00:00<?, ?it/s]"
      ]
     },
     "metadata": {},
     "output_type": "display_data"
    },
    {
     "name": "stdout",
     "output_type": "stream",
     "text": [
      "{'eval_loss': 0.6181250214576721, 'eval_accuracy': 0.8047808764940239, 'eval_runtime': 0.6647, 'eval_samples_per_second': 2265.753, 'eval_steps_per_second': 284.347, 'epoch': 2.12}\n",
      "{'loss': 0.6055, 'grad_norm': 10.826202392578125, 'learning_rate': 5.391766268260292e-06, 'epoch': 2.19}\n"
     ]
    },
    {
     "data": {
      "application/vnd.jupyter.widget-view+json": {
       "model_id": "eae02e523e31492a9a1ce4ab4c2359cb",
       "version_major": 2,
       "version_minor": 0
      },
      "text/plain": [
       "  0%|          | 0/189 [00:00<?, ?it/s]"
      ]
     },
     "metadata": {},
     "output_type": "display_data"
    },
    {
     "name": "stdout",
     "output_type": "stream",
     "text": [
      "{'eval_loss': 0.6134809851646423, 'eval_accuracy': 0.8054448871181938, 'eval_runtime': 0.6542, 'eval_samples_per_second': 2302.045, 'eval_steps_per_second': 288.902, 'epoch': 2.19}\n",
      "{'loss': 0.6078, 'grad_norm': 8.934516906738281, 'learning_rate': 4.949092518813634e-06, 'epoch': 2.26}\n"
     ]
    },
    {
     "data": {
      "application/vnd.jupyter.widget-view+json": {
       "model_id": "5201d0a1c2f74c27bfc7a503f07e0f6f",
       "version_major": 2,
       "version_minor": 0
      },
      "text/plain": [
       "  0%|          | 0/189 [00:00<?, ?it/s]"
      ]
     },
     "metadata": {},
     "output_type": "display_data"
    },
    {
     "name": "stdout",
     "output_type": "stream",
     "text": [
      "{'eval_loss': 0.6147929430007935, 'eval_accuracy': 0.8047808764940239, 'eval_runtime': 0.6811, 'eval_samples_per_second': 2211.09, 'eval_steps_per_second': 277.487, 'epoch': 2.26}\n",
      "{'loss': 0.611, 'grad_norm': 24.58729362487793, 'learning_rate': 4.5064187693669766e-06, 'epoch': 2.32}\n"
     ]
    },
    {
     "data": {
      "application/vnd.jupyter.widget-view+json": {
       "model_id": "3ff42c520e474ce39e651545870878af",
       "version_major": 2,
       "version_minor": 0
      },
      "text/plain": [
       "  0%|          | 0/189 [00:00<?, ?it/s]"
      ]
     },
     "metadata": {},
     "output_type": "display_data"
    },
    {
     "name": "stdout",
     "output_type": "stream",
     "text": [
      "{'eval_loss': 0.6129364371299744, 'eval_accuracy': 0.8047808764940239, 'eval_runtime': 0.6522, 'eval_samples_per_second': 2309.282, 'eval_steps_per_second': 289.81, 'epoch': 2.32}\n",
      "{'loss': 0.6054, 'grad_norm': 8.290237426757812, 'learning_rate': 4.06374501992032e-06, 'epoch': 2.39}\n"
     ]
    },
    {
     "data": {
      "application/vnd.jupyter.widget-view+json": {
       "model_id": "adadcb21ceb444a095119309f4646fc7",
       "version_major": 2,
       "version_minor": 0
      },
      "text/plain": [
       "  0%|          | 0/189 [00:00<?, ?it/s]"
      ]
     },
     "metadata": {},
     "output_type": "display_data"
    },
    {
     "name": "stdout",
     "output_type": "stream",
     "text": [
      "{'eval_loss': 0.6083243489265442, 'eval_accuracy': 0.8067729083665338, 'eval_runtime': 0.6771, 'eval_samples_per_second': 2224.341, 'eval_steps_per_second': 279.15, 'epoch': 2.39}\n",
      "{'loss': 0.6128, 'grad_norm': 15.895148277282715, 'learning_rate': 3.621071270473661e-06, 'epoch': 2.46}\n"
     ]
    },
    {
     "data": {
      "application/vnd.jupyter.widget-view+json": {
       "model_id": "0c989d9b6d39467f9cf89464a28527ee",
       "version_major": 2,
       "version_minor": 0
      },
      "text/plain": [
       "  0%|          | 0/189 [00:00<?, ?it/s]"
      ]
     },
     "metadata": {},
     "output_type": "display_data"
    },
    {
     "name": "stdout",
     "output_type": "stream",
     "text": [
      "{'eval_loss': 0.6055836081504822, 'eval_accuracy': 0.8074369189907038, 'eval_runtime': 0.6717, 'eval_samples_per_second': 2241.992, 'eval_steps_per_second': 281.366, 'epoch': 2.46}\n",
      "{'loss': 0.6804, 'grad_norm': 7.093669414520264, 'learning_rate': 3.1783975210270036e-06, 'epoch': 2.52}\n"
     ]
    },
    {
     "data": {
      "application/vnd.jupyter.widget-view+json": {
       "model_id": "cbe3108e6ea24536885d296be67d2753",
       "version_major": 2,
       "version_minor": 0
      },
      "text/plain": [
       "  0%|          | 0/189 [00:00<?, ?it/s]"
      ]
     },
     "metadata": {},
     "output_type": "display_data"
    },
    {
     "name": "stdout",
     "output_type": "stream",
     "text": [
      "{'eval_loss': 0.6052801609039307, 'eval_accuracy': 0.8054448871181938, 'eval_runtime': 0.6684, 'eval_samples_per_second': 2253.033, 'eval_steps_per_second': 282.751, 'epoch': 2.52}\n",
      "{'loss': 0.5988, 'grad_norm': 15.209307670593262, 'learning_rate': 2.7357237715803453e-06, 'epoch': 2.59}\n"
     ]
    },
    {
     "data": {
      "application/vnd.jupyter.widget-view+json": {
       "model_id": "09faa9ad53314cb48f95bf55222b038c",
       "version_major": 2,
       "version_minor": 0
      },
      "text/plain": [
       "  0%|          | 0/189 [00:00<?, ?it/s]"
      ]
     },
     "metadata": {},
     "output_type": "display_data"
    },
    {
     "name": "stdout",
     "output_type": "stream",
     "text": [
      "{'eval_loss': 0.601967990398407, 'eval_accuracy': 0.8087649402390438, 'eval_runtime': 0.6646, 'eval_samples_per_second': 2265.868, 'eval_steps_per_second': 284.362, 'epoch': 2.59}\n",
      "{'loss': 0.5758, 'grad_norm': 17.48622703552246, 'learning_rate': 2.2930500221336875e-06, 'epoch': 2.66}\n"
     ]
    },
    {
     "data": {
      "application/vnd.jupyter.widget-view+json": {
       "model_id": "3591e2f78ec3430cb39bc52bfde70bda",
       "version_major": 2,
       "version_minor": 0
      },
      "text/plain": [
       "  0%|          | 0/189 [00:00<?, ?it/s]"
      ]
     },
     "metadata": {},
     "output_type": "display_data"
    },
    {
     "name": "stdout",
     "output_type": "stream",
     "text": [
      "{'eval_loss': 0.6004229784011841, 'eval_accuracy': 0.8087649402390438, 'eval_runtime': 0.6845, 'eval_samples_per_second': 2200.276, 'eval_steps_per_second': 276.13, 'epoch': 2.66}\n",
      "{'loss': 0.6272, 'grad_norm': 11.989859580993652, 'learning_rate': 1.8503762726870297e-06, 'epoch': 2.72}\n"
     ]
    },
    {
     "data": {
      "application/vnd.jupyter.widget-view+json": {
       "model_id": "1314a909e15a4ac195e70a9a1200c2f9",
       "version_major": 2,
       "version_minor": 0
      },
      "text/plain": [
       "  0%|          | 0/189 [00:00<?, ?it/s]"
      ]
     },
     "metadata": {},
     "output_type": "display_data"
    },
    {
     "name": "stdout",
     "output_type": "stream",
     "text": [
      "{'eval_loss': 0.5975317358970642, 'eval_accuracy': 0.8087649402390438, 'eval_runtime': 0.6651, 'eval_samples_per_second': 2264.174, 'eval_steps_per_second': 284.149, 'epoch': 2.72}\n",
      "{'loss': 0.6284, 'grad_norm': 10.849893569946289, 'learning_rate': 1.407702523240372e-06, 'epoch': 2.79}\n"
     ]
    },
    {
     "data": {
      "application/vnd.jupyter.widget-view+json": {
       "model_id": "0455479056854cb2aee3616f04ed95e4",
       "version_major": 2,
       "version_minor": 0
      },
      "text/plain": [
       "  0%|          | 0/189 [00:00<?, ?it/s]"
      ]
     },
     "metadata": {},
     "output_type": "display_data"
    },
    {
     "name": "stdout",
     "output_type": "stream",
     "text": [
      "{'eval_loss': 0.5966426730155945, 'eval_accuracy': 0.8094289508632138, 'eval_runtime': 0.6698, 'eval_samples_per_second': 2248.308, 'eval_steps_per_second': 282.158, 'epoch': 2.79}\n",
      "{'loss': 0.5924, 'grad_norm': 2.972259998321533, 'learning_rate': 9.65028773793714e-07, 'epoch': 2.86}\n"
     ]
    },
    {
     "data": {
      "application/vnd.jupyter.widget-view+json": {
       "model_id": "eaf74958f17a47d9825321113bf4f03b",
       "version_major": 2,
       "version_minor": 0
      },
      "text/plain": [
       "  0%|          | 0/189 [00:00<?, ?it/s]"
      ]
     },
     "metadata": {},
     "output_type": "display_data"
    },
    {
     "name": "stdout",
     "output_type": "stream",
     "text": [
      "{'eval_loss': 0.5962011218070984, 'eval_accuracy': 0.8094289508632138, 'eval_runtime': 0.7162, 'eval_samples_per_second': 2102.771, 'eval_steps_per_second': 263.894, 'epoch': 2.86}\n",
      "{'loss': 0.5675, 'grad_norm': 14.536211967468262, 'learning_rate': 5.223550243470563e-07, 'epoch': 2.92}\n"
     ]
    },
    {
     "data": {
      "application/vnd.jupyter.widget-view+json": {
       "model_id": "cce2ed9649364e1a8b229de998434ffc",
       "version_major": 2,
       "version_minor": 0
      },
      "text/plain": [
       "  0%|          | 0/189 [00:00<?, ?it/s]"
      ]
     },
     "metadata": {},
     "output_type": "display_data"
    },
    {
     "name": "stdout",
     "output_type": "stream",
     "text": [
      "{'eval_loss': 0.5954173803329468, 'eval_accuracy': 0.8087649402390438, 'eval_runtime': 0.6804, 'eval_samples_per_second': 2213.524, 'eval_steps_per_second': 277.793, 'epoch': 2.92}\n",
      "{'loss': 0.6235, 'grad_norm': 27.909141540527344, 'learning_rate': 7.968127490039842e-08, 'epoch': 2.99}\n"
     ]
    },
    {
     "data": {
      "application/vnd.jupyter.widget-view+json": {
       "model_id": "3dd128ea04ad4da4a366a0d7cebd73dd",
       "version_major": 2,
       "version_minor": 0
      },
      "text/plain": [
       "  0%|          | 0/189 [00:00<?, ?it/s]"
      ]
     },
     "metadata": {},
     "output_type": "display_data"
    },
    {
     "name": "stdout",
     "output_type": "stream",
     "text": [
      "{'eval_loss': 0.5950875878334045, 'eval_accuracy': 0.8087649402390438, 'eval_runtime': 0.6719, 'eval_samples_per_second': 2241.515, 'eval_steps_per_second': 281.306, 'epoch': 2.99}\n",
      "{'train_runtime': 75.3808, 'train_samples_per_second': 239.663, 'train_steps_per_second': 29.968, 'train_loss': 0.82227230874138, 'epoch': 3.0}\n"
     ]
    },
    {
     "data": {
      "application/vnd.jupyter.widget-view+json": {
       "model_id": "871cddefaa5642daad01ee31c7ca6d7d",
       "version_major": 2,
       "version_minor": 0
      },
      "text/plain": [
       "  0%|          | 0/189 [00:00<?, ?it/s]"
      ]
     },
     "metadata": {},
     "output_type": "display_data"
    },
    {
     "name": "stderr",
     "output_type": "stream",
     "text": [
      "Hardware accelerator e.g. GPU is available in the environment, but no `device` argument is passed to the `Pipeline` object. Model will be on CPU.\n"
     ]
    },
    {
     "name": "stdout",
     "output_type": "stream",
     "text": [
      "Evaluation results: {'eval_loss': 0.5950879454612732, 'eval_accuracy': 0.8087649402390438, 'eval_runtime': 0.6782, 'eval_samples_per_second': 2220.456, 'eval_steps_per_second': 278.663, 'epoch': 3.0}\n"
     ]
    },
    {
     "name": "stderr",
     "output_type": "stream",
     "text": [
      "c:\\Users\\rvv19\\AppData\\Local\\Programs\\Python\\Python312\\Lib\\site-packages\\transformers\\pipelines\\text_classification.py:104: UserWarning: `return_all_scores` is now deprecated,  if want a similar functionality use `top_k=None` instead of `return_all_scores=True` or `top_k=1` instead of `return_all_scores=False`.\n",
      "  warnings.warn(\n",
      "2025/03/12 12:59:14 WARNING mlflow.utils.requirements_utils: Found torch version (2.2.2+cu118) contains a local version label (+cu118). MLflow logged a pip requirement for this package as 'torch==2.2.2' without the local version label to make it installable from PyPI. To specify pip requirements containing local version labels, please use `conda_env` or `pip_requirements`.\n",
      "2025/03/12 12:59:14 WARNING mlflow.utils.environment: On Windows, timeout is not supported for model requirement inference. Therefore, the operation is not bound by a timeout and may hang indefinitely. If it hangs, please consider specifying the signature manually.\n",
      "2025/03/12 12:59:25 WARNING mlflow.utils.requirements_utils: Found torch version (2.2.2+cu118) contains a local version label (+cu118). MLflow logged a pip requirement for this package as 'torch==2.2.2' without the local version label to make it installable from PyPI. To specify pip requirements containing local version labels, please use `conda_env` or `pip_requirements`.\n",
      "2025/03/12 12:59:25 WARNING mlflow.utils.environment: On Windows, timeout is not supported for model requirement inference. Therefore, the operation is not bound by a timeout and may hang indefinitely. If it hangs, please consider specifying the signature manually.\n",
      "2025/03/12 12:59:34 INFO mlflow.tracking._tracking_service.client: 🏃 View run fearless-kit-578 at: http://localhost:8080/#/experiments/104499749693643927/runs/b4de7060c7544184bca0ab64cd1bd49e.\n",
      "2025/03/12 12:59:34 INFO mlflow.tracking._tracking_service.client: 🧪 View experiment at: http://localhost:8080/#/experiments/104499749693643927.\n",
      "2025/03/12 12:59:34 INFO mlflow.system_metrics.system_metrics_monitor: Stopping system metrics monitoring...\n",
      "2025/03/12 12:59:34 INFO mlflow.system_metrics.system_metrics_monitor: Successfully terminated system metrics monitoring!\n",
      "Hardware accelerator e.g. GPU is available in the environment, but no `device` argument is passed to the `Pipeline` object. Model will be on CPU.\n"
     ]
    },
    {
     "name": "stdout",
     "output_type": "stream",
     "text": [
      "Prediction: [[{'label': 'LABEL_0', 'score': 0.015407368540763855}, {'label': 'LABEL_1', 'score': 0.009619110263884068}, {'label': 'LABEL_2', 'score': 0.007033100351691246}, {'label': 'LABEL_3', 'score': 0.9212712049484253}, {'label': 'LABEL_4', 'score': 0.01408296450972557}, {'label': 'LABEL_5', 'score': 0.02196928672492504}, {'label': 'LABEL_6', 'score': 0.010616900399327278}]]\n"
     ]
    }
   ],
   "source": [
    "BASE_MODEL = 'sergeyzh/rubert-tiny-turbo'\n",
    "mlflow_url = 'http://localhost:8080'\n",
    "EMOTIONS = ['anger', 'disgust', 'fear', 'joy', 'sadness', 'surprise', 'neutral']\n",
    "\n",
    "import mlflow\n",
    "import numpy as np\n",
    "import pandas as pd\n",
    "import psutil\n",
    "import GPUtil\n",
    "import evaluate\n",
    "from transformers import (\n",
    "    AutoTokenizer,\n",
    "    AutoModelForSequenceClassification,\n",
    "    Trainer,\n",
    "    TrainingArguments,\n",
    "    pipeline,\n",
    ")\n",
    "from transformers.integrations import MLflowCallback\n",
    "from transformers import TrainerCallback\n",
    "from datasets import Dataset\n",
    "from sklearn.model_selection import train_test_split\n",
    "\n",
    "\n",
    "\n",
    "mlflow.set_tracking_uri(mlflow_url)\n",
    "mlflow.set_experiment(f\"CEDR {BASE_MODEL} trans\")\n",
    "mlflow.enable_system_metrics_logging()\n",
    "\n",
    "# -----------------------------\n",
    "# Callback для логирования метрик в MLflow\n",
    "# -----------------------------\n",
    "class MLflowLoggingCallback(TrainerCallback):\n",
    "    def on_log(self, args, state, control, logs=None, **kwargs):\n",
    "        if logs is not None:\n",
    "            for key, value in logs.items():\n",
    "                mlflow.log_metric(key, value, step=state.global_step)\n",
    "        return control\n",
    "\n",
    "# -----------------------------\n",
    "# Инициализация GPUtil для мониторинга GPU\n",
    "# -----------------------------\n",
    "try:\n",
    "    gpus = GPUtil.getGPUs()\n",
    "    gpu_available = len(gpus) > 0\n",
    "except Exception as e:\n",
    "    print(\"GPU monitoring not available:\", e)\n",
    "    gpu_available = False\n",
    "    \n",
    "# -----------------------------\n",
    "# Callback для логирования системных метрик (CPU, RAM и GPU)\n",
    "# -----------------------------\n",
    "class SystemMetricsCallback(TrainerCallback):\n",
    "    def on_log(self, args, state, control, logs=None, **kwargs):\n",
    "        # Логирование CPU и RAM\n",
    "        cpu_percent = psutil.cpu_percent(interval=None)\n",
    "        memory_percent = psutil.virtual_memory().percent\n",
    "        mlflow.log_metric(\"system_cpu_percent\", cpu_percent, step=state.global_step)\n",
    "        mlflow.log_metric(\"system_memory_percent\", memory_percent, step=state.global_step)\n",
    "        \n",
    "        # Логирование GPU метрик с использованием GPUtil, если доступны\n",
    "        if gpu_available:\n",
    "            try:\n",
    "                gpus = GPUtil.getGPUs()\n",
    "                if gpus:\n",
    "                    gpu = gpus[0]\n",
    "                    gpu_util = gpu.load * 100  # load возвращает значение от 0 до 1\n",
    "                    gpu_memory_used_percent = gpu.memoryUtil * 100\n",
    "                    mlflow.log_metric(\"gpu_utilization\", gpu_util, step=state.global_step)\n",
    "                    mlflow.log_metric(\"gpu_memory_used_percent\", gpu_memory_used_percent, step=state.global_step)\n",
    "            except Exception as e:\n",
    "                print(\"Ошибка при получении GPU метрик:\", e)\n",
    "        return control\n",
    "\n",
    "\n",
    "# Загрузка данных из CSV\n",
    "df = pd.read_csv(\"cedr.csv\")\n",
    "\n",
    "# -----------------------------\n",
    "# 3. Преобразование one-hot меток в единую метку для многоклассовой классификации\n",
    "# Предполагается, что ровно один из столбцов равен 1 для каждой строки\n",
    "# -----------------------------\n",
    "\n",
    "df['label'] = df[EMOTIONS].values.argmax(axis=1)\n",
    "label2emotion = {0: \"anger\", 1: \"disgust\", 2: \"fear\", 3: \"joy\", 4: \"sadness\", 5: \"surprise\", 6: \"neutral\"}\n",
    "df['emotion'] = df['label'].map(label2emotion)\n",
    "\n",
    "# Разбиение данных на обучающую и валидационную выборки (20% для валидации)\n",
    "# Стратифицированное разбиение для сохранения пропорций классов\n",
    "train_df, val_df = train_test_split(df, test_size=0.2, stratify=df['label'], random_state=42)\n",
    "print(\"Train set size:\", len(train_df))\n",
    "print(\"Validation set size:\", len(val_df))\n",
    "\n",
    "# -----------------------------\n",
    "# 5. Создание объектов HuggingFace Dataset из pandas DataFrame\n",
    "# -----------------------------\n",
    "train_dataset = Dataset.from_pandas(train_df.reset_index(drop=True))\n",
    "val_dataset = Dataset.from_pandas(val_df.reset_index(drop=True))\n",
    "\n",
    "# -----------------------------\n",
    "# 6. Инициализация токенизатора и токенизация текста\n",
    "# -----------------------------\n",
    "tokenizer = AutoTokenizer.from_pretrained(BASE_MODEL)\n",
    "\n",
    "def tokenize_function(example):\n",
    "    tokenized = tokenizer(example[\"text\"], padding=\"max_length\", truncation=True, max_length=128)\n",
    "    tokenized[\"label\"] = example[\"label\"]\n",
    "    return tokenized\n",
    "\n",
    "train_dataset = train_dataset.map(tokenize_function, batched=False)\n",
    "val_dataset = val_dataset.map(tokenize_function, batched=False)\n",
    "\n",
    "# Устанавливаем формат данных для работы с PyTorch\n",
    "train_dataset.set_format(type=\"torch\", columns=[\"input_ids\", \"attention_mask\", \"label\"])\n",
    "val_dataset.set_format(type=\"torch\", columns=[\"input_ids\", \"attention_mask\", \"label\"])\n",
    "\n",
    "# -----------------------------\n",
    "# 7. Инициализация модели для многоклассовой классификации (7 классов)\n",
    "# -----------------------------\n",
    "model = AutoModelForSequenceClassification.from_pretrained(BASE_MODEL, num_labels=7)\n",
    "\n",
    "# -----------------------------\n",
    "# 8. Определение параметров обучения с промежуточным логированием (каждые 50 шагов)\n",
    "# -----------------------------\n",
    "training_args = TrainingArguments(\n",
    "    output_dir=\"./results\",\n",
    "    evaluation_strategy=\"steps\",\n",
    "    eval_steps=50,\n",
    "    logging_strategy=\"steps\",\n",
    "    logging_steps=50,\n",
    "    per_device_train_batch_size=8,\n",
    "    per_device_eval_batch_size=8,\n",
    "    num_train_epochs=3,\n",
    "    learning_rate=2e-5,\n",
    "    logging_dir='./logs',\n",
    "    report_to=[\"mlflow\"],  # Логирование только в MLflow\n",
    ")\n",
    "\n",
    "# -----------------------------\n",
    "# 9. Определение функции вычисления метрик (accuracy)\n",
    "# -----------------------------\n",
    "accuracy_metric = evaluate.load(\"accuracy\")\n",
    "def compute_metrics(eval_pred):\n",
    "    logits, labels = eval_pred\n",
    "    predictions = np.argmax(logits, axis=-1)\n",
    "    return accuracy_metric.compute(predictions=predictions, references=labels)\n",
    "\n",
    "# -----------------------------\n",
    "# 10. Запуск MLflow run\n",
    "# -----------------------------\n",
    "mlflow.start_run()\n",
    "\n",
    "# -----------------------------\n",
    "# 11. Создание Trainer с указанными параметрами и callback'ами\n",
    "# -----------------------------\n",
    "trainer = Trainer(\n",
    "    model=model,\n",
    "    args=training_args,\n",
    "    train_dataset=train_dataset,\n",
    "    eval_dataset=val_dataset,\n",
    "    compute_metrics=compute_metrics,\n",
    "    callbacks=[MLflowCallback(), MLflowLoggingCallback(), SystemMetricsCallback()],\n",
    ")\n",
    "\n",
    "# -----------------------------\n",
    "# 12. Обучение модели\n",
    "# -----------------------------\n",
    "trainer.train()\n",
    "\n",
    "# -----------------------------\n",
    "# 13. Оценка модели на валидационном наборе\n",
    "# -----------------------------\n",
    "eval_results = trainer.evaluate()\n",
    "print(\"Evaluation results:\", eval_results)\n",
    "\n",
    "# -----------------------------\n",
    "# 14. Сохранение модели в MLflow\n",
    "# -----------------------------\n",
    "# mlflow.pytorch.log_model(model, \"model\")\n",
    "# mlflow.pytorch.save_model(model,'./sm1')\n",
    "classifier = pipeline(\"text-classification\", model=model, tokenizer=tokenizer, return_all_scores=True)\n",
    "mlflow.transformers.save_model(classifier,'./smp')\n",
    "mlflow.transformers.log_model(classifier,'model')\n",
    "\n",
    "mlflow.end_run()\n",
    "\n",
    "# -----------------------------\n",
    "# 15. Инференс: создание pipeline и пример предсказания\n",
    "# -----------------------------\n",
    "classifier = pipeline(\"text-classification\", model=model, tokenizer=tokenizer, return_all_scores=True)\n",
    "example_text = \"I am extremely joyful and happy today!\"\n",
    "prediction = classifier(example_text)\n",
    "print(\"Prediction:\", prediction)\n",
    "\n",
    "# mlflow.transformers.save_model(classifier,'/smp')\n"
   ]
  },
  {
   "cell_type": "code",
   "execution_count": 10,
   "metadata": {},
   "outputs": [
    {
     "ename": "MlflowException",
     "evalue": "Model does not have the \"pytorch\" flavor",
     "output_type": "error",
     "traceback": [
      "\u001b[1;31m---------------------------------------------------------------------------\u001b[0m",
      "\u001b[1;31mKeyError\u001b[0m                                  Traceback (most recent call last)",
      "File \u001b[1;32mc:\\Users\\rvv19\\AppData\\Local\\Programs\\Python\\Python312\\Lib\\site-packages\\mlflow\\utils\\model_utils.py:61\u001b[0m, in \u001b[0;36m_get_flavor_configuration\u001b[1;34m(model_path, flavor_name)\u001b[0m\n\u001b[0;32m     60\u001b[0m \u001b[38;5;28;01mtry\u001b[39;00m:\n\u001b[1;32m---> 61\u001b[0m     \u001b[38;5;28;01mreturn\u001b[39;00m \u001b[43mModel\u001b[49m\u001b[38;5;241;43m.\u001b[39;49m\u001b[43mload\u001b[49m\u001b[43m(\u001b[49m\u001b[43mmodel_path\u001b[49m\u001b[43m)\u001b[49m\u001b[38;5;241;43m.\u001b[39;49m\u001b[43mflavors\u001b[49m\u001b[43m[\u001b[49m\u001b[43mflavor_name\u001b[49m\u001b[43m]\u001b[49m\n\u001b[0;32m     62\u001b[0m \u001b[38;5;28;01mexcept\u001b[39;00m \u001b[38;5;167;01mKeyError\u001b[39;00m \u001b[38;5;28;01mas\u001b[39;00m ex:\n",
      "\u001b[1;31mKeyError\u001b[0m: 'pytorch'",
      "\nThe above exception was the direct cause of the following exception:\n",
      "\u001b[1;31mMlflowException\u001b[0m                           Traceback (most recent call last)",
      "Cell \u001b[1;32mIn[10], line 8\u001b[0m\n\u001b[0;32m      5\u001b[0m model_uri \u001b[38;5;241m=\u001b[39m \u001b[38;5;124m\"\u001b[39m\u001b[38;5;124m./smp\u001b[39m\u001b[38;5;124m\"\u001b[39m\n\u001b[0;32m      7\u001b[0m \u001b[38;5;66;03m# Загрузка модели из MLflow\u001b[39;00m\n\u001b[1;32m----> 8\u001b[0m loaded_model \u001b[38;5;241m=\u001b[39m \u001b[43mmlflow\u001b[49m\u001b[38;5;241;43m.\u001b[39;49m\u001b[43mpytorch\u001b[49m\u001b[38;5;241;43m.\u001b[39;49m\u001b[43mload_model\u001b[49m\u001b[43m(\u001b[49m\u001b[43mmodel_uri\u001b[49m\u001b[43m)\u001b[49m\n\u001b[0;32m     10\u001b[0m \u001b[38;5;66;03m# Инициализируем токенизатор, соответствующий используемой модели\u001b[39;00m\n\u001b[0;32m     11\u001b[0m model_name \u001b[38;5;241m=\u001b[39m \u001b[38;5;124m\"\u001b[39m\u001b[38;5;124mbert-base-uncased\u001b[39m\u001b[38;5;124m\"\u001b[39m\n",
      "File \u001b[1;32mc:\\Users\\rvv19\\AppData\\Local\\Programs\\Python\\Python312\\Lib\\site-packages\\mlflow\\pytorch\\__init__.py:685\u001b[0m, in \u001b[0;36mload_model\u001b[1;34m(model_uri, dst_path, **kwargs)\u001b[0m\n\u001b[0;32m    682\u001b[0m \u001b[38;5;28;01mimport\u001b[39;00m \u001b[38;5;21;01mtorch\u001b[39;00m\n\u001b[0;32m    684\u001b[0m local_model_path \u001b[38;5;241m=\u001b[39m _download_artifact_from_uri(artifact_uri\u001b[38;5;241m=\u001b[39mmodel_uri, output_path\u001b[38;5;241m=\u001b[39mdst_path)\n\u001b[1;32m--> 685\u001b[0m pytorch_conf \u001b[38;5;241m=\u001b[39m \u001b[43m_get_flavor_configuration\u001b[49m\u001b[43m(\u001b[49m\u001b[43mmodel_path\u001b[49m\u001b[38;5;241;43m=\u001b[39;49m\u001b[43mlocal_model_path\u001b[49m\u001b[43m,\u001b[49m\u001b[43m \u001b[49m\u001b[43mflavor_name\u001b[49m\u001b[38;5;241;43m=\u001b[39;49m\u001b[43mFLAVOR_NAME\u001b[49m\u001b[43m)\u001b[49m\n\u001b[0;32m    686\u001b[0m _add_code_from_conf_to_system_path(local_model_path, pytorch_conf)\n\u001b[0;32m    688\u001b[0m \u001b[38;5;28;01mif\u001b[39;00m torch\u001b[38;5;241m.\u001b[39m__version__ \u001b[38;5;241m!=\u001b[39m pytorch_conf[\u001b[38;5;124m\"\u001b[39m\u001b[38;5;124mpytorch_version\u001b[39m\u001b[38;5;124m\"\u001b[39m]:\n",
      "File \u001b[1;32mc:\\Users\\rvv19\\AppData\\Local\\Programs\\Python\\Python312\\Lib\\site-packages\\mlflow\\utils\\model_utils.py:63\u001b[0m, in \u001b[0;36m_get_flavor_configuration\u001b[1;34m(model_path, flavor_name)\u001b[0m\n\u001b[0;32m     61\u001b[0m     \u001b[38;5;28;01mreturn\u001b[39;00m Model\u001b[38;5;241m.\u001b[39mload(model_path)\u001b[38;5;241m.\u001b[39mflavors[flavor_name]\n\u001b[0;32m     62\u001b[0m \u001b[38;5;28;01mexcept\u001b[39;00m \u001b[38;5;167;01mKeyError\u001b[39;00m \u001b[38;5;28;01mas\u001b[39;00m ex:\n\u001b[1;32m---> 63\u001b[0m     \u001b[38;5;28;01mraise\u001b[39;00m MlflowException(\n\u001b[0;32m     64\u001b[0m         \u001b[38;5;124mf\u001b[39m\u001b[38;5;124m'\u001b[39m\u001b[38;5;124mModel does not have the \u001b[39m\u001b[38;5;124m\"\u001b[39m\u001b[38;5;132;01m{\u001b[39;00mflavor_name\u001b[38;5;132;01m}\u001b[39;00m\u001b[38;5;124m\"\u001b[39m\u001b[38;5;124m flavor\u001b[39m\u001b[38;5;124m'\u001b[39m, RESOURCE_DOES_NOT_EXIST\n\u001b[0;32m     65\u001b[0m     ) \u001b[38;5;28;01mfrom\u001b[39;00m \u001b[38;5;21;01mex\u001b[39;00m\n",
      "\u001b[1;31mMlflowException\u001b[0m: Model does not have the \"pytorch\" flavor"
     ]
    }
   ],
   "source": [
    "import mlflow.pytorch\n",
    "from transformers import AutoTokenizer, pipeline\n",
    "\n",
    "# Задайте путь к сохранённой модели (например, директория \"model\", как было указано при логировании)\n",
    "model_uri = \"./smp\"\n",
    "\n",
    "# Загрузка модели из MLflow\n",
    "loaded_model = mlflow.pytorch.load_model(model_uri)\n",
    "\n",
    "# Инициализируем токенизатор, соответствующий используемой модели\n",
    "model_name = \"bert-base-uncased\"\n",
    "tokenizer = AutoTokenizer.from_pretrained(model_uri)\n",
    "\n",
    "# Создаем pipeline для инференса\n",
    "classifier = pipeline(\"text-classification\", model=loaded_model, tokenizer=tokenizer, return_all_scores=True)\n",
    "\n"
   ]
  },
  {
   "cell_type": "code",
   "execution_count": 21,
   "metadata": {},
   "outputs": [
    {
     "name": "stderr",
     "output_type": "stream",
     "text": [
      "2025/03/12 18:26:56 WARNING mlflow.transformers.model_io: Could not specify device parameter for this pipeline type.Falling back to loading the model with the default device.\n"
     ]
    }
   ],
   "source": [
    "import mlflow.pytorch\n",
    "from transformers import AutoTokenizer, pipeline\n",
    "\n",
    "# Задайте путь к сохранённой модели (например, директория \"model\", как было указано при логировании)\n",
    "model_uri = \"./smp\"\n",
    "\n",
    "\n",
    "# Создаем pipeline для инференса\n",
    "classifier =  mlflow.transformers.load_model(model_uri) \n"
   ]
  },
  {
   "cell_type": "code",
   "execution_count": null,
   "metadata": {},
   "outputs": [
    {
     "name": "stdout",
     "output_type": "stream",
     "text": [
      "Prediction: [{'label': 'anger', 'score': 0.013769811019301414}, {'label': 'disgust', 'score': 0.008547131903469563}, {'label': 'fear', 'score': 0.00553023861721158}, {'label': 'joy', 'score': 0.9261977076530457}, {'label': 'sadness', 'score': 0.011247304268181324}, {'label': 'surprise', 'score': 0.018123449757695198}, {'label': 'neutral', 'score': 0.016584303230047226}]\n"
     ]
    }
   ],
   "source": [
    "# Пример текста для предсказания\n",
    "example_text = \"Я счастлив\"\n",
    "EMOTIONS = ['anger', 'disgust', 'fear', 'joy', 'sadness', 'surprise', 'neutral']\n",
    "# Выполняем предсказание\n",
    "prediction = classifier(example_text, return_all_scores=True)\n",
    "\n",
    "prediction = list(map(lambda pred: {**pred, \"label\": EMOTIONS[int(pred[\"label\"][6:])] } if pred.get(\"label\", \"\").startswith(\"LABEL_\") else pred, prediction[0]))\n",
    "print(\"Prediction:\", prediction)"
   ]
  },
  {
   "cell_type": "code",
   "execution_count": 31,
   "metadata": {},
   "outputs": [
    {
     "name": "stdout",
     "output_type": "stream",
     "text": [
      "Prediction: {'anger': 0.0138, 'disgust': 0.0085, 'fear': 0.0055, 'joy': 0.9262, 'sadness': 0.0112, 'surprise': 0.0181, 'neutral': 0.0166}\n"
     ]
    },
    {
     "name": "stderr",
     "output_type": "stream",
     "text": [
      "c:\\Users\\rvv19\\AppData\\Local\\Programs\\Python\\Python312\\Lib\\site-packages\\transformers\\pipelines\\text_classification.py:104: UserWarning: `return_all_scores` is now deprecated,  if want a similar functionality use `top_k=None` instead of `return_all_scores=True` or `top_k=1` instead of `return_all_scores=False`.\n",
      "  warnings.warn(\n"
     ]
    }
   ],
   "source": [
    "# Пример текста для предсказания\n",
    "example_text = \"Я счастлив\"\n",
    "EMOTIONS = ['anger', 'disgust', 'fear', 'joy', 'sadness', 'surprise', 'neutral']\n",
    "# Выполняем предсказание\n",
    "prediction = classifier(example_text, return_all_scores=True)\n",
    "\n",
    "prediction = {EMOTIONS[i]: round(prediction[0][i]['score'], 4) for i in range(len(EMOTIONS))} #   map(lambda pred: {**pred, \"label\": EMOTIONS[int(pred[\"label\"][6:])] } if pred.get(\"label\", \"\").startswith(\"LABEL_\") else pred, prediction[0])\n",
    "print(\"Prediction:\", prediction)\n"
   ]
  },
  {
   "cell_type": "code",
   "execution_count": 30,
   "metadata": {},
   "outputs": [
    {
     "data": {
      "text/plain": [
       "0.013769811019301414"
      ]
     },
     "execution_count": 30,
     "metadata": {},
     "output_type": "execute_result"
    }
   ],
   "source": [
    "\n",
    "prediction[0][0]['score']"
   ]
  },
  {
   "cell_type": "code",
   "execution_count": 12,
   "metadata": {},
   "outputs": [
    {
     "name": "stderr",
     "output_type": "stream",
     "text": [
      "2025/03/12 16:14:42 WARNING mlflow.transformers.model_io: Could not specify device parameter for this pipeline type.Falling back to loading the model with the default device.\n"
     ]
    },
    {
     "name": "stdout",
     "output_type": "stream",
     "text": [
      "Predictions: [{'label': 'joy', 'score': 0.9261977076530457}]\n"
     ]
    }
   ],
   "source": [
    "import mlflow.transformers\n",
    "from transformers import pipeline\n",
    "\n",
    "EMOTIONS = ['anger', 'disgust', 'fear', 'joy', 'sadness', 'surprise', 'neutral']\n",
    "\n",
    "# Задайте URI модели (например, \"model\" или \"runs:/<run_id>/model\")\n",
    "model_uri = \"./smp\"\n",
    "\n",
    "# Загружаем сохранённый pipeline\n",
    "classifier = mlflow.transformers.load_model(model_uri)\n",
    "\n",
    "example_text = \"Я счастлив\"\n",
    "\n",
    "# Выполняем предсказание\n",
    "predictions = classifier(example_text)\n",
    "\n",
    "# Функция для замены ярлыков в одном предсказании (словаре)\n",
    "replace_label = lambda pred: {**pred, \"label\": EMOTIONS[int(pred[\"label\"][6:])] } \\\n",
    "    if isinstance(pred, dict) and pred.get(\"label\", \"\").startswith(\"LABEL_\") else pred\n",
    "\n",
    "# Если pipeline возвращает список словарей\n",
    "if predictions and isinstance(predictions[0], dict):\n",
    "    converted = list(map(replace_label, predictions))\n",
    "# Если возвращается список списков словарей\n",
    "elif predictions and isinstance(predictions[0], list):\n",
    "    converted = list(map(lambda group: list(map(replace_label, group)), predictions))\n",
    "else:\n",
    "    converted = predictions\n",
    "\n",
    "print(\"Predictions:\", converted)"
   ]
  },
  {
   "cell_type": "code",
   "execution_count": 14,
   "metadata": {},
   "outputs": [
    {
     "name": "stderr",
     "output_type": "stream",
     "text": [
      "2025/03/12 16:18:28 WARNING mlflow.transformers.model_io: Could not specify device parameter for this pipeline type.Falling back to loading the model with the default device.\n"
     ]
    },
    {
     "name": "stdout",
     "output_type": "stream",
     "text": [
      "All predictions: [[{'label': 'anger', 'score': 0.013769811019301414}, {'label': 'disgust', 'score': 0.008547131903469563}, {'label': 'fear', 'score': 0.00553023861721158}, {'label': 'joy', 'score': 0.9261977076530457}, {'label': 'sadness', 'score': 0.011247304268181324}, {'label': 'surprise', 'score': 0.018123449757695198}, {'label': 'neutral', 'score': 0.016584303230047226}]]\n"
     ]
    },
    {
     "name": "stderr",
     "output_type": "stream",
     "text": [
      "c:\\Users\\rvv19\\AppData\\Local\\Programs\\Python\\Python312\\Lib\\site-packages\\transformers\\pipelines\\text_classification.py:104: UserWarning: `return_all_scores` is now deprecated,  if want a similar functionality use `top_k=None` instead of `return_all_scores=True` or `top_k=1` instead of `return_all_scores=False`.\n",
      "  warnings.warn(\n"
     ]
    }
   ],
   "source": [
    "\n",
    "# Загружаем сохранённый pipeline\n",
    "classifier = mlflow.transformers.load_model(model_uri, return_all_scores=True)\n",
    "\n",
    "example_text = \"Я счастлив\"\n",
    "\n",
    "# Выполняем предсказание\n",
    "predictions = classifier(example_text)\n",
    "\n",
    "# Функция для замены ярлыка на имя эмоции\n",
    "def replace_label(pred):\n",
    "    if isinstance(pred, dict) and pred.get(\"label\", \"\").startswith(\"LABEL_\"):\n",
    "        idx = int(pred[\"label\"][6:])  # Извлекаем число после \"LABEL_\"\n",
    "        pred[\"label\"] = EMOTIONS[idx]\n",
    "    return pred\n",
    "\n",
    "# Обрабатываем все предсказания:\n",
    "# Если predictions – список словарей, то обрабатываем его напрямую,\n",
    "# если список списков, то обрабатываем каждую группу отдельно.\n",
    "if predictions and isinstance(predictions[0], dict):\n",
    "    converted = [replace_label(pred) for pred in predictions]\n",
    "elif predictions and isinstance(predictions[0], list):\n",
    "    converted = [ [ replace_label(pred) for pred in group ] for group in predictions ]\n",
    "else:\n",
    "    converted = predictions\n",
    "\n",
    "print(\"All predictions:\", converted)"
   ]
  },
  {
   "cell_type": "markdown",
   "metadata": {},
   "source": [
    "# XED"
   ]
  },
  {
   "cell_type": "code",
   "execution_count": null,
   "metadata": {},
   "outputs": [],
   "source": [
    "df = pd.read_csv('xed.csv')"
   ]
  },
  {
   "cell_type": "code",
   "execution_count": null,
   "metadata": {},
   "outputs": [
    {
     "name": "stdout",
     "output_type": "stream",
     "text": [
      "<class 'pandas.core.frame.DataFrame'>\n",
      "RangeIndex: 17528 entries, 0 to 17527\n",
      "Data columns (total 8 columns):\n",
      " #   Column    Non-Null Count  Dtype \n",
      "---  ------    --------------  ----- \n",
      " 0   text      17528 non-null  object\n",
      " 1   anger     17528 non-null  int64 \n",
      " 2   disgust   17528 non-null  int64 \n",
      " 3   fear      17528 non-null  int64 \n",
      " 4   joy       17528 non-null  int64 \n",
      " 5   sadness   17528 non-null  int64 \n",
      " 6   surprise  17528 non-null  int64 \n",
      " 7   neutral   17528 non-null  int64 \n",
      "dtypes: int64(7), object(1)\n",
      "memory usage: 1.1+ MB\n"
     ]
    }
   ],
   "source": [
    "df.info()"
   ]
  },
  {
   "cell_type": "code",
   "execution_count": null,
   "metadata": {},
   "outputs": [],
   "source": [
    "df['text'] = df['text'].apply(cleaner)"
   ]
  },
  {
   "cell_type": "code",
   "execution_count": null,
   "metadata": {},
   "outputs": [
    {
     "data": {
      "text/html": [
       "<div>\n",
       "<style scoped>\n",
       "    .dataframe tbody tr th:only-of-type {\n",
       "        vertical-align: middle;\n",
       "    }\n",
       "\n",
       "    .dataframe tbody tr th {\n",
       "        vertical-align: top;\n",
       "    }\n",
       "\n",
       "    .dataframe thead th {\n",
       "        text-align: right;\n",
       "    }\n",
       "</style>\n",
       "<table border=\"1\" class=\"dataframe\">\n",
       "  <thead>\n",
       "    <tr style=\"text-align: right;\">\n",
       "      <th></th>\n",
       "      <th>text</th>\n",
       "      <th>anger</th>\n",
       "      <th>disgust</th>\n",
       "      <th>fear</th>\n",
       "      <th>joy</th>\n",
       "      <th>sadness</th>\n",
       "      <th>surprise</th>\n",
       "      <th>neutral</th>\n",
       "    </tr>\n",
       "  </thead>\n",
       "  <tbody>\n",
       "    <tr>\n",
       "      <th>10063</th>\n",
       "      <td>малышу придётся сыграть</td>\n",
       "      <td>1</td>\n",
       "      <td>0</td>\n",
       "      <td>1</td>\n",
       "      <td>0</td>\n",
       "      <td>0</td>\n",
       "      <td>0</td>\n",
       "      <td>0</td>\n",
       "    </tr>\n",
       "    <tr>\n",
       "      <th>16326</th>\n",
       "      <td>думаешь солдаты русские?</td>\n",
       "      <td>0</td>\n",
       "      <td>0</td>\n",
       "      <td>0</td>\n",
       "      <td>0</td>\n",
       "      <td>0</td>\n",
       "      <td>1</td>\n",
       "      <td>0</td>\n",
       "    </tr>\n",
       "    <tr>\n",
       "      <th>5508</th>\n",
       "      <td>хочешь дать один?</td>\n",
       "      <td>0</td>\n",
       "      <td>0</td>\n",
       "      <td>0</td>\n",
       "      <td>0</td>\n",
       "      <td>0</td>\n",
       "      <td>1</td>\n",
       "      <td>0</td>\n",
       "    </tr>\n",
       "    <tr>\n",
       "      <th>14200</th>\n",
       "      <td>недостаточно могущественна</td>\n",
       "      <td>0</td>\n",
       "      <td>0</td>\n",
       "      <td>0</td>\n",
       "      <td>0</td>\n",
       "      <td>1</td>\n",
       "      <td>0</td>\n",
       "      <td>0</td>\n",
       "    </tr>\n",
       "    <tr>\n",
       "      <th>15957</th>\n",
       "      <td>потрясающе</td>\n",
       "      <td>0</td>\n",
       "      <td>0</td>\n",
       "      <td>0</td>\n",
       "      <td>0</td>\n",
       "      <td>0</td>\n",
       "      <td>1</td>\n",
       "      <td>0</td>\n",
       "    </tr>\n",
       "    <tr>\n",
       "      <th>13726</th>\n",
       "      <td>порядке</td>\n",
       "      <td>0</td>\n",
       "      <td>0</td>\n",
       "      <td>0</td>\n",
       "      <td>1</td>\n",
       "      <td>0</td>\n",
       "      <td>0</td>\n",
       "      <td>0</td>\n",
       "    </tr>\n",
       "    <tr>\n",
       "      <th>12079</th>\n",
       "      <td>приближаются</td>\n",
       "      <td>0</td>\n",
       "      <td>0</td>\n",
       "      <td>1</td>\n",
       "      <td>0</td>\n",
       "      <td>0</td>\n",
       "      <td>0</td>\n",
       "      <td>0</td>\n",
       "    </tr>\n",
       "    <tr>\n",
       "      <th>571</th>\n",
       "      <td>убегай</td>\n",
       "      <td>1</td>\n",
       "      <td>0</td>\n",
       "      <td>0</td>\n",
       "      <td>0</td>\n",
       "      <td>1</td>\n",
       "      <td>0</td>\n",
       "      <td>0</td>\n",
       "    </tr>\n",
       "    <tr>\n",
       "      <th>13195</th>\n",
       "      <td>удовольствием</td>\n",
       "      <td>0</td>\n",
       "      <td>0</td>\n",
       "      <td>0</td>\n",
       "      <td>1</td>\n",
       "      <td>0</td>\n",
       "      <td>0</td>\n",
       "      <td>1</td>\n",
       "    </tr>\n",
       "    <tr>\n",
       "      <th>15167</th>\n",
       "      <td>уверена твоими родителями сложно</td>\n",
       "      <td>0</td>\n",
       "      <td>0</td>\n",
       "      <td>0</td>\n",
       "      <td>0</td>\n",
       "      <td>1</td>\n",
       "      <td>0</td>\n",
       "      <td>0</td>\n",
       "    </tr>\n",
       "    <tr>\n",
       "      <th>6718</th>\n",
       "      <td>дайте знать вашей сети могут ожидать письма мо...</td>\n",
       "      <td>1</td>\n",
       "      <td>0</td>\n",
       "      <td>0</td>\n",
       "      <td>0</td>\n",
       "      <td>0</td>\n",
       "      <td>0</td>\n",
       "      <td>0</td>\n",
       "    </tr>\n",
       "    <tr>\n",
       "      <th>1808</th>\n",
       "      <td>человек убит самолете истекал кровью</td>\n",
       "      <td>0</td>\n",
       "      <td>0</td>\n",
       "      <td>1</td>\n",
       "      <td>0</td>\n",
       "      <td>0</td>\n",
       "      <td>0</td>\n",
       "      <td>0</td>\n",
       "    </tr>\n",
       "    <tr>\n",
       "      <th>3829</th>\n",
       "      <td>должен президентом</td>\n",
       "      <td>0</td>\n",
       "      <td>0</td>\n",
       "      <td>0</td>\n",
       "      <td>0</td>\n",
       "      <td>0</td>\n",
       "      <td>0</td>\n",
       "      <td>1</td>\n",
       "    </tr>\n",
       "    <tr>\n",
       "      <th>4000</th>\n",
       "      <td>эй кристал хочу показать тебе это</td>\n",
       "      <td>1</td>\n",
       "      <td>0</td>\n",
       "      <td>0</td>\n",
       "      <td>0</td>\n",
       "      <td>0</td>\n",
       "      <td>0</td>\n",
       "      <td>0</td>\n",
       "    </tr>\n",
       "    <tr>\n",
       "      <th>12099</th>\n",
       "      <td>парень пугает</td>\n",
       "      <td>0</td>\n",
       "      <td>0</td>\n",
       "      <td>1</td>\n",
       "      <td>0</td>\n",
       "      <td>0</td>\n",
       "      <td>0</td>\n",
       "      <td>0</td>\n",
       "    </tr>\n",
       "    <tr>\n",
       "      <th>10164</th>\n",
       "      <td>пришёл сюда давать советы горе получить наслед...</td>\n",
       "      <td>0</td>\n",
       "      <td>1</td>\n",
       "      <td>0</td>\n",
       "      <td>0</td>\n",
       "      <td>1</td>\n",
       "      <td>0</td>\n",
       "      <td>0</td>\n",
       "    </tr>\n",
       "    <tr>\n",
       "      <th>5086</th>\n",
       "      <td>боюсь пресса предупреждена присутствии вашей м...</td>\n",
       "      <td>0</td>\n",
       "      <td>1</td>\n",
       "      <td>0</td>\n",
       "      <td>0</td>\n",
       "      <td>1</td>\n",
       "      <td>0</td>\n",
       "      <td>0</td>\n",
       "    </tr>\n",
       "    <tr>\n",
       "      <th>9960</th>\n",
       "      <td>[персон] думал будешь забавлена</td>\n",
       "      <td>1</td>\n",
       "      <td>0</td>\n",
       "      <td>0</td>\n",
       "      <td>0</td>\n",
       "      <td>0</td>\n",
       "      <td>1</td>\n",
       "      <td>0</td>\n",
       "    </tr>\n",
       "    <tr>\n",
       "      <th>8481</th>\n",
       "      <td>давай загадай желание</td>\n",
       "      <td>1</td>\n",
       "      <td>0</td>\n",
       "      <td>0</td>\n",
       "      <td>0</td>\n",
       "      <td>0</td>\n",
       "      <td>0</td>\n",
       "      <td>0</td>\n",
       "    </tr>\n",
       "    <tr>\n",
       "      <th>1199</th>\n",
       "      <td>рад слышать любишь музыку?</td>\n",
       "      <td>1</td>\n",
       "      <td>0</td>\n",
       "      <td>0</td>\n",
       "      <td>1</td>\n",
       "      <td>0</td>\n",
       "      <td>1</td>\n",
       "      <td>0</td>\n",
       "    </tr>\n",
       "    <tr>\n",
       "      <th>16357</th>\n",
       "      <td>шутишь да?</td>\n",
       "      <td>0</td>\n",
       "      <td>0</td>\n",
       "      <td>0</td>\n",
       "      <td>0</td>\n",
       "      <td>0</td>\n",
       "      <td>1</td>\n",
       "      <td>0</td>\n",
       "    </tr>\n",
       "    <tr>\n",
       "      <th>919</th>\n",
       "      <td>значит чтото ударило ее?</td>\n",
       "      <td>1</td>\n",
       "      <td>0</td>\n",
       "      <td>0</td>\n",
       "      <td>0</td>\n",
       "      <td>0</td>\n",
       "      <td>0</td>\n",
       "      <td>0</td>\n",
       "    </tr>\n",
       "    <tr>\n",
       "      <th>1650</th>\n",
       "      <td>сделай чтонибудь пожалуйста</td>\n",
       "      <td>0</td>\n",
       "      <td>1</td>\n",
       "      <td>1</td>\n",
       "      <td>0</td>\n",
       "      <td>0</td>\n",
       "      <td>0</td>\n",
       "      <td>0</td>\n",
       "    </tr>\n",
       "    <tr>\n",
       "      <th>7866</th>\n",
       "      <td>можешь приземлиться письменного разрешения</td>\n",
       "      <td>1</td>\n",
       "      <td>0</td>\n",
       "      <td>0</td>\n",
       "      <td>0</td>\n",
       "      <td>0</td>\n",
       "      <td>0</td>\n",
       "      <td>0</td>\n",
       "    </tr>\n",
       "    <tr>\n",
       "      <th>2835</th>\n",
       "      <td>недели назад нервный срыв</td>\n",
       "      <td>0</td>\n",
       "      <td>0</td>\n",
       "      <td>0</td>\n",
       "      <td>0</td>\n",
       "      <td>1</td>\n",
       "      <td>0</td>\n",
       "      <td>0</td>\n",
       "    </tr>\n",
       "    <tr>\n",
       "      <th>15913</th>\n",
       "      <td>позволили тебе забрать собаку?</td>\n",
       "      <td>0</td>\n",
       "      <td>0</td>\n",
       "      <td>0</td>\n",
       "      <td>0</td>\n",
       "      <td>0</td>\n",
       "      <td>1</td>\n",
       "      <td>0</td>\n",
       "    </tr>\n",
       "    <tr>\n",
       "      <th>11987</th>\n",
       "      <td>дело потеряли немного времени</td>\n",
       "      <td>0</td>\n",
       "      <td>0</td>\n",
       "      <td>1</td>\n",
       "      <td>0</td>\n",
       "      <td>0</td>\n",
       "      <td>0</td>\n",
       "      <td>0</td>\n",
       "    </tr>\n",
       "    <tr>\n",
       "      <th>12678</th>\n",
       "      <td>отлично</td>\n",
       "      <td>0</td>\n",
       "      <td>0</td>\n",
       "      <td>0</td>\n",
       "      <td>1</td>\n",
       "      <td>0</td>\n",
       "      <td>0</td>\n",
       "      <td>0</td>\n",
       "    </tr>\n",
       "    <tr>\n",
       "      <th>4633</th>\n",
       "      <td>например избавиться своих жен?</td>\n",
       "      <td>0</td>\n",
       "      <td>1</td>\n",
       "      <td>0</td>\n",
       "      <td>0</td>\n",
       "      <td>0</td>\n",
       "      <td>0</td>\n",
       "      <td>0</td>\n",
       "    </tr>\n",
       "    <tr>\n",
       "      <th>13064</th>\n",
       "      <td>замечательно вернулся</td>\n",
       "      <td>0</td>\n",
       "      <td>0</td>\n",
       "      <td>0</td>\n",
       "      <td>1</td>\n",
       "      <td>0</td>\n",
       "      <td>0</td>\n",
       "      <td>0</td>\n",
       "    </tr>\n",
       "  </tbody>\n",
       "</table>\n",
       "</div>"
      ],
      "text/plain": [
       "                                                    text  anger  disgust  \\\n",
       "10063                            малышу придётся сыграть      1        0   \n",
       "16326                           думаешь солдаты русские?      0        0   \n",
       "5508                                   хочешь дать один?      0        0   \n",
       "14200                         недостаточно могущественна      0        0   \n",
       "15957                                         потрясающе      0        0   \n",
       "13726                                            порядке      0        0   \n",
       "12079                                       приближаются      0        0   \n",
       "571                                               убегай      1        0   \n",
       "13195                                      удовольствием      0        0   \n",
       "15167                   уверена твоими родителями сложно      0        0   \n",
       "6718   дайте знать вашей сети могут ожидать письма мо...      1        0   \n",
       "1808                человек убит самолете истекал кровью      0        0   \n",
       "3829                                  должен президентом      0        0   \n",
       "4000                   эй кристал хочу показать тебе это      1        0   \n",
       "12099                                      парень пугает      0        0   \n",
       "10164  пришёл сюда давать советы горе получить наслед...      0        1   \n",
       "5086   боюсь пресса предупреждена присутствии вашей м...      0        1   \n",
       "9960                     [персон] думал будешь забавлена      1        0   \n",
       "8481                               давай загадай желание      1        0   \n",
       "1199                          рад слышать любишь музыку?      1        0   \n",
       "16357                                         шутишь да?      0        0   \n",
       "919                             значит чтото ударило ее?      1        0   \n",
       "1650                         сделай чтонибудь пожалуйста      0        1   \n",
       "7866          можешь приземлиться письменного разрешения      1        0   \n",
       "2835                           недели назад нервный срыв      0        0   \n",
       "15913                     позволили тебе забрать собаку?      0        0   \n",
       "11987                      дело потеряли немного времени      0        0   \n",
       "12678                                            отлично      0        0   \n",
       "4633                      например избавиться своих жен?      0        1   \n",
       "13064                              замечательно вернулся      0        0   \n",
       "\n",
       "       fear  joy  sadness  surprise  neutral  \n",
       "10063     1    0        0         0        0  \n",
       "16326     0    0        0         1        0  \n",
       "5508      0    0        0         1        0  \n",
       "14200     0    0        1         0        0  \n",
       "15957     0    0        0         1        0  \n",
       "13726     0    1        0         0        0  \n",
       "12079     1    0        0         0        0  \n",
       "571       0    0        1         0        0  \n",
       "13195     0    1        0         0        1  \n",
       "15167     0    0        1         0        0  \n",
       "6718      0    0        0         0        0  \n",
       "1808      1    0        0         0        0  \n",
       "3829      0    0        0         0        1  \n",
       "4000      0    0        0         0        0  \n",
       "12099     1    0        0         0        0  \n",
       "10164     0    0        1         0        0  \n",
       "5086      0    0        1         0        0  \n",
       "9960      0    0        0         1        0  \n",
       "8481      0    0        0         0        0  \n",
       "1199      0    1        0         1        0  \n",
       "16357     0    0        0         1        0  \n",
       "919       0    0        0         0        0  \n",
       "1650      1    0        0         0        0  \n",
       "7866      0    0        0         0        0  \n",
       "2835      0    0        1         0        0  \n",
       "15913     0    0        0         1        0  \n",
       "11987     1    0        0         0        0  \n",
       "12678     0    1        0         0        0  \n",
       "4633      0    0        0         0        0  \n",
       "13064     0    1        0         0        0  "
      ]
     },
     "execution_count": 8,
     "metadata": {},
     "output_type": "execute_result"
    }
   ],
   "source": [
    "df.sample(30)"
   ]
  },
  {
   "cell_type": "code",
   "execution_count": null,
   "metadata": {},
   "outputs": [
    {
     "data": {
      "image/png": "[encoded data removed]",
      "text/plain": [
       "<Figure size 1200x1000 with 2 Axes>"
      ]
     },
     "metadata": {},
     "output_type": "display_data"
    }
   ],
   "source": [
    "from sklearn.metrics import confusion_matrix\n",
    "import numpy as np\n",
    "\n",
    "# Создаем \"мультиклассовое\" представление (только для визуализации)\n",
    "y_test_flat = y_test.idxmax(axis=1)\n",
    "y_pred_flat = pd.DataFrame(y_pred, columns=emotion_columns).idxmax(axis=1)\n",
    "\n",
    "# Строим матрицу\n",
    "plt.figure(figsize=(12, 10))\n",
    "cm = confusion_matrix(y_test_flat, y_pred_flat, labels=emotion_columns)\n",
    "sns.heatmap(cm, annot=True, fmt='d', cmap='Reds', \n",
    "            xticklabels=emotion_columns, \n",
    "            yticklabels=emotion_columns)\n",
    "plt.title('Confusion Matrix (Max Emotion Prediction)')\n",
    "plt.xlabel('Predicted')\n",
    "plt.ylabel('Actual')\n",
    "plt.xticks(rotation=45)\n",
    "plt.yticks(rotation=0)\n",
    "plt.show()"
   ]
  },
  {
   "cell_type": "code",
   "execution_count": null,
   "metadata": {},
   "outputs": [
    {
     "name": "stdout",
     "output_type": "stream",
     "text": [
      "\n",
      "Validation Metrics:\n",
      "Hamming Loss: 0.1288\n",
      "Micro F1: 0.4697\n",
      "Macro F1: 0.3492\n",
      "weigted F1: 0.4423\n"
     ]
    }
   ],
   "source": [
    "# 5. Оценка модели\n",
    "def evaluate_model(model, data_loader, device):\n",
    "    model.eval()\n",
    "    predictions = []\n",
    "    true_labels = []\n",
    "\n",
    "    with torch.no_grad():\n",
    "        for batch in data_loader:\n",
    "            input_ids = batch['input_ids'].to(device)\n",
    "            attention_mask = batch['attention_mask'].to(device)\n",
    "            labels = batch['labels'].to(device)\n",
    "\n",
    "            outputs = model(\n",
    "                input_ids=input_ids,\n",
    "                attention_mask=attention_mask\n",
    "            )\n",
    "\n",
    "            logits = outputs.logits\n",
    "            preds = torch.sigmoid(logits) > 0.5\n",
    "            predictions.extend(preds.cpu().numpy())\n",
    "            true_labels.extend(labels.cpu().numpy())\n",
    "\n",
    "    return {\n",
    "        'hamming_loss': hamming_loss(true_labels, predictions),\n",
    "        'f1_micro': f1_score(true_labels, predictions, average='micro'),\n",
    "        'f1_macro': f1_score(true_labels, predictions, average='macro'),\n",
    "        'f1_weigted': f1_score(true_labels, predictions, average='weighted')\n",
    "    }\n",
    "\n",
    "metrics = evaluate_model(model, val_loader, device)\n",
    "print(f\"\\nValidation Metrics:\")\n",
    "print(f\"Hamming Loss: {metrics['hamming_loss']:.4f}\")\n",
    "print(f\"Micro F1: {metrics['f1_micro']:.4f}\")\n",
    "print(f\"Macro F1: {metrics['f1_macro']:.4f}\")\n",
    "print(f\"weigted F1: {metrics['f1_weigted']:.4f}\")"
   ]
  },
  {
   "cell_type": "code",
   "execution_count": null,
   "metadata": {},
   "outputs": [
    {
     "name": "stdout",
     "output_type": "stream",
     "text": [
      "\n",
      "Validation Metrics:\n",
      "Hamming Loss: 0.1251\n",
      "Micro F1: 0.5013\n",
      "Macro F1: 0.3707\n",
      "weigted F1: 0.4757\n"
     ]
    }
   ],
   "source": [
    "#'sergeyzh/rubert-tiny-turbo'\n",
    "metrics = evaluate_model(model, val_loader, device)\n",
    "print(f\"\\nValidation Metrics:\")\n",
    "print(f\"Hamming Loss: {metrics['hamming_loss']:.4f}\")\n",
    "print(f\"Micro F1: {metrics['f1_micro']:.4f}\")\n",
    "print(f\"Macro F1: {metrics['f1_macro']:.4f}\")\n",
    "print(f\"weigted F1: {metrics['f1_weigted']:.4f}\")"
   ]
  },
  {
   "cell_type": "code",
   "execution_count": null,
   "metadata": {},
   "outputs": [
    {
     "name": "stdout",
     "output_type": "stream",
     "text": [
      "\n",
      "Validation Metrics:\n",
      "Hamming Loss: 0.1241\n",
      "Micro F1: 0.4954\n",
      "Macro F1: 0.3701\n",
      "weigted F1: 0.4681\n"
     ]
    }
   ],
   "source": [
    "#sentence-transformers/LaBSE - 1 эпоха\n",
    "#'sergeyzh/rubert-tiny-turbo'\n",
    "metrics = evaluate_model(model, val_loader, device)\n",
    "print(f\"\\nValidation Metrics:\")\n",
    "print(f\"Hamming Loss: {metrics['hamming_loss']:.4f}\")\n",
    "print(f\"Micro F1: {metrics['f1_micro']:.4f}\")\n",
    "print(f\"Macro F1: {metrics['f1_macro']:.4f}\")\n",
    "print(f\"weigted F1: {metrics['f1_weigted']:.4f}\")"
   ]
  },
  {
   "cell_type": "markdown",
   "metadata": {},
   "source": [
    "# сравнение датасетов\n"
   ]
  },
  {
   "cell_type": "code",
   "execution_count": null,
   "metadata": {},
   "outputs": [],
   "source": [
    "import pandas as pd\n",
    "import numpy as np\n",
    "from scipy import stats\n",
    "from sklearn.feature_extraction.text import TfidfVectorizer\n",
    "from sklearn.model_selection import train_test_split\n",
    "from sklearn.linear_model import LogisticRegression\n",
    "from sklearn.metrics import accuracy_score\n",
    "import matplotlib.pyplot as plt\n",
    "\n",
    "\n",
    "# 1. Проверка распределения эмоций (хи-квадрат)\n",
    "def compare_emotions_distribution(df1, df2):\n",
    "    # Создаем таблицы частот\n",
    "    freq1 = df1['emotion'].value_counts().reindex(df1['emotion'].unique(), fill_value=0)\n",
    "    freq2 = df2['emotion'].value_counts().reindex(df1['emotion'].unique(), fill_value=0)\n",
    "    \n",
    "    # Строим contingency table\n",
    "    contingency_table = pd.concat([freq1, freq2], axis=1).T.fillna(0)\n",
    "    \n",
    "    # Тест хи-квадрат\n",
    "    chi2, p, dof, expected = stats.chi2_contingency(contingency_table)\n",
    "    print(f\"Chi-square test: p-value = {p}\")\n",
    "    return p\n",
    "\n",
    "# 2. Сравнение длины текстов (тест Колмогорова-Смирнова)\n",
    "def compare_text_length(df1, df2):\n",
    "    df1['length'] = df1['text'].apply(len)\n",
    "    df2['length'] = df2['text'].apply(len)\n",
    "    \n",
    "    # Тест Колмогорова-Смирнова\n",
    "    ks_stat, p_value = stats.ks_2samp(df1['length'], df2['length'])\n",
    "    print(f\"Kolmogorov-Smirnov test: p-value = {p_value}\")\n",
    "    \n",
    "    # Дополнительно: тест Манна-Уитни\n",
    "    u_stat, p_mann = stats.mannwhitneyu(df1['length'], df2['length'])\n",
    "    print(f\"Mann-Whitney U test: p-value = {p_mann}\")\n",
    "    return p_value\n",
    "\n",
    "# 3. Классификатор для обнаружения смещения\n",
    "def dataset_classifier_test(df1, df2):\n",
    "    # Создаем общий датасет с метками\n",
    "    df1['dataset'] = 0\n",
    "    df2['dataset'] = 1\n",
    "    combined = pd.concat([df1, df2])\n",
    "    \n",
    "    # Векторизация текста\n",
    "    tfidf = TfidfVectorizer(max_features=1000)\n",
    "    X = tfidf.fit_transform(combined['text'])\n",
    "    y = combined['dataset']\n",
    "    \n",
    "    # Разделение на train/test\n",
    "    X_train, X_test, y_train, y_test = train_test_split(X, y, test_size=0.3, random_state=42)\n",
    "    \n",
    "    # Обучение модели\n",
    "    model = LogisticRegression(max_iter=1000)\n",
    "    model.fit(X_train, y_train)\n",
    "    \n",
    "    # Предсказание\n",
    "    y_pred = model.predict(X_test)\n",
    "    acc = accuracy_score(y_test, y_pred)\n",
    "    print(f\"Classifier accuracy: {acc:.8f}\")\n",
    "    return acc\n",
    "\n",
    "# 4. Визуализация распределений\n",
    "def plot_distributions(df1, df2):\n",
    "    plt.figure(figsize=(12, 5))\n",
    "    \n",
    "    # Распределение эмоций\n",
    "    plt.subplot(1, 2, 1)\n",
    "    df1['emotion'].value_counts().plot(kind='bar', alpha=0.5, label='Dataset 1')\n",
    "    df2['emotion'].value_counts().plot(kind='bar', alpha=0.5, label='Dataset 2')\n",
    "    plt.title('Emotion Distribution')\n",
    "    plt.legend()\n",
    "    \n",
    "    # Распределение длин текстов\n",
    "    plt.subplot(1, 2, 2)\n",
    "    plt.hist(df1['text'].apply(len), alpha=0.5, label='Dataset 1')\n",
    "    plt.hist(df2['text'].apply(len), alpha=0.5, label='Dataset 2')\n",
    "    plt.title('Text Length Distribution')\n",
    "    plt.legend()\n",
    "    \n",
    "    plt.tight_layout()\n",
    "    plt.show()"
   ]
  },
  {
   "cell_type": "markdown",
   "metadata": {},
   "source": [
    "## CEDR - XED"
   ]
  },
  {
   "cell_type": "code",
   "execution_count": null,
   "metadata": {},
   "outputs": [
    {
     "name": "stdout",
     "output_type": "stream",
     "text": [
      "=== Binary Classification Report ===\n",
      "              precision    recall  f1-score   support\n",
      "\n",
      "           0       0.90      0.67      0.77      2271\n",
      "           1       0.87      0.97      0.92      5246\n",
      "\n",
      "    accuracy                           0.88      7517\n",
      "   macro avg       0.88      0.82      0.84      7517\n",
      "weighted avg       0.88      0.88      0.87      7517\n",
      "\n",
      "\n",
      "=== Cross-Domain Emotion Classification Report ===\n",
      "Train on dataset1, Test on dataset2:\n",
      "              precision    recall  f1-score   support\n",
      "\n",
      "       anger       0.48      0.00      0.01      6903\n",
      "     disgust       0.00      0.00      0.00      1660\n",
      "        fear       0.37      0.02      0.04      1904\n",
      "         joy       0.19      0.50      0.27      2241\n",
      "     neutral       0.09      0.50      0.15      1617\n",
      "     sadness       0.19      0.25      0.22      1745\n",
      "    surprise       0.33      0.03      0.05      1458\n",
      "\n",
      "    accuracy                           0.14     17528\n",
      "   macro avg       0.24      0.19      0.11     17528\n",
      "weighted avg       0.31      0.14      0.08     17528\n",
      "\n"
     ]
    },
    {
     "name": "stderr",
     "output_type": "stream",
     "text": [
      "c:\\Users\\rvv19\\AppData\\Local\\Programs\\Python\\Python312\\Lib\\site-packages\\sklearn\\metrics\\_classification.py:1531: UndefinedMetricWarning: Precision is ill-defined and being set to 0.0 in labels with no predicted samples. Use `zero_division` parameter to control this behavior.\n",
      "  _warn_prf(average, modifier, f\"{metric.capitalize()} is\", len(result))\n",
      "c:\\Users\\rvv19\\AppData\\Local\\Programs\\Python\\Python312\\Lib\\site-packages\\sklearn\\metrics\\_classification.py:1531: UndefinedMetricWarning: Precision is ill-defined and being set to 0.0 in labels with no predicted samples. Use `zero_division` parameter to control this behavior.\n",
      "  _warn_prf(average, modifier, f\"{metric.capitalize()} is\", len(result))\n",
      "c:\\Users\\rvv19\\AppData\\Local\\Programs\\Python\\Python312\\Lib\\site-packages\\sklearn\\metrics\\_classification.py:1531: UndefinedMetricWarning: Precision is ill-defined and being set to 0.0 in labels with no predicted samples. Use `zero_division` parameter to control this behavior.\n",
      "  _warn_prf(average, modifier, f\"{metric.capitalize()} is\", len(result))\n"
     ]
    },
    {
     "name": "stdout",
     "output_type": "stream",
     "text": [
      "\n",
      "Train on dataset2, Test on dataset1:\n",
      "              precision    recall  f1-score   support\n",
      "\n",
      "       anger       0.05      0.76      0.10       411\n",
      "     disgust       0.00      0.00      0.00         0\n",
      "        fear       0.44      0.25      0.32       585\n",
      "         joy       0.58      0.20      0.29      1551\n",
      "     neutral       0.31      0.00      0.01      3043\n",
      "     sadness       0.43      0.17      0.24      1370\n",
      "    surprise       0.46      0.08      0.13       568\n",
      "\n",
      "    accuracy                           0.14      7528\n",
      "   macro avg       0.33      0.21      0.16      7528\n",
      "weighted avg       0.40      0.14      0.15      7528\n",
      "\n"
     ]
    },
    {
     "name": "stderr",
     "output_type": "stream",
     "text": [
      "c:\\Users\\rvv19\\AppData\\Local\\Programs\\Python\\Python312\\Lib\\site-packages\\sklearn\\metrics\\_classification.py:1531: UndefinedMetricWarning: Recall is ill-defined and being set to 0.0 in labels with no true samples. Use `zero_division` parameter to control this behavior.\n",
      "  _warn_prf(average, modifier, f\"{metric.capitalize()} is\", len(result))\n",
      "c:\\Users\\rvv19\\AppData\\Local\\Programs\\Python\\Python312\\Lib\\site-packages\\sklearn\\metrics\\_classification.py:1531: UndefinedMetricWarning: Recall is ill-defined and being set to 0.0 in labels with no true samples. Use `zero_division` parameter to control this behavior.\n",
      "  _warn_prf(average, modifier, f\"{metric.capitalize()} is\", len(result))\n",
      "c:\\Users\\rvv19\\AppData\\Local\\Programs\\Python\\Python312\\Lib\\site-packages\\sklearn\\metrics\\_classification.py:1531: UndefinedMetricWarning: Recall is ill-defined and being set to 0.0 in labels with no true samples. Use `zero_division` parameter to control this behavior.\n",
      "  _warn_prf(average, modifier, f\"{metric.capitalize()} is\", len(result))\n"
     ]
    }
   ],
   "source": [
    "import pandas as pd\n",
    "from sklearn.feature_extraction.text import TfidfVectorizer\n",
    "from sklearn.model_selection import train_test_split\n",
    "from sklearn.linear_model import LogisticRegression\n",
    "from sklearn.metrics import classification_report\n",
    "\n",
    "# Загрузка датасетов (предполагается, что в каждом файле есть колонки \"text\" и \"emotion\")\n",
    "dataset1 = pd.read_csv(\"CEDR.csv\")\n",
    "dataset2 = pd.read_csv(\"XED.csv\")\n",
    "dataset1['emotion'] = dataset1[EMOTIONS].idxmax(axis=1)\n",
    "dataset2['emotion'] = dataset2[EMOTIONS].idxmax(axis=1)\n",
    "#############################################\n",
    "# 1. Бинарная классификация источников данных\n",
    "#############################################\n",
    "\n",
    "# Добавляем метку источника: 0 для dataset1 и 1 для dataset2\n",
    "dataset1['source'] = 0\n",
    "dataset2['source'] = 1\n",
    "\n",
    "# Объединяем датасеты\n",
    "combined_df = pd.concat([dataset1, dataset2], ignore_index=True)\n",
    "combined_df = combined_df.sample(frac=1, random_state=42).reset_index(drop=True)  # перемешиваем данные\n",
    "\n",
    "# Преобразование текста в признаки с использованием TF-IDF\n",
    "vectorizer = TfidfVectorizer(max_features=10000, stop_words='english')\n",
    "X_combined = vectorizer.fit_transform(combined_df['text'])\n",
    "y_combined = combined_df['source']\n",
    "\n",
    "# Разбиваем на обучающую и тестовую выборки\n",
    "X_train, X_test, y_train, y_test = train_test_split(X_combined, y_combined, test_size=0.3, random_state=42)\n",
    "\n",
    "# Обучаем классификатор (логистическая регрессия)\n",
    "clf_binary = LogisticRegression(max_iter=1000)\n",
    "clf_binary.fit(X_train, y_train)\n",
    "y_pred = clf_binary.predict(X_test)\n",
    "\n",
    "print(\"=== Binary Classification Report ===\")\n",
    "print(classification_report(y_test, y_pred))\n",
    "# Если точность близка к 50%, модели не удается отличить источник, что указывает на схожесть датасетов.\n",
    "\n",
    "#####################################################\n",
    "# 2. Кросс-доменальная классификация для эмоций\n",
    "#####################################################\n",
    "\n",
    "# a) Обучение на dataset1, тестирование на dataset2\n",
    "vectorizer_emotion = TfidfVectorizer(max_features=10000)\n",
    "X_train_emotion = vectorizer_emotion.fit_transform(dataset1['text'])\n",
    "X_test_emotion = vectorizer_emotion.transform(dataset2['text'])\n",
    "y_train_emotion = dataset1['emotion']\n",
    "y_test_emotion = dataset2['emotion']\n",
    "\n",
    "clf_emotion = LogisticRegression(max_iter=1000)\n",
    "clf_emotion.fit(X_train_emotion, y_train_emotion)\n",
    "y_pred_emotion = clf_emotion.predict(X_test_emotion)\n",
    "\n",
    "print(\"\\n=== Cross-Domain Emotion Classification Report ===\")\n",
    "print(\"Train on dataset1, Test on dataset2:\")\n",
    "print(classification_report(y_test_emotion, y_pred_emotion))\n",
    "\n",
    "# b) При желании можно провести обратный эксперимент: обучение на dataset2, тестирование на dataset1\n",
    "vectorizer_emotion_2 = TfidfVectorizer(max_features=10000)\n",
    "X_train_emotion_2 = vectorizer_emotion_2.fit_transform(dataset2['text'])\n",
    "X_test_emotion_2 = vectorizer_emotion_2.transform(dataset1['text'])\n",
    "y_train_emotion_2 = dataset2['emotion']\n",
    "y_test_emotion_2 = dataset1['emotion']\n",
    "\n",
    "clf_emotion_2 = LogisticRegression(max_iter=1000)\n",
    "clf_emotion_2.fit(X_train_emotion_2, y_train_emotion_2)\n",
    "y_pred_emotion_2 = clf_emotion_2.predict(X_test_emotion_2)\n",
    "\n",
    "print(\"\\nTrain on dataset2, Test on dataset1:\")\n",
    "print(classification_report(y_test_emotion_2, y_pred_emotion_2))\n",
    "\n",
    "# Интерпретация:\n",
    "# - Если модель для бинарной классификации показывает точность около 50%, это говорит о том,\n",
    "#   что датасеты сложно отличить по текстовым характеристикам.\n",
    "# - Если кросс-доменальная классификация эмоций даёт схожие результаты с внутренней валидацией,\n",
    "#   можно предположить, что распределения эмоций и лингвистические особенности текстов схожи.\n"
   ]
  },
  {
   "cell_type": "code",
   "execution_count": null,
   "metadata": {},
   "outputs": [
    {
     "name": "stdout",
     "output_type": "stream",
     "text": [
      "=== Binary Classification Report ===\n",
      "              precision    recall  f1-score   support\n",
      "\n",
      "           0       0.94      1.00      0.97     63348\n",
      "           1       0.83      0.23      0.36      5278\n",
      "\n",
      "    accuracy                           0.94     68626\n",
      "   macro avg       0.88      0.61      0.66     68626\n",
      "weighted avg       0.93      0.94      0.92     68626\n",
      "\n",
      "\n",
      "=== Cross-Domain Emotion Classification Report ===\n",
      "Train on dataset1, Test on dataset2:\n",
      "              precision    recall  f1-score   support\n",
      "\n",
      "       anger       0.49      0.15      0.23      6903\n",
      "     disgust       0.56      0.01      0.02      1660\n",
      "        fear       0.48      0.04      0.08      1904\n",
      "         joy       0.27      0.64      0.38      2241\n",
      "     neutral       0.09      0.49      0.15      1617\n",
      "     sadness       0.59      0.11      0.18      1745\n",
      "    surprise       0.24      0.17      0.20      1458\n",
      "\n",
      "    accuracy                           0.21     17528\n",
      "   macro avg       0.39      0.23      0.18     17528\n",
      "weighted avg       0.42      0.21      0.20     17528\n",
      "\n",
      "\n",
      "Train on dataset2, Test on dataset1:\n",
      "              precision    recall  f1-score   support\n",
      "\n",
      "       anger       0.18      0.77      0.29     33884\n",
      "     disgust       0.05      0.10      0.07      3958\n",
      "        fear       0.11      0.12      0.11      4129\n",
      "         joy       0.75      0.24      0.37     79352\n",
      "     neutral       0.15      0.01      0.02     55298\n",
      "     sadness       0.19      0.19      0.19     13964\n",
      "    surprise       0.20      0.09      0.13     20640\n",
      "\n",
      "    accuracy                           0.24    211225\n",
      "   macro avg       0.23      0.22      0.17    211225\n",
      "weighted avg       0.39      0.24      0.22    211225\n",
      "\n"
     ]
    }
   ],
   "source": [
    "import pandas as pd\n",
    "from sklearn.feature_extraction.text import TfidfVectorizer\n",
    "from sklearn.model_selection import train_test_split\n",
    "from sklearn.linear_model import LogisticRegression\n",
    "from sklearn.metrics import classification_report\n",
    "\n",
    "# Загрузка датасетов (предполагается, что в каждом файле есть колонки \"text\" и \"emotion\")\n",
    "dataset1 = pd.read_csv(\"goemo.csv\")\n",
    "dataset2 = pd.read_csv(\"XED.csv\")\n",
    "dataset1['emotion'] = dataset1[EMOTIONS].idxmax(axis=1)\n",
    "dataset2['emotion'] = dataset2[EMOTIONS].idxmax(axis=1)\n",
    "#############################################\n",
    "# 1. Бинарная классификация источников данных\n",
    "#############################################\n",
    "\n",
    "# Добавляем метку источника: 0 для dataset1 и 1 для dataset2\n",
    "dataset1['source'] = 0\n",
    "dataset2['source'] = 1\n",
    "\n",
    "# Объединяем датасеты\n",
    "combined_df = pd.concat([dataset1, dataset2], ignore_index=True)\n",
    "combined_df = combined_df.sample(frac=1, random_state=42).reset_index(drop=True)  # перемешиваем данные\n",
    "\n",
    "# Преобразование текста в признаки с использованием TF-IDF\n",
    "vectorizer = TfidfVectorizer(max_features=10000, stop_words='english')\n",
    "X_combined = vectorizer.fit_transform(combined_df['text'])\n",
    "y_combined = combined_df['source']\n",
    "\n",
    "# Разбиваем на обучающую и тестовую выборки\n",
    "X_train, X_test, y_train, y_test = train_test_split(X_combined, y_combined, test_size=0.3, random_state=42)\n",
    "\n",
    "# Обучаем классификатор (логистическая регрессия)\n",
    "clf_binary = LogisticRegression(max_iter=1000)\n",
    "clf_binary.fit(X_train, y_train)\n",
    "y_pred = clf_binary.predict(X_test)\n",
    "\n",
    "print(\"=== Binary Classification Report ===\")\n",
    "print(classification_report(y_test, y_pred))\n",
    "# Если точность близка к 50%, модели не удается отличить источник, что указывает на схожесть датасетов.\n",
    "\n",
    "#####################################################\n",
    "# 2. Кросс-доменальная классификация для эмоций\n",
    "#####################################################\n",
    "\n",
    "# a) Обучение на dataset1, тестирование на dataset2\n",
    "vectorizer_emotion = TfidfVectorizer(max_features=10000)\n",
    "X_train_emotion = vectorizer_emotion.fit_transform(dataset1['text'])\n",
    "X_test_emotion = vectorizer_emotion.transform(dataset2['text'])\n",
    "y_train_emotion = dataset1['emotion']\n",
    "y_test_emotion = dataset2['emotion']\n",
    "\n",
    "clf_emotion = LogisticRegression(max_iter=1000)\n",
    "clf_emotion.fit(X_train_emotion, y_train_emotion)\n",
    "y_pred_emotion = clf_emotion.predict(X_test_emotion)\n",
    "\n",
    "print(\"\\n=== Cross-Domain Emotion Classification Report ===\")\n",
    "print(\"Train on dataset1, Test on dataset2:\")\n",
    "print(classification_report(y_test_emotion, y_pred_emotion))\n",
    "\n",
    "# b) При желании можно провести обратный эксперимент: обучение на dataset2, тестирование на dataset1\n",
    "vectorizer_emotion_2 = TfidfVectorizer(max_features=10000)\n",
    "X_train_emotion_2 = vectorizer_emotion_2.fit_transform(dataset2['text'])\n",
    "X_test_emotion_2 = vectorizer_emotion_2.transform(dataset1['text'])\n",
    "y_train_emotion_2 = dataset2['emotion']\n",
    "y_test_emotion_2 = dataset1['emotion']\n",
    "\n",
    "clf_emotion_2 = LogisticRegression(max_iter=1000)\n",
    "clf_emotion_2.fit(X_train_emotion_2, y_train_emotion_2)\n",
    "y_pred_emotion_2 = clf_emotion_2.predict(X_test_emotion_2)\n",
    "\n",
    "print(\"\\nTrain on dataset2, Test on dataset1:\")\n",
    "print(classification_report(y_test_emotion_2, y_pred_emotion_2))\n",
    "\n",
    "# Интерпретация:\n",
    "# - Если модель для бинарной классификации показывает точность около 50%, это говорит о том,\n",
    "#   что датасеты сложно отличить по текстовым характеристикам.\n",
    "# - Если кросс-доменальная классификация эмоций даёт схожие результаты с внутренней валидацией,\n",
    "#   можно предположить, что распределения эмоций и лингвистические особенности текстов схожи.\n"
   ]
  },
  {
   "cell_type": "code",
   "execution_count": null,
   "metadata": {},
   "outputs": [
    {
     "name": "stdout",
     "output_type": "stream",
     "text": [
      "=== Binary Classification Report ===\n",
      "              precision    recall  f1-score   support\n",
      "\n",
      "           0       0.97      1.00      0.99     63401\n",
      "           1       0.91      0.23      0.36      2225\n",
      "\n",
      "    accuracy                           0.97     65626\n",
      "   macro avg       0.94      0.61      0.67     65626\n",
      "weighted avg       0.97      0.97      0.97     65626\n",
      "\n",
      "\n",
      "=== Cross-Domain Emotion Classification Report ===\n",
      "Train on dataset1, Test on dataset2:\n",
      "              precision    recall  f1-score   support\n",
      "\n",
      "       anger       0.14      0.28      0.19       411\n",
      "     disgust       0.00      0.00      0.00         0\n",
      "        fear       0.69      0.41      0.51       585\n",
      "         joy       0.42      0.56      0.48      1551\n",
      "     neutral       0.56      0.70      0.62      3043\n",
      "     sadness       0.80      0.16      0.26      1370\n",
      "    surprise       0.28      0.10      0.15       568\n",
      "\n",
      "    accuracy                           0.48      7528\n",
      "   macro avg       0.41      0.32      0.32      7528\n",
      "weighted avg       0.54      0.48      0.46      7528\n",
      "\n"
     ]
    },
    {
     "name": "stderr",
     "output_type": "stream",
     "text": [
      "c:\\Users\\rvv19\\AppData\\Local\\Programs\\Python\\Python312\\Lib\\site-packages\\sklearn\\metrics\\_classification.py:1531: UndefinedMetricWarning: Recall is ill-defined and being set to 0.0 in labels with no true samples. Use `zero_division` parameter to control this behavior.\n",
      "  _warn_prf(average, modifier, f\"{metric.capitalize()} is\", len(result))\n",
      "c:\\Users\\rvv19\\AppData\\Local\\Programs\\Python\\Python312\\Lib\\site-packages\\sklearn\\metrics\\_classification.py:1531: UndefinedMetricWarning: Recall is ill-defined and being set to 0.0 in labels with no true samples. Use `zero_division` parameter to control this behavior.\n",
      "  _warn_prf(average, modifier, f\"{metric.capitalize()} is\", len(result))\n",
      "c:\\Users\\rvv19\\AppData\\Local\\Programs\\Python\\Python312\\Lib\\site-packages\\sklearn\\metrics\\_classification.py:1531: UndefinedMetricWarning: Recall is ill-defined and being set to 0.0 in labels with no true samples. Use `zero_division` parameter to control this behavior.\n",
      "  _warn_prf(average, modifier, f\"{metric.capitalize()} is\", len(result))\n"
     ]
    },
    {
     "name": "stdout",
     "output_type": "stream",
     "text": [
      "\n",
      "Train on dataset2, Test on dataset1:\n"
     ]
    },
    {
     "name": "stderr",
     "output_type": "stream",
     "text": [
      "c:\\Users\\rvv19\\AppData\\Local\\Programs\\Python\\Python312\\Lib\\site-packages\\sklearn\\metrics\\_classification.py:1531: UndefinedMetricWarning: Precision is ill-defined and being set to 0.0 in labels with no predicted samples. Use `zero_division` parameter to control this behavior.\n",
      "  _warn_prf(average, modifier, f\"{metric.capitalize()} is\", len(result))\n",
      "c:\\Users\\rvv19\\AppData\\Local\\Programs\\Python\\Python312\\Lib\\site-packages\\sklearn\\metrics\\_classification.py:1531: UndefinedMetricWarning: Precision is ill-defined and being set to 0.0 in labels with no predicted samples. Use `zero_division` parameter to control this behavior.\n",
      "  _warn_prf(average, modifier, f\"{metric.capitalize()} is\", len(result))\n"
     ]
    },
    {
     "name": "stdout",
     "output_type": "stream",
     "text": [
      "              precision    recall  f1-score   support\n",
      "\n",
      "       anger       0.50      0.00      0.01     33884\n",
      "     disgust       0.00      0.00      0.00      3958\n",
      "        fear       0.44      0.09      0.16      4129\n",
      "         joy       0.56      0.44      0.49     79352\n",
      "     neutral       0.32      0.69      0.44     55298\n",
      "     sadness       0.15      0.27      0.19     13964\n",
      "    surprise       0.26      0.03      0.05     20640\n",
      "\n",
      "    accuracy                           0.37    211225\n",
      "   macro avg       0.32      0.22      0.19    211225\n",
      "weighted avg       0.42      0.37      0.32    211225\n",
      "\n"
     ]
    },
    {
     "name": "stderr",
     "output_type": "stream",
     "text": [
      "c:\\Users\\rvv19\\AppData\\Local\\Programs\\Python\\Python312\\Lib\\site-packages\\sklearn\\metrics\\_classification.py:1531: UndefinedMetricWarning: Precision is ill-defined and being set to 0.0 in labels with no predicted samples. Use `zero_division` parameter to control this behavior.\n",
      "  _warn_prf(average, modifier, f\"{metric.capitalize()} is\", len(result))\n"
     ]
    }
   ],
   "source": [
    "import pandas as pd\n",
    "from sklearn.feature_extraction.text import TfidfVectorizer\n",
    "from sklearn.model_selection import train_test_split\n",
    "from sklearn.linear_model import LogisticRegression\n",
    "from sklearn.metrics import classification_report\n",
    "\n",
    "# Загрузка датасетов (предполагается, что в каждом файле есть колонки \"text\" и \"emotion\")\n",
    "dataset1 = pd.read_csv(\"goemo.csv\")\n",
    "dataset2 = pd.read_csv(\"CEDR.csv\")\n",
    "dataset1['emotion'] = dataset1[EMOTIONS].idxmax(axis=1)\n",
    "dataset2['emotion'] = dataset2[EMOTIONS].idxmax(axis=1)\n",
    "#############################################\n",
    "# 1. Бинарная классификация источников данных\n",
    "#############################################\n",
    "\n",
    "# Добавляем метку источника: 0 для dataset1 и 1 для dataset2\n",
    "dataset1['source'] = 0\n",
    "dataset2['source'] = 1\n",
    "\n",
    "# Объединяем датасеты\n",
    "combined_df = pd.concat([dataset1, dataset2], ignore_index=True)\n",
    "combined_df = combined_df.sample(frac=1, random_state=42).reset_index(drop=True)  # перемешиваем данные\n",
    "\n",
    "# Преобразование текста в признаки с использованием TF-IDF\n",
    "vectorizer = TfidfVectorizer(max_features=10000, stop_words='english')\n",
    "X_combined = vectorizer.fit_transform(combined_df['text'])\n",
    "y_combined = combined_df['source']\n",
    "\n",
    "# Разбиваем на обучающую и тестовую выборки\n",
    "X_train, X_test, y_train, y_test = train_test_split(X_combined, y_combined, test_size=0.3, random_state=42)\n",
    "\n",
    "# Обучаем классификатор (логистическая регрессия)\n",
    "clf_binary = LogisticRegression(max_iter=1000)\n",
    "clf_binary.fit(X_train, y_train)\n",
    "y_pred = clf_binary.predict(X_test)\n",
    "\n",
    "print(\"=== Binary Classification Report ===\")\n",
    "print(classification_report(y_test, y_pred))\n",
    "# Если точность близка к 50%, модели не удается отличить источник, что указывает на схожесть датасетов.\n",
    "\n",
    "#####################################################\n",
    "# 2. Кросс-доменальная классификация для эмоций\n",
    "#####################################################\n",
    "\n",
    "# a) Обучение на dataset1, тестирование на dataset2\n",
    "vectorizer_emotion = TfidfVectorizer(max_features=10000)\n",
    "X_train_emotion = vectorizer_emotion.fit_transform(dataset1['text'])\n",
    "X_test_emotion = vectorizer_emotion.transform(dataset2['text'])\n",
    "y_train_emotion = dataset1['emotion']\n",
    "y_test_emotion = dataset2['emotion']\n",
    "\n",
    "clf_emotion = LogisticRegression(max_iter=1000)\n",
    "clf_emotion.fit(X_train_emotion, y_train_emotion)\n",
    "y_pred_emotion = clf_emotion.predict(X_test_emotion)\n",
    "\n",
    "print(\"\\n=== Cross-Domain Emotion Classification Report ===\")\n",
    "print(\"Train on dataset1, Test on dataset2:\")\n",
    "print(classification_report(y_test_emotion, y_pred_emotion))\n",
    "\n",
    "# b) При желании можно провести обратный эксперимент: обучение на dataset2, тестирование на dataset1\n",
    "vectorizer_emotion_2 = TfidfVectorizer(max_features=10000)\n",
    "X_train_emotion_2 = vectorizer_emotion_2.fit_transform(dataset2['text'])\n",
    "X_test_emotion_2 = vectorizer_emotion_2.transform(dataset1['text'])\n",
    "y_train_emotion_2 = dataset2['emotion']\n",
    "y_test_emotion_2 = dataset1['emotion']\n",
    "\n",
    "clf_emotion_2 = LogisticRegression(max_iter=1000)\n",
    "clf_emotion_2.fit(X_train_emotion_2, y_train_emotion_2)\n",
    "y_pred_emotion_2 = clf_emotion_2.predict(X_test_emotion_2)\n",
    "\n",
    "print(\"\\nTrain on dataset2, Test on dataset1:\")\n",
    "print(classification_report(y_test_emotion_2, y_pred_emotion_2))\n",
    "\n",
    "# Интерпретация:\n",
    "# - Если модель для бинарной классификации показывает точность около 50%, это говорит о том,\n",
    "#   что датасеты сложно отличить по текстовым характеристикам.\n",
    "# - Если кросс-доменальная классификация эмоций даёт схожие результаты с внутренней валидацией,\n",
    "#   можно предположить, что распределения эмоций и лингвистические особенности текстов схожи.\n"
   ]
  },
  {
   "cell_type": "code",
   "execution_count": null,
   "metadata": {},
   "outputs": [],
   "source": [
    "\n",
    "df1 = pd.read_csv('XED.csv')\n",
    "df2 = pd.read_csv('goemo.csv')\n",
    "\n",
    "df1['text'] = df1['text'].apply(cleaner)\n",
    "df2['text'] = df2['text'].apply(cleaner)\n",
    "df1['emotion'] = df1[EMOTIONS].idxmax(axis=1)\n",
    "df2['emotion'] = df2[EMOTIONS].idxmax(axis=1)"
   ]
  },
  {
   "cell_type": "code",
   "execution_count": null,
   "metadata": {},
   "outputs": [
    {
     "name": "stdout",
     "output_type": "stream",
     "text": [
      "Chi-square test: p-value = 0.0\n",
      "Kolmogorov-Smirnov test: p-value = 0.0\n",
      "Mann-Whitney U test: p-value = 0.0\n",
      "Classifier accuracy: 0.93040539\n"
     ]
    },
    {
     "data": {
      "image/png": "[encoded data removed]",
      "text/plain": [
       "<Figure size 1200x500 with 2 Axes>"
      ]
     },
     "metadata": {},
     "output_type": "display_data"
    },
    {
     "name": "stdout",
     "output_type": "stream",
     "text": [
      "\n",
      "Interpretation:\n",
      "- Emotion distributions are DIFFERENT (p <= 0.05)\n",
      "- Texts are DIFFERENT (classifier can distinguish datasets) acc = 0.9304053857138693\n"
     ]
    }
   ],
   "source": [
    "\n",
    "\n",
    "# Запуск всех тестов\n",
    "p_emotion = compare_emotions_distribution(df1, df2)\n",
    "p_length = compare_text_length(df1, df2)\n",
    "classifier_acc = dataset_classifier_test(df1, df2)\n",
    "plot_distributions(df1, df2)\n",
    "\n",
    "# Интерпретация результатов\n",
    "print(\"\\nInterpretation:\")\n",
    "if p_emotion > 0.05:\n",
    "    print(\"- Emotion distributions are similar (p > 0.05)\")\n",
    "else:\n",
    "    print(\"- Emotion distributions are DIFFERENT (p <= 0.05)\")\n",
    "\n",
    "if classifier_acc < 0.6:\n",
    "    print(\"- Texts are similar (classifier cannot distinguish datasets)\")\n",
    "else:\n",
    "    print(f\"- Texts are DIFFERENT (classifier can distinguish datasets) acc = {classifier_acc}\")"
   ]
  },
  {
   "cell_type": "code",
   "execution_count": null,
   "metadata": {},
   "outputs": [
    {
     "name": "stderr",
     "output_type": "stream",
     "text": [
      "c:\\Users\\rvv19\\AppData\\Local\\Programs\\Python\\Python312\\Lib\\site-packages\\transformers\\tokenization_utils_base.py:1601: FutureWarning: `clean_up_tokenization_spaces` was not set. It will be set to `True` by default. This behavior will be depracted in transformers v4.45, and will be then set to `False` by default. For more details check this issue: https://github.com/huggingface/transformers/issues/31884\n",
      "  warnings.warn(\n"
     ]
    },
    {
     "data": {
      "application/vnd.jupyter.widget-view+json": {
       "model_id": "48aa7539e5cd498ea9f3d8a7ad341b1f",
       "version_major": 2,
       "version_minor": 0
      },
      "text/plain": [
       "Batches:   0%|          | 0/783 [00:00<?, ?it/s]"
      ]
     },
     "metadata": {},
     "output_type": "display_data"
    },
    {
     "name": "stdout",
     "output_type": "stream",
     "text": [
      "=== Отчет по бинарной классификации источников (BERT эмбеддинги) ===\n",
      "              precision    recall  f1-score   support\n",
      "\n",
      "           0       0.92      0.96      0.94      5222\n",
      "           1       0.91      0.82      0.86      2295\n",
      "\n",
      "    accuracy                           0.92      7517\n",
      "   macro avg       0.92      0.89      0.90      7517\n",
      "weighted avg       0.92      0.92      0.92      7517\n",
      "\n"
     ]
    },
    {
     "data": {
      "application/vnd.jupyter.widget-view+json": {
       "model_id": "2d5259ad957543cb9804bc6a5fabbc1a",
       "version_major": 2,
       "version_minor": 0
      },
      "text/plain": [
       "Batches:   0%|          | 0/548 [00:00<?, ?it/s]"
      ]
     },
     "metadata": {},
     "output_type": "display_data"
    },
    {
     "data": {
      "application/vnd.jupyter.widget-view+json": {
       "model_id": "f9ff677ecce34508bde16fa83db31720",
       "version_major": 2,
       "version_minor": 0
      },
      "text/plain": [
       "Batches:   0%|          | 0/236 [00:00<?, ?it/s]"
      ]
     },
     "metadata": {},
     "output_type": "display_data"
    },
    {
     "name": "stdout",
     "output_type": "stream",
     "text": [
      "\n",
      "=== Кросс-доменальная классификация эмоций (Обучение: dataset1, Тестирование: dataset2) ===\n",
      "              precision    recall  f1-score   support\n",
      "\n",
      "       anger       0.05      0.75      0.10       411\n",
      "     disgust       0.00      0.00      0.00         0\n",
      "        fear       0.09      0.01      0.02       585\n",
      "         joy       0.25      0.11      0.15      1551\n",
      "     neutral       0.50      0.00      0.01      3043\n",
      "     sadness       0.20      0.01      0.02      1370\n",
      "    surprise       0.23      0.02      0.03       568\n",
      "\n",
      "    accuracy                           0.07      7528\n",
      "   macro avg       0.19      0.13      0.05      7528\n",
      "weighted avg       0.32      0.07      0.05      7528\n",
      "\n"
     ]
    },
    {
     "name": "stderr",
     "output_type": "stream",
     "text": [
      "c:\\Users\\rvv19\\AppData\\Local\\Programs\\Python\\Python312\\Lib\\site-packages\\sklearn\\metrics\\_classification.py:1531: UndefinedMetricWarning: Recall is ill-defined and being set to 0.0 in labels with no true samples. Use `zero_division` parameter to control this behavior.\n",
      "  _warn_prf(average, modifier, f\"{metric.capitalize()} is\", len(result))\n",
      "c:\\Users\\rvv19\\AppData\\Local\\Programs\\Python\\Python312\\Lib\\site-packages\\sklearn\\metrics\\_classification.py:1531: UndefinedMetricWarning: Recall is ill-defined and being set to 0.0 in labels with no true samples. Use `zero_division` parameter to control this behavior.\n",
      "  _warn_prf(average, modifier, f\"{metric.capitalize()} is\", len(result))\n",
      "c:\\Users\\rvv19\\AppData\\Local\\Programs\\Python\\Python312\\Lib\\site-packages\\sklearn\\metrics\\_classification.py:1531: UndefinedMetricWarning: Recall is ill-defined and being set to 0.0 in labels with no true samples. Use `zero_division` parameter to control this behavior.\n",
      "  _warn_prf(average, modifier, f\"{metric.capitalize()} is\", len(result))\n"
     ]
    },
    {
     "name": "stdout",
     "output_type": "stream",
     "text": [
      "\n",
      "=== Кросс-доменальная классификация эмоций (Обучение: dataset2, Тестирование: dataset1) ===\n",
      "              precision    recall  f1-score   support\n",
      "\n",
      "       anger       0.45      0.04      0.07      6903\n",
      "     disgust       0.00      0.00      0.00      1660\n",
      "        fear       0.14      0.12      0.13      1904\n",
      "         joy       0.17      0.27      0.21      2241\n",
      "     neutral       0.10      0.41      0.16      1617\n",
      "     sadness       0.15      0.23      0.18      1745\n",
      "    surprise       0.20      0.32      0.24      1458\n",
      "\n",
      "    accuracy                           0.15     17528\n",
      "   macro avg       0.17      0.20      0.14     17528\n",
      "weighted avg       0.26      0.15      0.12     17528\n",
      "\n"
     ]
    },
    {
     "name": "stderr",
     "output_type": "stream",
     "text": [
      "c:\\Users\\rvv19\\AppData\\Local\\Programs\\Python\\Python312\\Lib\\site-packages\\sklearn\\metrics\\_classification.py:1531: UndefinedMetricWarning: Precision is ill-defined and being set to 0.0 in labels with no predicted samples. Use `zero_division` parameter to control this behavior.\n",
      "  _warn_prf(average, modifier, f\"{metric.capitalize()} is\", len(result))\n",
      "c:\\Users\\rvv19\\AppData\\Local\\Programs\\Python\\Python312\\Lib\\site-packages\\sklearn\\metrics\\_classification.py:1531: UndefinedMetricWarning: Precision is ill-defined and being set to 0.0 in labels with no predicted samples. Use `zero_division` parameter to control this behavior.\n",
      "  _warn_prf(average, modifier, f\"{metric.capitalize()} is\", len(result))\n",
      "c:\\Users\\rvv19\\AppData\\Local\\Programs\\Python\\Python312\\Lib\\site-packages\\sklearn\\metrics\\_classification.py:1531: UndefinedMetricWarning: Precision is ill-defined and being set to 0.0 in labels with no predicted samples. Use `zero_division` parameter to control this behavior.\n",
      "  _warn_prf(average, modifier, f\"{metric.capitalize()} is\", len(result))\n"
     ]
    }
   ],
   "source": [
    "import pandas as pd\n",
    "from sentence_transformers import SentenceTransformer\n",
    "from sklearn.linear_model import LogisticRegression\n",
    "from sklearn.model_selection import train_test_split\n",
    "from sklearn.metrics import classification_report\n",
    "\n",
    "# Загрузка датасетов (предполагается, что файлы 'dataset1.csv' и 'dataset2.csv'\n",
    "# содержат колонки \"text\" и \"emotion\")\n",
    "dataset1 = pd.read_csv(\"XED.csv\")\n",
    "dataset2 = pd.read_csv(\"CEDR.csv\")\n",
    "dataset1['emotion'] = dataset1[EMOTIONS].idxmax(axis=1)\n",
    "dataset2['emotion'] = dataset2[EMOTIONS].idxmax(axis=1)\n",
    "# Инициализация модели для получения эмбеддингов BERT.\n",
    "# Здесь используется легкая модель для ускорения вычислений.\n",
    "model = SentenceTransformer('paraphrase-MiniLM-L6-v2')\n",
    "\n",
    "#############################################\n",
    "# 1. Бинарная классификация источников данных\n",
    "#############################################\n",
    "\n",
    "# Добавляем метку источника: 0 для dataset1, 1 для dataset2\n",
    "dataset1['source'] = 0\n",
    "dataset2['source'] = 1\n",
    "\n",
    "# Объединяем датасеты и перемешиваем записи\n",
    "combined_df = pd.concat([dataset1, dataset2], ignore_index=True)\n",
    "combined_df = combined_df.sample(frac=1, random_state=42).reset_index(drop=True)\n",
    "\n",
    "# Вычисляем эмбеддинги для всех текстов\n",
    "texts_combined = combined_df['text'].tolist()\n",
    "embeddings_combined = model.encode(texts_combined, show_progress_bar=True)\n",
    "\n",
    "# Подготовка признаков и меток\n",
    "X = embeddings_combined\n",
    "y = combined_df['source'].values\n",
    "\n",
    "# Разбивка на обучающую и тестовую выборки\n",
    "X_train, X_test, y_train, y_test = train_test_split(X, y, test_size=0.3, random_state=42)\n",
    "\n",
    "# Обучение классификатора (логистическая регрессия)\n",
    "clf_binary = LogisticRegression(max_iter=1000)\n",
    "clf_binary.fit(X_train, y_train)\n",
    "y_pred = clf_binary.predict(X_test)\n",
    "\n",
    "print(\"=== Отчет по бинарной классификации источников (BERT эмбеддинги) ===\")\n",
    "print(classification_report(y_test, y_pred))\n",
    "\n",
    "\n",
    "#############################################\n",
    "# 2. Кросс-доменальная классификация эмоций\n",
    "#############################################\n",
    "\n",
    "# Вычисляем эмбеддинги для каждого датасета отдельно\n",
    "texts1 = dataset1['text'].tolist()\n",
    "texts2 = dataset2['text'].tolist()\n",
    "\n",
    "embeddings1 = model.encode(texts1, show_progress_bar=True)\n",
    "embeddings2 = model.encode(texts2, show_progress_bar=True)\n",
    "\n",
    "# a) Обучение на dataset1, тестирование на dataset2\n",
    "X_train_emotion = embeddings1\n",
    "y_train_emotion = dataset1['emotion'].values\n",
    "\n",
    "X_test_emotion = embeddings2\n",
    "y_test_emotion = dataset2['emotion'].values\n",
    "\n",
    "clf_emotion = LogisticRegression(max_iter=1000)\n",
    "clf_emotion.fit(X_train_emotion, y_train_emotion)\n",
    "y_pred_emotion = clf_emotion.predict(X_test_emotion)\n",
    "\n",
    "print(\"\\n=== Кросс-доменальная классификация эмоций (Обучение: dataset1, Тестирование: dataset2) ===\")\n",
    "print(classification_report(y_test_emotion, y_pred_emotion))\n",
    "\n",
    "# b) Обратный эксперимент: обучение на dataset2, тестирование на dataset1\n",
    "clf_emotion_2 = LogisticRegression(max_iter=1000)\n",
    "clf_emotion_2.fit(embeddings2, dataset2['emotion'].values)\n",
    "y_pred_emotion_2 = clf_emotion_2.predict(embeddings1)\n",
    "\n",
    "print(\"\\n=== Кросс-доменальная классификация эмоций (Обучение: dataset2, Тестирование: dataset1) ===\")\n",
    "print(classification_report(dataset1['emotion'].values, y_pred_emotion_2))"
   ]
  }
 ],
 "metadata": {
  "kernelspec": {
   "display_name": "Python 3",
   "language": "python",
   "name": "python3"
  },
  "language_info": {
   "codemirror_mode": {
    "name": "ipython",
    "version": 3
   },
   "file_extension": ".py",
   "mimetype": "text/x-python",
   "name": "python",
   "nbconvert_exporter": "python",
   "pygments_lexer": "ipython3",
   "version": "3.12.4"
  }
 },
 "nbformat": 4,
 "nbformat_minor": 2
}
