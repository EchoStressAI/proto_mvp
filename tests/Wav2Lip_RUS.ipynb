{
  "nbformat": 4,
  "nbformat_minor": 0,
  "metadata": {
    "colab": {
      "name": "Wav2Lip RUS.ipynb",
      "provenance": []
    },
    "kernelspec": {
      "name": "python3",
      "display_name": "Python 3"
    },
    "accelerator": "GPU"
  },
  "cells": [
    {
      "cell_type": "markdown",
      "metadata": {
        "id": "r2JvhcRNGa7H"
      },
      "source": [
        "<b><font color=\"black\" size=\"+4\">Wav2Lip Colab Rus</font></b>\n",
        "\n",
        "<b><font color=\"black\" size=\"+2\">Базируется на:</font></b>\n",
        "\n",
        "**GitHub репозиторий**: [Wav2Lip](https://github.com/Rudrabha/Wav2Lip)\n",
        "\n",
        "Статья: [A Lip Sync Expert Is All You Need for Speech to Lip Generation In The Wild](http://arxiv.org/abs/2008.10010)\n",
        "\n",
        "Авторы: **[K R Prajwal](https://scholar.google.co.in/citations?user=C-wGb2sAAAAJ&hl=en), [Rudrabha Mukhopadhyay](https://scholar.google.com/citations?user=sbkDAPcAAAAJ&hl=en), [Vinay P. Namboodiri](https://vinaypn.github.io/), [C V Jawahar](https://faculty.iiit.ac.in/~jawahar/index.html).**\n",
        "\n",
        "<b><font color=\"black\" size=\"+2\">Колаб собрал:</font></b>\n",
        "\n",
        "GitHub: [@tg-bomze](https://github.com/tg-bomze),\n",
        "Telegram: [@bomze](https://t.me/bomze),\n",
        "Twitter: [@tg_bomze](https://twitter.com/tg_bomze).\n",
        "\n",
        "\n",
        "```\n",
        "Далее тыкай на кнопки (куда указывает красная стрелка) в каждом блоке поочередно. После нажатия дождись окончания выполнения.\n",
        "```\n",
        "\n"
      ]
    },
    {
      "cell_type": "code",
      "metadata": {
        "id": "P3LihClHbUd3"
      },
      "source": [
        "#@title <b><font color=\"red\" size=\"+3\">←</font><font color=\"black\" size=\"+3\"> Клонируем репозиторий и устанавливаем все необходимые компоненты</font></b>\n",
        "\n",
        "import warnings\n",
        "from google.colab import drive\n",
        "from IPython.display import clear_output\n",
        "from google.colab import files\n",
        "import os\n",
        "warnings.filterwarnings(\"ignore\")\n",
        "\n",
        "if 'Wav2Lip' not in os.listdir('/content/'):\n",
        "  !sudo apt-get upgrade ffmpeg\n",
        "  !git clone https://github.com/tg-bomze/Wav2Lip.git\n",
        "  !pip install -r /content/Wav2Lip/requirements.txt\n",
        "  !pip install numba==0.48\n",
        "%cd /content/Wav2Lip\n",
        "clear_output()"
      ],
      "execution_count": null,
      "outputs": []
    },
    {
      "cell_type": "code",
      "metadata": {
        "id": "qciH4PsUazL_",
        "cellView": "form"
      },
      "source": [
        "#@title <b><font color=\"red\" size=\"+3\">←</font><font color=\"black\" size=\"+3\"> Сохраняем веса предобученной модели и копируем их в Колаб</font></b>\n",
        "#@markdown **Перейдите по следующей ссылке:**\n",
        "\n",
        "#@markdown **https://drive.google.com/drive/folders/1iuMEdkcG0gmER2SPpO6y3TnIttYdk438**\n",
        "\n",
        "#@markdown **1) ткните правой кнопкой мыши по 'Wav2lip' (сверху по центру)**\n",
        "\n",
        "#@markdown **2) нажмите 'Добавить ярлык на Диск'**\n",
        "\n",
        "#@markdown ![](https://raw.githubusercontent.com/tg-bomze/Wav2Lip/master/wav2lip_example.png)\n",
        "\n",
        "#@markdown **3) запустите этот блок и следуйте дальнейшей инструкции**\n",
        "\n",
        "#@markdown *Внимание! Если веса уже сохранены, то только запустите этот блок и смонтируйте Гугл Драйв.*\n",
        "%tensorflow_version 1.x\n",
        "import tensorflow as tf\n",
        "clear_output()\n",
        "print(\"Перейдите по ссылке ниже, выберите аккаунт, куда сохранили предобученную модель,\")\n",
        "print(\"нажмите на кнопку 'Разрешить', скопируйте авторизационный код в нижнее поле и нажмите Enter.\")\n",
        "drive.mount('/content/drive')\n",
        "clear_output()\n",
        "print(\"0%/100%   Copying has started.\")\n",
        "!cp -ri \"/content/drive/My Drive/Wav2lip/wav2lip_gan.pth\" /content/Wav2Lip/checkpoints/\n",
        "print(\"80%/100%  Checkpoints copied\")\n",
        "!cp -ri \"/content/drive/My Drive/Wav2lip/s3fd.pth\" /content/Wav2Lip/face_detection/detection/sfd/\n",
        "print(\"100%/100% Dictionary copied\")\n",
        "clear_output()"
      ],
      "execution_count": null,
      "outputs": []
    },
    {
      "cell_type": "code",
      "metadata": {
        "id": "AAZumrSfgQrH"
      },
      "source": [
        "#@title <b><font color=\"red\" size=\"+3\">←</font><font color=\"black\" size=\"+3\"> Загружаем видеофайл с лицом</font></b>\n",
        "\n",
        "uploaded = list(files.upload().keys())\n",
        "\n",
        "if len(uploaded) > 1:\n",
        "  raise ValueError('You cannot upload more than one video at a time!')\n",
        "\n",
        "vid = uploaded[0]\n",
        "os.rename(vid, vid.replace(\" \", \"\"))\n",
        "vid = vid.replace(\" \", \"\")\n",
        "vid_name = \"video.\" + vid.split(\".\")[-1]\n",
        "!mv -f $vid $vid_name\n",
        "vid = '/content/Wav2Lip/' + vid_name\n",
        "clear_output()\n",
        "print(\"Uploaded!\")"
      ],
      "execution_count": null,
      "outputs": []
    },
    {
      "cell_type": "code",
      "metadata": {
        "id": "L1UguvFWgeT7"
      },
      "source": [
        "#@title <b><font color=\"red\" size=\"+3\">←</font><font color=\"black\" size=\"+3\"> Загружаем аудиофайл (или видео) с речью</font></b>\n",
        "\n",
        "uploaded = list(files.upload().keys())\n",
        "\n",
        "if len(uploaded) > 1:\n",
        "  raise ValueError('You cannot upload more than one video at a time!')\n",
        "\n",
        "aud = uploaded[0]\n",
        "os.rename(aud, aud.replace(\" \", \"\"))\n",
        "aud = aud.replace(\" \", \"\")\n",
        "aud_name = \"audio.\" + aud.split(\".\")[-1]\n",
        "!mv -f $aud $aud_name\n",
        "aud = '/content/Wav2Lip/' + aud_name\n",
        "clear_output()\n",
        "print(\"Uploaded!\")"
      ],
      "execution_count": null,
      "outputs": []
    },
    {
      "cell_type": "code",
      "metadata": {
        "id": "1EAgQmcRkI1f"
      },
      "source": [
        "#@title <b><font color=\"red\" size=\"+3\">←</font><font color=\"black\" size=\"+3\"> Синхронизируем движение губ</font></b>\n",
        "\n",
        "%%time\n",
        "!python inference.py --checkpoint_path checkpoints/wav2lip_gan.pth --face $vid --audio $aud\n",
        "if 'result_voice.mp4' in os.listdir('/content/Wav2Lip/results/'):\n",
        "  clear_output()\n",
        "  print('Все отлично. Файл сгенерировался!')\n",
        "else:\n",
        "  print('\\nВозникли какие-то проблемы. Файл не сгенерировался')"
      ],
      "execution_count": null,
      "outputs": []
    },
    {
      "cell_type": "code",
      "metadata": {
        "id": "_nBRvdP9jICw",
        "cellView": "form"
      },
      "source": [
        "#@title <b><font color=\"red\" size=\"+3\">←</font><font color=\"black\" size=\"+3\"> Скачиваем итоговый результат</font></b>\n",
        "files.download('/content/Wav2Lip/results/result_voice.mp4')"
      ],
      "execution_count": null,
      "outputs": []
    }
  ]
}